{
 "cells": [
  {
   "cell_type": "code",
   "execution_count": 1,
   "metadata": {},
   "outputs": [
    {
     "name": "stdout",
     "output_type": "stream",
     "text": [
      "Wed Aug 21 00:09:13 2024       \n",
      "+---------------------------------------------------------------------------------------+\n",
      "| NVIDIA-SMI 535.183.06             Driver Version: 535.183.06   CUDA Version: 12.2     |\n",
      "|-----------------------------------------+----------------------+----------------------+\n",
      "| GPU  Name                 Persistence-M | Bus-Id        Disp.A | Volatile Uncorr. ECC |\n",
      "| Fan  Temp   Perf          Pwr:Usage/Cap |         Memory-Usage | GPU-Util  Compute M. |\n",
      "|                                         |                      |               MIG M. |\n",
      "|=========================================+======================+======================|\n",
      "|   0  NVIDIA GeForce GTX 1650        On  | 00000000:01:00.0 Off |                  N/A |\n",
      "| N/A   58C    P8               1W /  50W |      5MiB /  4096MiB |      0%      Default |\n",
      "|                                         |                      |                  N/A |\n",
      "+-----------------------------------------+----------------------+----------------------+\n",
      "                                                                                         \n",
      "+---------------------------------------------------------------------------------------+\n",
      "| Processes:                                                                            |\n",
      "|  GPU   GI   CI        PID   Type   Process name                            GPU Memory |\n",
      "|        ID   ID                                                             Usage      |\n",
      "|=======================================================================================|\n",
      "|    0   N/A  N/A      1649      G   /usr/lib/xorg/Xorg                            4MiB |\n",
      "+---------------------------------------------------------------------------------------+\n"
     ]
    }
   ],
   "source": [
    "!nvidia-smi"
   ]
  },
  {
   "cell_type": "markdown",
   "metadata": {},
   "source": [
    "# Installing Packages"
   ]
  },
  {
   "cell_type": "code",
   "execution_count": 2,
   "metadata": {},
   "outputs": [
    {
     "name": "stdout",
     "output_type": "stream",
     "text": [
      "Found existing installation: gdown 5.2.0\n",
      "Uninstalling gdown-5.2.0:\n",
      "  Successfully uninstalled gdown-5.2.0\n",
      "Collecting gdown\n",
      "  Using cached gdown-5.2.0-py3-none-any.whl.metadata (5.8 kB)\n",
      "Requirement already satisfied: beautifulsoup4 in /home/sameerhashmi36/miniconda3/envs/test/lib/python3.10/site-packages (from gdown) (4.12.3)\n",
      "Requirement already satisfied: filelock in /home/sameerhashmi36/miniconda3/envs/test/lib/python3.10/site-packages (from gdown) (3.14.0)\n",
      "Requirement already satisfied: requests[socks] in /home/sameerhashmi36/miniconda3/envs/test/lib/python3.10/site-packages (from gdown) (2.32.2)\n",
      "Requirement already satisfied: tqdm in /home/sameerhashmi36/miniconda3/envs/test/lib/python3.10/site-packages (from gdown) (4.66.4)\n",
      "Requirement already satisfied: soupsieve>1.2 in /home/sameerhashmi36/miniconda3/envs/test/lib/python3.10/site-packages (from beautifulsoup4->gdown) (2.5)\n",
      "Requirement already satisfied: charset-normalizer<4,>=2 in /home/sameerhashmi36/miniconda3/envs/test/lib/python3.10/site-packages (from requests[socks]->gdown) (3.3.2)\n",
      "Requirement already satisfied: idna<4,>=2.5 in /home/sameerhashmi36/miniconda3/envs/test/lib/python3.10/site-packages (from requests[socks]->gdown) (3.7)\n",
      "Requirement already satisfied: urllib3<3,>=1.21.1 in /home/sameerhashmi36/miniconda3/envs/test/lib/python3.10/site-packages (from requests[socks]->gdown) (2.2.1)\n",
      "Requirement already satisfied: certifi>=2017.4.17 in /home/sameerhashmi36/miniconda3/envs/test/lib/python3.10/site-packages (from requests[socks]->gdown) (2024.2.2)\n",
      "Requirement already satisfied: PySocks!=1.5.7,>=1.5.6 in /home/sameerhashmi36/miniconda3/envs/test/lib/python3.10/site-packages (from requests[socks]->gdown) (1.7.1)\n",
      "Using cached gdown-5.2.0-py3-none-any.whl (18 kB)\n",
      "Installing collected packages: gdown\n",
      "Successfully installed gdown-5.2.0\n",
      "Requirement already satisfied: einops in /home/sameerhashmi36/miniconda3/envs/test/lib/python3.10/site-packages (0.8.0)\n",
      "Requirement already satisfied: transformers in /home/sameerhashmi36/miniconda3/envs/test/lib/python3.10/site-packages (4.44.0)\n",
      "Requirement already satisfied: filelock in /home/sameerhashmi36/miniconda3/envs/test/lib/python3.10/site-packages (from transformers) (3.14.0)\n",
      "Requirement already satisfied: huggingface-hub<1.0,>=0.23.2 in /home/sameerhashmi36/miniconda3/envs/test/lib/python3.10/site-packages (from transformers) (0.24.5)\n",
      "Requirement already satisfied: numpy>=1.17 in /home/sameerhashmi36/miniconda3/envs/test/lib/python3.10/site-packages (from transformers) (1.26.4)\n",
      "Requirement already satisfied: packaging>=20.0 in /home/sameerhashmi36/miniconda3/envs/test/lib/python3.10/site-packages (from transformers) (24.0)\n",
      "Requirement already satisfied: pyyaml>=5.1 in /home/sameerhashmi36/miniconda3/envs/test/lib/python3.10/site-packages (from transformers) (6.0.1)\n",
      "Requirement already satisfied: regex!=2019.12.17 in /home/sameerhashmi36/miniconda3/envs/test/lib/python3.10/site-packages (from transformers) (2024.7.24)\n",
      "Requirement already satisfied: requests in /home/sameerhashmi36/miniconda3/envs/test/lib/python3.10/site-packages (from transformers) (2.32.2)\n",
      "Requirement already satisfied: safetensors>=0.4.1 in /home/sameerhashmi36/miniconda3/envs/test/lib/python3.10/site-packages (from transformers) (0.4.4)\n",
      "Requirement already satisfied: tokenizers<0.20,>=0.19 in /home/sameerhashmi36/miniconda3/envs/test/lib/python3.10/site-packages (from transformers) (0.19.1)\n",
      "Requirement already satisfied: tqdm>=4.27 in /home/sameerhashmi36/miniconda3/envs/test/lib/python3.10/site-packages (from transformers) (4.66.4)\n",
      "Requirement already satisfied: fsspec>=2023.5.0 in /home/sameerhashmi36/miniconda3/envs/test/lib/python3.10/site-packages (from huggingface-hub<1.0,>=0.23.2->transformers) (2024.5.0)\n",
      "Requirement already satisfied: typing-extensions>=3.7.4.3 in /home/sameerhashmi36/miniconda3/envs/test/lib/python3.10/site-packages (from huggingface-hub<1.0,>=0.23.2->transformers) (4.11.0)\n",
      "Requirement already satisfied: charset-normalizer<4,>=2 in /home/sameerhashmi36/miniconda3/envs/test/lib/python3.10/site-packages (from requests->transformers) (3.3.2)\n",
      "Requirement already satisfied: idna<4,>=2.5 in /home/sameerhashmi36/miniconda3/envs/test/lib/python3.10/site-packages (from requests->transformers) (3.7)\n",
      "Requirement already satisfied: urllib3<3,>=1.21.1 in /home/sameerhashmi36/miniconda3/envs/test/lib/python3.10/site-packages (from requests->transformers) (2.2.1)\n",
      "Requirement already satisfied: certifi>=2017.4.17 in /home/sameerhashmi36/miniconda3/envs/test/lib/python3.10/site-packages (from requests->transformers) (2024.2.2)\n"
     ]
    }
   ],
   "source": [
    "!pip uninstall gdown -y && pip install gdown\n",
    "!pip install einops transformers"
   ]
  },
  {
   "cell_type": "markdown",
   "metadata": {},
   "source": [
    "# Some boilerplate code and imports need to for running the rest of the notebook"
   ]
  },
  {
   "cell_type": "code",
   "execution_count": 3,
   "metadata": {},
   "outputs": [],
   "source": [
    "import copy\n",
    "import os\n",
    "import random\n",
    "\n",
    "from einops import rearrange, repeat\n",
    "from einops.layers.torch import Rearrange\n",
    "from matplotlib import pyplot as plt\n",
    "import numpy as np\n",
    "import torch\n",
    "import torch.fft\n",
    "from torch import nn, einsum\n",
    "import torch.nn.functional as F\n",
    "from torch.optim.lr_scheduler import CosineAnnealingLR, OneCycleLR\n",
    "from torch.utils.data import DataLoader, Subset\n",
    "from torchaudio.datasets import SPEECHCOMMANDS\n",
    "from transformers.models.wav2vec2.modeling_wav2vec2 import _compute_mask_indices\n",
    "from tqdm.notebook import tqdm"
   ]
  },
  {
   "cell_type": "code",
   "execution_count": 4,
   "metadata": {},
   "outputs": [],
   "source": [
    "class PreNorm(nn.Module):\n",
    "    \"\"\"\n",
    "    Pre layer normalization\n",
    "    \"\"\"\n",
    "    def __init__(self, dim, fn):\n",
    "        \"\"\"\n",
    "        Initialises PreNorm module\n",
    "        :param dim: model dimension\n",
    "        :param fn: torch module\n",
    "        \"\"\"\n",
    "        super().__init__()\n",
    "        self.norm = nn.LayerNorm(dim)\n",
    "        self.fn = fn\n",
    "\n",
    "    def forward(self, x, **kwargs):\n",
    "        \"\"\"\n",
    "        Forward method for PreNorm module\n",
    "        :param x: input tensor\n",
    "        :param kwargs: Keyword arguments\n",
    "        :return:\n",
    "        \"\"\"\n",
    "        return self.fn(self.norm(x), **kwargs)\n",
    "\n",
    "\n",
    "class PostNorm(nn.Module):\n",
    "    \"\"\"\n",
    "    Post layer normalization\n",
    "    \"\"\"\n",
    "    def __init__(self, dim, fn):\n",
    "        \"\"\"\n",
    "        Initialises PostNorm module\n",
    "        :param dim: model dimension\n",
    "        :param fn: torch module\n",
    "        \"\"\"\n",
    "        super().__init__()\n",
    "        self.norm = nn.LayerNorm(dim)\n",
    "        self.fn = fn\n",
    "\n",
    "    def forward(self, x, **kwargs):\n",
    "        \"\"\"\n",
    "        Forward method for PostNorm module\n",
    "        :param x: input tensor\n",
    "        :param kwargs: Keyword arguments\n",
    "        :return: PostNorm output\n",
    "        \"\"\"\n",
    "        return self.norm(self.fn(x, **kwargs))\n",
    "\n",
    "\n",
    "class FeedForward(nn.Module):\n",
    "    \"\"\"\n",
    "    Feed forward model\n",
    "    \"\"\"\n",
    "    def __init__(self, dim, hidden_dim, dropout=0.):\n",
    "        \"\"\"\n",
    "        Initialises FeedForward module\n",
    "        :param dim: feedforward dim\n",
    "        :param hidden_dim: hidden dimension of feedforward layer\n",
    "        :param dropout: feedforward dropout percentage\n",
    "        \"\"\"\n",
    "        super().__init__()\n",
    "        self.net = nn.Sequential(\n",
    "            nn.Linear(dim, hidden_dim),\n",
    "            nn.GELU(),\n",
    "            nn.Dropout(dropout),\n",
    "            nn.Linear(hidden_dim, dim),\n",
    "            nn.Dropout(dropout)\n",
    "        )\n",
    "\n",
    "    def forward(self, x):\n",
    "        \"\"\"\n",
    "        Forward method for feedforward module\n",
    "        :param x: input tensor\n",
    "        :return: FeedForward output\n",
    "        \"\"\"\n",
    "        return self.net(x)\n",
    "\n",
    "\n",
    "class Attention(nn.Module):\n",
    "    \"\"\"\n",
    "    Attention module\n",
    "    \"\"\"\n",
    "    def __init__(self, dim, heads=8, dim_head=64, dropout=0.):\n",
    "        \"\"\"\n",
    "        Initialises Attention module\n",
    "        :param dim: transformer dimension\n",
    "        :param heads: number of attention heads\n",
    "        :param dim_head: attention head dimension\n",
    "        :param dropout: attention output dropout\n",
    "        \"\"\"\n",
    "        super().__init__()\n",
    "        inner_dim = dim_head * heads\n",
    "        project_out = not (heads == 1 and dim_head == dim)\n",
    "\n",
    "        self.heads = heads\n",
    "        self.scale = dim_head ** -0.5\n",
    "\n",
    "        self.attend = nn.Softmax(dim=-1)\n",
    "        self.to_qkv = nn.Linear(dim, inner_dim * 3, bias=False)\n",
    "\n",
    "        self.to_out = nn.Sequential(\n",
    "            nn.Linear(inner_dim, dim),\n",
    "            nn.Dropout(dropout)\n",
    "        ) if project_out else nn.Identity()\n",
    "\n",
    "    def forward(self, x):\n",
    "        \"\"\"\n",
    "        Forward method for Attention module\n",
    "        :param x: input tensor\n",
    "        :return: Attention module output\n",
    "        \"\"\"\n",
    "        b, n, _, h = *x.shape, self.heads\n",
    "        qkv = self.to_qkv(x).chunk(3, dim=-1)\n",
    "        q, k, v = map(lambda t: rearrange(t, 'b n (h d) -> b h n d', h=h), qkv)\n",
    "\n",
    "        dots = einsum('b h i d, b h j d -> b h i j', q, k) * self.scale\n",
    "\n",
    "        attn = self.attend(dots)\n",
    "\n",
    "        out = einsum('b h i j, b h j d -> b h i d', attn, v)\n",
    "        out = rearrange(out, 'b h n d -> b n (h d)')\n",
    "        return self.to_out(out)\n",
    "\n",
    "\n",
    "class Transformer(nn.Module):\n",
    "    \"\"\"\n",
    "    Transformer model\n",
    "    \"\"\"\n",
    "    def __init__(self, dim, depth, heads, dim_head, mlp_dim, pre_norm=True, dropout=0.):\n",
    "        \"\"\"\n",
    "        Initialises Transformer model\n",
    "        :param dim: transformer dimension\n",
    "        :param depth: number of transformer layers\n",
    "        :param heads: number of attention heads for each transformer layer\n",
    "        :param dim_head: dimension of each attention head\n",
    "        :param mlp_dim: MLP dimension\n",
    "        :param pre_norm: specifies whether PreNorm (True) or PostNorm (False) is used\n",
    "        :param dropout: dropout percentage of Attention of FeedForward modules\n",
    "        \"\"\"\n",
    "        super().__init__()\n",
    "        self.layers = nn.ModuleList([])\n",
    "\n",
    "        P_Norm = PreNorm if pre_norm else PostNorm\n",
    "\n",
    "        for _ in range(depth):\n",
    "            self.layers.append(nn.ModuleList([\n",
    "                P_Norm(dim, Attention(dim, heads=heads, dim_head=dim_head, dropout=dropout)),\n",
    "                P_Norm(dim, FeedForward(dim, mlp_dim, dropout=dropout))\n",
    "            ]))\n",
    "\n",
    "    def forward(self, x):\n",
    "        \"\"\"\n",
    "        Forward method for Transformer model\n",
    "        :param x: input tensor\n",
    "        :return: Tuple of model output, hidden states of transformer and attentions from each transformer layer\n",
    "        \"\"\"\n",
    "        hidden_states = []\n",
    "        attentions = []\n",
    "        for attn, ff in self.layers:\n",
    "            x = attn(x) + x\n",
    "            attentions.append(x)\n",
    "            x = ff(x) + x\n",
    "            hidden_states.append(x)\n",
    "        return x, hidden_states, attentions\n",
    "\n",
    "\n",
    "class KWT(nn.Module):\n",
    "    \"\"\"\n",
    "    KWT model\n",
    "    \"\"\"\n",
    "    def __init__(self, input_res, patch_res, num_classes, dim, depth, heads, mlp_dim, pool='cls', channels=1,\n",
    "                 dim_head=64, dropout=0., emb_dropout=0., pre_norm=True, **kwargs):\n",
    "        \"\"\"\n",
    "        Initialises KWT model\n",
    "        :param input_res: input spectrogram size\n",
    "        :param patch_res: patch size\n",
    "        :param num_classes: number of keyword classes\n",
    "        :param dim: transformer dimension\n",
    "        :param depth: number of transformer layers\n",
    "        :param heads: number of attention heads\n",
    "        :param mlp_dim: MLP dimension\n",
    "        :param pool: specifies whether CLS token or average pooling of transformer model is used for classification\n",
    "        :param channels: Number of input channels\n",
    "        :param dim_head: dimension of attention heads\n",
    "        :param dropout: dropout of transformer attention and feed forward layers\n",
    "        :param emb_dropout: dropout of embeddings\n",
    "        :param pre_norm: specifies whether PreNorm (True) or PostNorm (False) is used\n",
    "        :param kwargs: Keyword arguments\n",
    "        \"\"\"\n",
    "        super().__init__()\n",
    "\n",
    "        num_patches = int(input_res[0] / patch_res[0] * input_res[1] / patch_res[1])\n",
    "\n",
    "        patch_dim = channels * patch_res[0] * patch_res[1]\n",
    "        assert pool in {'cls', 'mean'}, 'pool type must be either cls (cls token) or mean (mean pooling)'\n",
    "\n",
    "        self.to_patch_embedding = nn.Sequential(\n",
    "            Rearrange('b c (h p1) (w p2) -> b (h w) (p1 p2 c)', p1=patch_res[0], p2=patch_res[1]),\n",
    "            nn.Linear(patch_dim, dim),\n",
    "        )\n",
    "\n",
    "        self.pos_embedding = nn.Parameter(torch.randn(1, num_patches + 1, dim))\n",
    "        self.cls_token = nn.Parameter(torch.randn(1, 1, dim))\n",
    "        self.dropout = nn.Dropout(emb_dropout)\n",
    "        self.mask_embedding = nn.Parameter(torch.FloatTensor(dim).uniform_())\n",
    "        self.transformer = Transformer(dim, depth, heads, dim_head, mlp_dim, pre_norm, dropout)\n",
    "\n",
    "        self.pool = pool\n",
    "        self.to_latent = nn.Identity()\n",
    "\n",
    "        # Create classification head\n",
    "        self.mlp_head = nn.Sequential(\n",
    "            nn.LayerNorm(dim),\n",
    "            nn.Linear(dim, num_classes)\n",
    "        )\n",
    "\n",
    "    def forward(self, x, mask=None, output_hidden_states=False, output_attentions=False):\n",
    "        \"\"\"\n",
    "        Forward method of KWT model\n",
    "        :param x: input tensor\n",
    "        :param mask: input mask\n",
    "        :param output_hidden_states: specifies whether hidden states are output\n",
    "        :param output_attentions: specifies whether attentions are output\n",
    "        :return: KWT model output, if output_hidden_states and/or output_attentions the classification head is skipped\n",
    "        \"\"\"\n",
    "        x = self.to_patch_embedding(x)\n",
    "        b, n, _ = x.shape\n",
    "\n",
    "        # Add cls token embedding\n",
    "        cls_tokens = repeat(self.cls_token, '() n d -> b n d', b=b)\n",
    "        x = torch.cat((cls_tokens, x), dim=1)\n",
    "\n",
    "        # Mask input\n",
    "        if mask is not None:\n",
    "            x[mask] = self.mask_embedding\n",
    "\n",
    "        x += self.pos_embedding[:, :(n + 1)]\n",
    "        x = self.dropout(x)\n",
    "\n",
    "        x, hidden_states, attentions = self.transformer(x)\n",
    "\n",
    "        x = x.mean(dim=1) if self.pool == 'mean' else x[:, 0]\n",
    "\n",
    "        x = self.to_latent(x)\n",
    "\n",
    "        if any([output_hidden_states, output_attentions]):\n",
    "            outputs = (self.mlp_head(x), hidden_states) if output_hidden_states else (self.mlp_head(x), )\n",
    "            outputs = outputs + (attentions, ) if output_attentions else outputs\n",
    "            return outputs\n",
    "        return self.mlp_head(x)\n",
    "\n",
    "\n",
    "\n",
    "class EMA:\n",
    "    \"\"\"\n",
    "    Modified version of class fairseq.models.ema.EMA.\n",
    "    \"\"\"\n",
    "\n",
    "    def __init__(self, model: nn.Module, device=None, skip_keys=None, ema_decay=0.999):\n",
    "        self.model = copy.deepcopy(model)\n",
    "        self.model.requires_grad_(False)\n",
    "        if device is not None:\n",
    "            self.model.to(device)\n",
    "        self.device = device\n",
    "        self.skip_keys = skip_keys or set()\n",
    "        self.decay = ema_decay\n",
    "        self.num_updates = 0\n",
    "\n",
    "    def step(self, new_model: nn.Module):\n",
    "        ema_state_dict = {}\n",
    "        ema_params = self.model.state_dict()\n",
    "        for key, param in new_model.state_dict().items():\n",
    "            ema_param = ema_params[key].float()\n",
    "            if key in self.skip_keys:\n",
    "                ema_param = param.to(dtype=ema_param.dtype).clone()\n",
    "            else:\n",
    "                ema_param.mul_(self.decay)\n",
    "                ema_param.add_(param.to(dtype=ema_param.dtype), alpha=1 - self.decay)\n",
    "            ema_state_dict[key] = ema_param\n",
    "        self.model.load_state_dict(ema_state_dict, strict=False)\n",
    "        self.num_updates += 1\n",
    "\n",
    "    def restore(self, model: nn.Module):\n",
    "        d = self.model.state_dict()\n",
    "        model.load_state_dict(d, strict=False)\n",
    "        return model\n",
    "\n",
    "    def _set_decay(self, decay):\n",
    "        self.decay = decay\n",
    "\n",
    "    def get_decay(self):\n",
    "        return self.decay\n",
    "\n",
    "    @staticmethod\n",
    "    def get_annealed_rate(start, end, curr_step, total_steps):\n",
    "        r = end - start\n",
    "        pct_remaining = 1 - curr_step / total_steps\n",
    "        return end - r * pct_remaining\n",
    "\n",
    "\n",
    "class AudioMaskingGenerator:\n",
    "    def __init__(self,\n",
    "                 mask_prob: float,\n",
    "                 mask_length: int,\n",
    "                 attention_mask=None,\n",
    "                 min_masks: int = 0):\n",
    "        self.mask_prob = mask_prob\n",
    "        self.mask_length = mask_length\n",
    "        self.attention_mask = attention_mask\n",
    "        self.min_masks = min_masks\n",
    "\n",
    "    def __call__(self, shape):\n",
    "        batch_size, audio_size = shape\n",
    "        mask = _compute_mask_indices((batch_size, audio_size),\n",
    "                                     self.mask_prob,\n",
    "                                     self.mask_length,\n",
    "                                     self.attention_mask,\n",
    "                                     self.min_masks)\n",
    "        mask = torch.from_numpy(mask)\n",
    "        return mask\n",
    "\n",
    "\n",
    "class Data2Vec(nn.Module):\n",
    "    \"\"\"\n",
    "    Data2Vec main module.\n",
    "    \"\"\"\n",
    "\n",
    "    def __init__(self,\n",
    "                 encoder: nn.Module,\n",
    "                 model_embed_dim: int,\n",
    "                 ema_decay: float,\n",
    "                 ema_end_decay: float,\n",
    "                 ema_anneal_end_step: int,\n",
    "                 average_top_k_layers: int,\n",
    "                 normalize_targets: bool,\n",
    "                 **kwargs):\n",
    "        \"\"\"\n",
    "        :param encoder: transformer encoder\n",
    "        :param model_embed_dim: Embedding dimension of transformer encoder\n",
    "        :param ema_decay: EMA model decay\n",
    "        :param ema_end_decay: EMA model end decay\n",
    "        :param ema_anneal_end_step: Number of annealing steps for EMA model decay\n",
    "        :param average_top_k_layers: Number of encoder layers to use for Data2Vec target\n",
    "        :param normalize_targets: Specifies whether Dat2Vec targets are normalized\n",
    "        :param kwargs: keyword arguments\n",
    "        \"\"\"\n",
    "        super(Data2Vec, self).__init__()\n",
    "        self.encoder = encoder\n",
    "        self.embed_dim = model_embed_dim\n",
    "        self.ema_decay = ema_decay\n",
    "        self.ema_end_decay = ema_end_decay\n",
    "        self.ema_anneal_end_step = ema_anneal_end_step\n",
    "        self.average_top_k_layers = average_top_k_layers\n",
    "        self.normalize_targets = normalize_targets\n",
    "        self.__dict__.update(kwargs)\n",
    "\n",
    "        self.ema = EMA(self.encoder, device=\"cuda\")  # Instantiate teacher encoder as EMA of student encoder\n",
    "        self.regression_head = self._build_regression_head()  # Instantiate regression head to predict target\n",
    "\n",
    "    def _build_regression_head(self):\n",
    "        return nn.Linear(self.embed_dim, self.embed_dim)\n",
    "\n",
    "    def ema_step(self):\n",
    "        \"\"\"\n",
    "        Function which to step the EMA encoder\n",
    "        \"\"\"\n",
    "        if self.ema_decay != self.ema_end_decay:\n",
    "            if self.ema.num_updates >= self.ema_anneal_end_step:\n",
    "                decay = self.ema_end_decay\n",
    "            else:\n",
    "                decay = self.ema.get_annealed_rate(\n",
    "                    self.ema_decay,\n",
    "                    self.ema_end_decay,\n",
    "                    self.ema.num_updates,\n",
    "                    self.ema_anneal_end_step,\n",
    "                )\n",
    "            self.ema.decay = decay\n",
    "        if self.ema.decay < 1:\n",
    "            self.ema.step(self.encoder)\n",
    "\n",
    "    def forward(self, student_input, teacher_input=None, mask=None):\n",
    "        \"\"\"\n",
    "        Data2Vec forward method.\n",
    "        :param student_input: Input for student encoder\n",
    "        :param teacher_input: Input for teacher encoder\n",
    "        :param mask: mask for student input if input is not already masked\n",
    "        :return: Data2Vec model output x, y for student prediction and teacher target, respectively\n",
    "        \"\"\"\n",
    "\n",
    "        encoder_out, student_hidden_states = self.encoder(student_input, mask=mask, output_hidden_states=True)\n",
    "        if teacher_input is None:\n",
    "            return encoder_out\n",
    "        x = student_hidden_states[-1]\n",
    "        with torch.no_grad():\n",
    "            self.ema.model.eval()\n",
    "\n",
    "            _, teacher_hidden_states = self.ema.model(teacher_input, mask=None, output_hidden_states=True)\n",
    "\n",
    "            y = teacher_hidden_states[-self.average_top_k_layers:]\n",
    "            y = [F.instance_norm(tl.float().transpose(1, 2)).transpose(1, 2) for tl in y]\n",
    "            y = sum(y) / len(y)\n",
    "            if self.normalize_targets:\n",
    "                y = F.instance_norm(y).transpose(1, 2).transpose(1, 2)\n",
    "\n",
    "        x = x[mask]\n",
    "        y = y[mask]\n",
    "\n",
    "        x = self.regression_head(x)\n",
    "\n",
    "        return x, y\n",
    "\n",
    "\n",
    "class SpeechCommands(SPEECHCOMMANDS):\n",
    "    def __init__(self, subset: str = None):\n",
    "        super().__init__(\"./\", download=True)\n",
    "\n",
    "        def load_list(filename):\n",
    "            filepath = os.path.join(self._path, filename)\n",
    "            with open(filepath) as fileobj:\n",
    "                return [os.path.normpath(os.path.join(self._path, line.strip())) for line in fileobj]\n",
    "\n",
    "        if subset == \"validation\":\n",
    "            self._walker = load_list(\"validation_list.txt\")\n",
    "        elif subset == \"testing\":\n",
    "            self._walker = load_list(\"testing_list.txt\")\n",
    "        elif subset == \"training\":\n",
    "            excludes = load_list(\"validation_list.txt\") + load_list(\"testing_list.txt\")\n",
    "            excludes = set(excludes)\n",
    "            self._walker = [w for w in self._walker if w not in excludes]\n",
    "\n",
    "\n",
    "class WarmUpLR(torch.optim.lr_scheduler._LRScheduler):\n",
    "    \"\"\"WarmUp learning rate scheduler.\n",
    "\n",
    "    Args:\n",
    "        optimizer (optim.Optimizer): Optimizer instance\n",
    "        total_iters (int): steps_per_epoch * n_warmup_epochs\n",
    "        last_epoch (int): Final epoch. Defaults to -1.\n",
    "    \"\"\"\n",
    "\n",
    "    def __init__(self, optimizer: torch.optim.Optimizer, total_iters: int, last_epoch: int = -1):\n",
    "        \"\"\"Initializer for WarmUpLR\"\"\"\n",
    "\n",
    "        self.total_iters = total_iters\n",
    "        super().__init__(optimizer, last_epoch)\n",
    "\n",
    "    def get_lr(self):\n",
    "        \"\"\"Learning rate will be set to base_lr * last_epoch / total_iters.\"\"\"\n",
    "\n",
    "        return [base_lr * self.last_epoch / (self.total_iters + 1e-8) for base_lr in self.base_lrs]\n",
    "\n",
    "\n",
    "def pad_sequence(batch):\n",
    "    # Make all tensor in a batch the same length by padding with zeros\n",
    "    batch = [item.t() for item in batch]\n",
    "    batch = torch.nn.utils.rnn.pad_sequence(batch, batch_first=True, padding_value=0.)\n",
    "    return batch.permute(0, 2, 1)\n",
    "\n",
    "\n",
    "labels_list = ['backward', 'bed', 'bird', 'cat', 'dog', 'down', 'eight', 'five', 'follow',\n",
    "          'forward', 'four', 'go', 'happy', 'house', 'learn', 'left', 'marvin', 'nine',\n",
    "          'no', 'off', 'on', 'one', 'right', 'seven', 'sheila', 'six', 'stop', 'three',\n",
    "          'tree', 'two', 'up', 'visual', 'wow', 'yes', 'zero']\n",
    "\n",
    "def label_to_index(word):\n",
    "    # Return the position of the word in labels\n",
    "    return torch.tensor(labels_list.index(word))\n",
    "\n",
    "\n",
    "def index_to_label(index):\n",
    "    # Return the word corresponding to the index in labels\n",
    "    # This is the inverse of label_to_index\n",
    "    return labels_list[index]\n",
    "\n",
    "\n",
    "def collate_fn(batch):\n",
    "\n",
    "    # A data tuple has the form:\n",
    "    # waveform, sample_rate, label, speaker_id, utterance_number\n",
    "\n",
    "    tensors, targets = [], []\n",
    "\n",
    "    # Gather in lists, and encode labels as indices\n",
    "    for waveform, _, label, *_ in batch:\n",
    "        tensors += [waveform]\n",
    "        targets += [label_to_index(label)]\n",
    "\n",
    "    # Group the list of tensors into a batched tensor\n",
    "    tensors = pad_sequence(tensors)\n",
    "    targets = torch.stack(targets)\n",
    "\n",
    "    return tensors, targets\n",
    "\n",
    "\n",
    "def spec_augment(mel_spec, n_time_masks=2, time_mask_width=25, n_freq_masks=2, freq_mask_width=7):\n",
    "    for i in range(mel_spec.size(0)):\n",
    "      offset, begin = 0, 0\n",
    "      for _ in range(n_time_masks):\n",
    "          offset = random.randint(0, time_mask_width)\n",
    "          begin = random.randint(0, mel_spec.size(3) - offset)\n",
    "          mel_spec[i, :, :, begin: begin + offset] = 0.0\n",
    "\n",
    "      for _ in range(n_freq_masks):\n",
    "          offset = random.randint(0, freq_mask_width)\n",
    "          begin = random.randint(0, mel_spec.size(2) - offset)\n",
    "          mel_spec[i, : ,begin: begin + offset, :] = 0.0\n",
    "\n",
    "    return mel_spec\n",
    "\n",
    "\n",
    "def plot_loss_accuracy(losses, accuracies,\n",
    "                       validation_losses=None,\n",
    "                       validation_accuracies=None,\n",
    "                       grid=False):\n",
    "  fig, axs = plt.subplots(2, 1, sharex=True)\n",
    "  epochs_list = list(losses.keys())\n",
    "  epochs_list = [int(number) for number in epochs_list]\n",
    "  losses_list = list(losses.values())\n",
    "  accuracies_list = list(accuracies.values())\n",
    "  axs[0].plot(epochs_list, losses_list, label=\"train\")\n",
    "  axs[1].plot(epochs_list, accuracies_list, label=\"train\")\n",
    "  if (validation_losses and validation_accuracies):\n",
    "    validation_epochs_list = list(validation_losses.keys())\n",
    "    validation_epochs_list = [int(number) for number in validation_epochs_list]\n",
    "    validation_losses_list = list(validation_losses.values())\n",
    "    validation_accuracies_list = list(validation_accuracies.values())\n",
    "    axs[0].plot(validation_epochs_list, validation_losses_list, label=\"validation\")\n",
    "    axs[1].plot(validation_epochs_list, validation_accuracies_list, label=\"validation\")\n",
    "    axs[0].legend()\n",
    "    axs[1].legend()\n",
    "\n",
    "  axs[0].set_ylabel(\"Loss\")\n",
    "  axs[1].set_xlabel(\"Epoch\")\n",
    "  axs[1].set_ylabel(\"Accuracy\")\n",
    "  axs[1].set_ylim(0.0, 1.0)\n",
    "\n",
    "  if grid:\n",
    "    axs[0].grid()\n",
    "    axs[1].grid()\n",
    "\n",
    "  plt.show()\n",
    "\n",
    "\n",
    "def plot_loss_and_variance(losses, target_vars, prediction_vars, grid=False):\n",
    "  fig, axs = plt.subplots(2, 1, sharex=True)\n",
    "\n",
    "  epochs_list = list(losses.keys())\n",
    "  epochs_list = [int(number) for number in epochs_list]\n",
    "  losses_list = list(losses.values())\n",
    "  target_vars_list = list(target_vars.values())\n",
    "  prediction_vars_list = list(prediction_vars.values())\n",
    "  axs[0].plot(epochs_list, losses_list)\n",
    "  axs[1].plot(epochs_list, target_vars_list, label=\"Target\")\n",
    "  axs[1].plot(epochs_list, prediction_vars_list, label=\"Prediction\")\n",
    "\n",
    "  axs[0].set_ylabel(\"Loss\")\n",
    "  axs[1].set_xlabel(\"Epoch\")\n",
    "  axs[1].set_ylabel(\"Variance\")\n",
    "\n",
    "  axs[0].ticklabel_format(style=\"sci\", scilimits=(0, 0))\n",
    "\n",
    "  if grid:\n",
    "    axs[0].grid()\n",
    "    axs[1].grid()\n",
    "\n",
    "  plt.show()\n",
    "\n",
    "\n",
    "\n",
    "def compute_var(y: torch.Tensor):\n",
    "    y = y.view(-1, y.size(-1))\n",
    "    return torch.sqrt(y.var(dim=0) + 1e-6).mean()\n",
    "\n",
    "\n",
    "def load_pretrained_checkpoint(model):\n",
    "  import subprocess as sp\n",
    "  if not os.path.exists(\"pretrained_encoder.pth\"):\n",
    "    print(\"Downloading checkpoint...\")\n",
    "    sp.call(\"gdown 1djqZQX4wpZ9dJgkzVbi_UAOAO59G-pcv\", shell=True)\n",
    "  else:\n",
    "    print(\"Checkpoint already available skipping download...\")\n",
    "\n",
    "  print(\"Loading checkpoint weights...\")\n",
    "  ckpt = torch.load(\"./pretrained_encoder.pth\", map_location=torch.device('cpu'))\n",
    "  model.load_state_dict(ckpt[\"model_state_dict\"])\n",
    "  print(\"Checkpoint loaded.\")\n",
    "\n",
    "  return model\n",
    "\n",
    "\n",
    "def seed_everything(seed: int) -> None:\n",
    "    \"\"\"\n",
    "    Set manual seed of python, numpy, pytorch and cuda\n",
    "    :param seed: Supplied seed.\n",
    "    :return: None\n",
    "    \"\"\"\n",
    "\n",
    "    random.seed(seed)\n",
    "    os.environ['PYTHONHASHSEED'] = str(seed)\n",
    "    np.random.seed(seed)\n",
    "    torch.manual_seed(seed)\n",
    "    torch.cuda.manual_seed(seed)\n",
    "    torch.backends.cudnn.deterministic = True\n",
    "    print(f'Set {seed=}')"
   ]
  },
  {
   "cell_type": "markdown",
   "metadata": {},
   "source": [
    "checking if gpu is available"
   ]
  },
  {
   "cell_type": "code",
   "execution_count": 5,
   "metadata": {},
   "outputs": [],
   "source": [
    "device = torch.device(\"cuda\" if torch.cuda.is_available() else \"cpu\")"
   ]
  },
  {
   "cell_type": "markdown",
   "metadata": {},
   "source": [
    "Setting random seed for reproducibility(randomness)\n",
    "1. randomly shuffling data\n",
    "2. randomly initializing model weights\n",
    "3. splitting data into training and testing sets."
   ]
  },
  {
   "cell_type": "code",
   "execution_count": 7,
   "metadata": {},
   "outputs": [
    {
     "name": "stdout",
     "output_type": "stream",
     "text": [
      "Set seed=0\n"
     ]
    }
   ],
   "source": [
    "seed = 0\n",
    "seed_everything(seed)"
   ]
  },
  {
   "cell_type": "markdown",
   "metadata": {},
   "source": [
    "## Dataset\n",
    "\n",
    "Testing if Data2Vec can improve KWS performance in label-deficient settings."
   ]
  },
  {
   "cell_type": "code",
   "execution_count": 8,
   "metadata": {},
   "outputs": [
    {
     "name": "stdout",
     "output_type": "stream",
     "text": [
      "Examples in pretrain: 67874, Examples in train: 16969, Examples in validation: 9981, Examples in test: 11005\n"
     ]
    }
   ],
   "source": [
    "original_train_set = SpeechCommands(\"training\")\n",
    "validation_set = SpeechCommands(\"validation\")\n",
    "test_set = SpeechCommands(\"testing\")\n",
    "\n",
    "examples_original_train = len(original_train_set)\n",
    "\n",
    "pretrain_percentage = 0.8 # You can change this to make the labelled training set smaller\n",
    "\n",
    "indices = np.arange(examples_original_train)\n",
    "pretrain_indices = np.random.choice(indices, round(len(original_train_set)*pretrain_percentage), replace=False)\n",
    "train_indices = indices[~np.isin(indices, pretrain_indices)]\n",
    "\n",
    "pretrain_set = Subset(original_train_set,\n",
    "                      indices=pretrain_indices)\n",
    "reduced_train_set = Subset(original_train_set,\n",
    "                           indices=train_indices)\n",
    "\n",
    "print(f\"Examples in pretrain: {len(pretrain_set)}, Examples in train: {len(reduced_train_set)}, Examples in validation: {len(validation_set)}, Examples in test: {len(test_set)}\")"
   ]
  },
  {
   "cell_type": "markdown",
   "metadata": {},
   "source": [
    "# Feature Extracting\n",
    "\n",
    "Need a method for extracting speech features. MFCCs(Mel Frequency Cepstral Components) has been used with some common parameters"
   ]
  },
  {
   "cell_type": "code",
   "execution_count": 9,
   "metadata": {},
   "outputs": [],
   "source": [
    "from torchaudio.transforms import MFCC\n",
    "\n",
    "# Settings for MelSpectrogram computation\n",
    "melkwargs = {\"n_mels\": 80, # How many mel frequency filters are used\n",
    "             \"n_fft\": 480, # How many fft components are used for each feature\n",
    "             \"win_length\": 480, # How many frames are included in each window\n",
    "             \"hop_length\": 160, # How many frames the window is shifted for each component\n",
    "             \"center\": False, # Whether frams are padded such that the component of timestep t is centered at t\n",
    "             \"f_max\": 7600, # Maximum frequency to consider\n",
    "             \"f_min\": 20}\n",
    "\n",
    "# Instantiate MFCC feature extractor\n",
    "mfcc = MFCC(n_mfcc=40, # Number of cepstrum components\n",
    "            sample_rate=16000, # Sample rate of input audio\n",
    "            melkwargs=melkwargs) # Keyword arguments for MelSpectogram"
   ]
  },
  {
   "cell_type": "code",
   "execution_count": 10,
   "metadata": {},
   "outputs": [
    {
     "name": "stdout",
     "output_type": "stream",
     "text": [
      "waveform:  tensor([[ 0.0000e+00, -9.1553e-05, -3.0518e-05,  ...,  3.0518e-05,\n",
      "         -1.2207e-04, -2.1362e-04]])\n",
      "Type,  <class 'torch.Tensor'> torch.Size([1, 16000])\n"
     ]
    },
    {
     "name": "stderr",
     "output_type": "stream",
     "text": [
      "/tmp/ipykernel_4707/2316008788.py:20: UserWarning: FigureCanvasAgg is non-interactive, and thus cannot be shown\n",
      "  fig.show()\n"
     ]
    },
    {
     "data": {
      "image/png": "[encoded data removed]",
      "text/plain": [
       "<Figure size 640x480 with 2 Axes>"
      ]
     },
     "metadata": {},
     "output_type": "display_data"
    }
   ],
   "source": [
    "waveform = reduced_train_set[1][0] # Pick first waveform in train set\n",
    "print(\"waveform: \",waveform)\n",
    "print(\"Type, \", type(waveform), waveform.shape)\n",
    "features = mfcc(waveform) # Compute MFCC\n",
    "\n",
    "# Transform to dB scale and set minimum value to 0.1 for visualisation purposes.\n",
    "features_dB = 10.0 * torch.log10(torch.maximum(torch.tensor(1e-1), features))\n",
    "\n",
    "fig, axs = plt.subplots(2, 1)\n",
    "axs[0].plot(waveform[0].numpy())\n",
    "axs[0].set_title(\"Waveform\")\n",
    "axs[0].set_xlabel(\"Sample\")\n",
    "axs[0].set_ylabel(\"Amplitude\")\n",
    "axs[1].imshow(features_dB[0].numpy(), aspect=\"auto\")\n",
    "axs[1].set_title(\"MFCC features (dB-scale)\")\n",
    "axs[1].set_xlabel(\"Time dimension\")\n",
    "axs[1].set_ylabel(\"Feature dimension\")\n",
    "\n",
    "fig.tight_layout()\n",
    "fig.show()\n"
   ]
  },
  {
   "cell_type": "markdown",
   "metadata": {},
   "source": [
    "# Baseline\n",
    "\n",
    "First: Train a KWT model on the reduced training dataset\n",
    "\n",
    "Let's create the model"
   ]
  },
  {
   "cell_type": "code",
   "execution_count": 11,
   "metadata": {},
   "outputs": [],
   "source": [
    "kwt_hparams = {\"input_res\": [40, 98], # Input size\n",
    "               \"patch_res\": [40, 1], # Size of each patch [Frequency, Time]\n",
    "               \"num_classes\": 35, # Number of keyword classes\n",
    "               \"mlp_dim\": 256, # Dimension of transformer MLP\n",
    "               \"dim\": 64, # Dimension of transformer output\n",
    "               \"heads\": 1, # Number of attention heads\n",
    "               \"depth\": 12, # Number of layers\n",
    "               \"dropout\": 0.0, # Input droput\n",
    "               \"emb_dropout\": 0.1, # Dropout between encoder layers\n",
    "               \"pre_norm\": False} # Normalization before or after MLP\n",
    "\n",
    "kwt = KWT(**kwt_hparams)"
   ]
  },
  {
   "cell_type": "markdown",
   "metadata": {},
   "source": [
    "Let's define some data loaders and loss function and optimizer"
   ]
  },
  {
   "cell_type": "code",
   "execution_count": 13,
   "metadata": {},
   "outputs": [],
   "source": [
    "train_loader = DataLoader(reduced_train_set, shuffle=True, batch_size=64, num_workers=2, pin_memory=True,\n",
    "                          collate_fn=collate_fn)\n",
    "validation_loader = DataLoader(validation_set, shuffle=False, batch_size=64, num_workers=2, pin_memory=True,\n",
    "                         collate_fn=collate_fn)\n",
    "test_loader = DataLoader(test_set, shuffle=False, batch_size=64, num_workers=2, pin_memory=True,\n",
    "                         collate_fn=collate_fn)\n",
    "\n",
    "criterion_baseline = nn.CrossEntropyLoss(label_smoothing=0.1)\n",
    "\n",
    "lr = 0.001 # You can update this value to see if learning rate affects performance\n",
    "weight_decay = 0.1 # You can update this value to see if weight decay affects performance\n",
    "optimizer_baseline = torch.optim.AdamW(kwt.parameters(), lr=lr, weight_decay=weight_decay)"
   ]
  },
  {
   "cell_type": "markdown",
   "metadata": {},
   "source": [
    "Training functions"
   ]
  },
  {
   "cell_type": "code",
   "execution_count": 14,
   "metadata": {},
   "outputs": [],
   "source": [
    "def train_single_batch(net, features, labels, optimizer, criterion, device):\n",
    "    features, labels = features.to(device), labels.to(device)\n",
    "\n",
    "    optimizer.zero_grad()\n",
    "    outputs = net(features)\n",
    "    loss = criterion(outputs, labels)\n",
    "    loss.backward()\n",
    "    optimizer.step()\n",
    "\n",
    "    correct = outputs.argmax(1).eq(labels).sum()\n",
    "    return loss.item(), correct.item()\n",
    "\n",
    "@torch.no_grad()\n",
    "def evaluate(net, criterion, dataloader, device):\n",
    "    net.eval()\n",
    "    correct = 0\n",
    "    running_loss = 0.0\n",
    "\n",
    "    for waveforms, labels in tqdm(dataloader, leave=False, total=len(dataloader), unit=\"batch\"):\n",
    "        features = mfcc(waveforms)\n",
    "        features, labels = features.to(device), labels.to(device)\n",
    "\n",
    "        outputs = net(features)\n",
    "        correct += outputs.argmax(1).eq(labels).sum().item()\n",
    "\n",
    "        loss = criterion(outputs, labels)\n",
    "        running_loss += loss.item()\n",
    "\n",
    "    net.train()\n",
    "    accuracy = correct / len(dataloader.dataset)\n",
    "    avg_loss = running_loss / len(dataloader)\n",
    "    return accuracy, avg_loss"
   ]
  },
  {
   "cell_type": "markdown",
   "metadata": {},
   "source": [
    "Let's train for 40 epochs, can take upto 40 minutes"
   ]
  },
  {
   "cell_type": "code",
   "execution_count": 15,
   "metadata": {},
   "outputs": [
    {
     "name": "stdout",
     "output_type": "stream",
     "text": [
      "True\n",
      "12.1\n",
      "0\n",
      "NVIDIA GeForce GTX 1650\n"
     ]
    }
   ],
   "source": [
    "import torch\n",
    "print(torch.cuda.is_available())\n",
    "torch.cuda.empty_cache()\n",
    "print(torch.version.cuda)\n",
    "print(torch.cuda.current_device())\n",
    "print(torch.cuda.get_device_name(0))"
   ]
  },
  {
   "cell_type": "code",
   "execution_count": 16,
   "metadata": {},
   "outputs": [
    {
     "data": {
      "application/vnd.jupyter.widget-view+json": {
       "model_id": "2f342f1ad6d24651a8fbfe5b536df90e",
       "version_major": 2,
       "version_minor": 0
      },
      "text/plain": [
       "  0%|          | 0/40 [00:00<?, ?Epoch/s]"
      ]
     },
     "metadata": {},
     "output_type": "display_data"
    },
    {
     "data": {
      "application/vnd.jupyter.widget-view+json": {
       "model_id": "cff986b9d0ce4b679376e5995508892d",
       "version_major": 2,
       "version_minor": 0
      },
      "text/plain": [
       "  0%|          | 0/266 [00:00<?, ?batch/s]"
      ]
     },
     "metadata": {},
     "output_type": "display_data"
    },
    {
     "data": {
      "application/vnd.jupyter.widget-view+json": {
       "model_id": "6e295f5e538d42dcace48de57092d2c9",
       "version_major": 2,
       "version_minor": 0
      },
      "text/plain": [
       "  0%|          | 0/156 [00:00<?, ?batch/s]"
      ]
     },
     "metadata": {},
     "output_type": "display_data"
    },
    {
     "data": {
      "application/vnd.jupyter.widget-view+json": {
       "model_id": "708dca3bacea4170bd6dd347b3f5356d",
       "version_major": 2,
       "version_minor": 0
      },
      "text/plain": [
       "  0%|          | 0/266 [00:00<?, ?batch/s]"
      ]
     },
     "metadata": {},
     "output_type": "display_data"
    },
    {
     "data": {
      "application/vnd.jupyter.widget-view+json": {
       "model_id": "5f11a58ff6be4ff09184338bdde71d46",
       "version_major": 2,
       "version_minor": 0
      },
      "text/plain": [
       "  0%|          | 0/156 [00:00<?, ?batch/s]"
      ]
     },
     "metadata": {},
     "output_type": "display_data"
    },
    {
     "data": {
      "application/vnd.jupyter.widget-view+json": {
       "model_id": "a719045006854a86ad54d46773d2ef33",
       "version_major": 2,
       "version_minor": 0
      },
      "text/plain": [
       "  0%|          | 0/266 [00:00<?, ?batch/s]"
      ]
     },
     "metadata": {},
     "output_type": "display_data"
    },
    {
     "data": {
      "application/vnd.jupyter.widget-view+json": {
       "model_id": "8232df15ecb84d7e90a1d30f72d5ea46",
       "version_major": 2,
       "version_minor": 0
      },
      "text/plain": [
       "  0%|          | 0/156 [00:00<?, ?batch/s]"
      ]
     },
     "metadata": {},
     "output_type": "display_data"
    },
    {
     "data": {
      "application/vnd.jupyter.widget-view+json": {
       "model_id": "6f60736b608b4af19c3ae93245690d66",
       "version_major": 2,
       "version_minor": 0
      },
      "text/plain": [
       "  0%|          | 0/266 [00:00<?, ?batch/s]"
      ]
     },
     "metadata": {},
     "output_type": "display_data"
    },
    {
     "data": {
      "application/vnd.jupyter.widget-view+json": {
       "model_id": "fde6b72f3629480ea9c7352f48d0aa37",
       "version_major": 2,
       "version_minor": 0
      },
      "text/plain": [
       "  0%|          | 0/156 [00:00<?, ?batch/s]"
      ]
     },
     "metadata": {},
     "output_type": "display_data"
    },
    {
     "data": {
      "application/vnd.jupyter.widget-view+json": {
       "model_id": "312f493d77ec4be496a8cce9973ec7ce",
       "version_major": 2,
       "version_minor": 0
      },
      "text/plain": [
       "  0%|          | 0/266 [00:00<?, ?batch/s]"
      ]
     },
     "metadata": {},
     "output_type": "display_data"
    },
    {
     "data": {
      "application/vnd.jupyter.widget-view+json": {
       "model_id": "4985b61ad29943ebbcdac2b56c778e38",
       "version_major": 2,
       "version_minor": 0
      },
      "text/plain": [
       "  0%|          | 0/156 [00:00<?, ?batch/s]"
      ]
     },
     "metadata": {},
     "output_type": "display_data"
    },
    {
     "data": {
      "application/vnd.jupyter.widget-view+json": {
       "model_id": "195776f9bd7a4d75918e5c9354105b9f",
       "version_major": 2,
       "version_minor": 0
      },
      "text/plain": [
       "  0%|          | 0/266 [00:00<?, ?batch/s]"
      ]
     },
     "metadata": {},
     "output_type": "display_data"
    },
    {
     "data": {
      "application/vnd.jupyter.widget-view+json": {
       "model_id": "47c49c4d9cb84f2db9117b6e19400021",
       "version_major": 2,
       "version_minor": 0
      },
      "text/plain": [
       "  0%|          | 0/156 [00:00<?, ?batch/s]"
      ]
     },
     "metadata": {},
     "output_type": "display_data"
    },
    {
     "data": {
      "application/vnd.jupyter.widget-view+json": {
       "model_id": "0d27668889cc4ff393a9b0604b25b505",
       "version_major": 2,
       "version_minor": 0
      },
      "text/plain": [
       "  0%|          | 0/266 [00:00<?, ?batch/s]"
      ]
     },
     "metadata": {},
     "output_type": "display_data"
    },
    {
     "data": {
      "application/vnd.jupyter.widget-view+json": {
       "model_id": "fb8ad8ea2d3f4f49a501fd56637f0114",
       "version_major": 2,
       "version_minor": 0
      },
      "text/plain": [
       "  0%|          | 0/156 [00:00<?, ?batch/s]"
      ]
     },
     "metadata": {},
     "output_type": "display_data"
    },
    {
     "data": {
      "application/vnd.jupyter.widget-view+json": {
       "model_id": "143d362e61684f18aaa53da932f847ff",
       "version_major": 2,
       "version_minor": 0
      },
      "text/plain": [
       "  0%|          | 0/266 [00:00<?, ?batch/s]"
      ]
     },
     "metadata": {},
     "output_type": "display_data"
    },
    {
     "data": {
      "application/vnd.jupyter.widget-view+json": {
       "model_id": "9fb0c3ef3154467dba8db41b19dd8964",
       "version_major": 2,
       "version_minor": 0
      },
      "text/plain": [
       "  0%|          | 0/156 [00:00<?, ?batch/s]"
      ]
     },
     "metadata": {},
     "output_type": "display_data"
    },
    {
     "data": {
      "application/vnd.jupyter.widget-view+json": {
       "model_id": "7040c4591c3d4d068641c0d79e63b4a4",
       "version_major": 2,
       "version_minor": 0
      },
      "text/plain": [
       "  0%|          | 0/266 [00:00<?, ?batch/s]"
      ]
     },
     "metadata": {},
     "output_type": "display_data"
    },
    {
     "data": {
      "application/vnd.jupyter.widget-view+json": {
       "model_id": "f6c48fe719ef44bdabf959c919a9c2eb",
       "version_major": 2,
       "version_minor": 0
      },
      "text/plain": [
       "  0%|          | 0/156 [00:00<?, ?batch/s]"
      ]
     },
     "metadata": {},
     "output_type": "display_data"
    },
    {
     "data": {
      "application/vnd.jupyter.widget-view+json": {
       "model_id": "d23ea2ab9bde498984fbfe07600fe2a7",
       "version_major": 2,
       "version_minor": 0
      },
      "text/plain": [
       "  0%|          | 0/266 [00:00<?, ?batch/s]"
      ]
     },
     "metadata": {},
     "output_type": "display_data"
    },
    {
     "data": {
      "application/vnd.jupyter.widget-view+json": {
       "model_id": "01a50aaec6d9474fa072a88f85165474",
       "version_major": 2,
       "version_minor": 0
      },
      "text/plain": [
       "  0%|          | 0/156 [00:00<?, ?batch/s]"
      ]
     },
     "metadata": {},
     "output_type": "display_data"
    },
    {
     "data": {
      "application/vnd.jupyter.widget-view+json": {
       "model_id": "9fd74e5c508a48f9af7169d247621b36",
       "version_major": 2,
       "version_minor": 0
      },
      "text/plain": [
       "  0%|          | 0/266 [00:00<?, ?batch/s]"
      ]
     },
     "metadata": {},
     "output_type": "display_data"
    },
    {
     "data": {
      "application/vnd.jupyter.widget-view+json": {
       "model_id": "4ec07ae86f894fd2bb4742c8b7da9706",
       "version_major": 2,
       "version_minor": 0
      },
      "text/plain": [
       "  0%|          | 0/156 [00:00<?, ?batch/s]"
      ]
     },
     "metadata": {},
     "output_type": "display_data"
    },
    {
     "data": {
      "application/vnd.jupyter.widget-view+json": {
       "model_id": "f8c2f380f6fb4618a784b8be9c25f700",
       "version_major": 2,
       "version_minor": 0
      },
      "text/plain": [
       "  0%|          | 0/266 [00:00<?, ?batch/s]"
      ]
     },
     "metadata": {},
     "output_type": "display_data"
    },
    {
     "data": {
      "application/vnd.jupyter.widget-view+json": {
       "model_id": "0c1ce76941ca45dfaba8405675cc1967",
       "version_major": 2,
       "version_minor": 0
      },
      "text/plain": [
       "  0%|          | 0/156 [00:00<?, ?batch/s]"
      ]
     },
     "metadata": {},
     "output_type": "display_data"
    },
    {
     "data": {
      "application/vnd.jupyter.widget-view+json": {
       "model_id": "42f1984e4a3d4677b2bdcd0666e401db",
       "version_major": 2,
       "version_minor": 0
      },
      "text/plain": [
       "  0%|          | 0/266 [00:00<?, ?batch/s]"
      ]
     },
     "metadata": {},
     "output_type": "display_data"
    },
    {
     "data": {
      "application/vnd.jupyter.widget-view+json": {
       "model_id": "d50da8b82fd2458f8ae0e295cff60973",
       "version_major": 2,
       "version_minor": 0
      },
      "text/plain": [
       "  0%|          | 0/156 [00:00<?, ?batch/s]"
      ]
     },
     "metadata": {},
     "output_type": "display_data"
    },
    {
     "data": {
      "application/vnd.jupyter.widget-view+json": {
       "model_id": "f561ccd000bf4955bdc0f6c04f8b3c53",
       "version_major": 2,
       "version_minor": 0
      },
      "text/plain": [
       "  0%|          | 0/266 [00:00<?, ?batch/s]"
      ]
     },
     "metadata": {},
     "output_type": "display_data"
    },
    {
     "data": {
      "application/vnd.jupyter.widget-view+json": {
       "model_id": "c6a3bfa6ca2e40278e5cc78fafc325d7",
       "version_major": 2,
       "version_minor": 0
      },
      "text/plain": [
       "  0%|          | 0/156 [00:00<?, ?batch/s]"
      ]
     },
     "metadata": {},
     "output_type": "display_data"
    },
    {
     "data": {
      "application/vnd.jupyter.widget-view+json": {
       "model_id": "ccf5f448b3d34c37947aec1158de1b69",
       "version_major": 2,
       "version_minor": 0
      },
      "text/plain": [
       "  0%|          | 0/266 [00:00<?, ?batch/s]"
      ]
     },
     "metadata": {},
     "output_type": "display_data"
    },
    {
     "data": {
      "application/vnd.jupyter.widget-view+json": {
       "model_id": "1e682d0df2824bd5b8a25e074d4643a1",
       "version_major": 2,
       "version_minor": 0
      },
      "text/plain": [
       "  0%|          | 0/156 [00:00<?, ?batch/s]"
      ]
     },
     "metadata": {},
     "output_type": "display_data"
    },
    {
     "data": {
      "application/vnd.jupyter.widget-view+json": {
       "model_id": "a0d2d900cb8c4b9da52a8e5f298f74db",
       "version_major": 2,
       "version_minor": 0
      },
      "text/plain": [
       "  0%|          | 0/266 [00:00<?, ?batch/s]"
      ]
     },
     "metadata": {},
     "output_type": "display_data"
    },
    {
     "data": {
      "application/vnd.jupyter.widget-view+json": {
       "model_id": "acfba9102d454de08d332d0269c0c5d5",
       "version_major": 2,
       "version_minor": 0
      },
      "text/plain": [
       "  0%|          | 0/156 [00:00<?, ?batch/s]"
      ]
     },
     "metadata": {},
     "output_type": "display_data"
    },
    {
     "data": {
      "application/vnd.jupyter.widget-view+json": {
       "model_id": "0312c830ead54188993065fa3ed97533",
       "version_major": 2,
       "version_minor": 0
      },
      "text/plain": [
       "  0%|          | 0/266 [00:00<?, ?batch/s]"
      ]
     },
     "metadata": {},
     "output_type": "display_data"
    },
    {
     "data": {
      "application/vnd.jupyter.widget-view+json": {
       "model_id": "a4d2458e0df24a5d9e19a3bfd3bb5fe6",
       "version_major": 2,
       "version_minor": 0
      },
      "text/plain": [
       "  0%|          | 0/156 [00:00<?, ?batch/s]"
      ]
     },
     "metadata": {},
     "output_type": "display_data"
    },
    {
     "data": {
      "application/vnd.jupyter.widget-view+json": {
       "model_id": "e8e0dc465e0f4fedba76220f99120bd9",
       "version_major": 2,
       "version_minor": 0
      },
      "text/plain": [
       "  0%|          | 0/266 [00:00<?, ?batch/s]"
      ]
     },
     "metadata": {},
     "output_type": "display_data"
    },
    {
     "data": {
      "application/vnd.jupyter.widget-view+json": {
       "model_id": "2b7eea06056a4bb3b61a7d955da22fef",
       "version_major": 2,
       "version_minor": 0
      },
      "text/plain": [
       "  0%|          | 0/156 [00:00<?, ?batch/s]"
      ]
     },
     "metadata": {},
     "output_type": "display_data"
    },
    {
     "data": {
      "application/vnd.jupyter.widget-view+json": {
       "model_id": "bf901d9871154df3b052d52380ee3040",
       "version_major": 2,
       "version_minor": 0
      },
      "text/plain": [
       "  0%|          | 0/266 [00:00<?, ?batch/s]"
      ]
     },
     "metadata": {},
     "output_type": "display_data"
    },
    {
     "data": {
      "application/vnd.jupyter.widget-view+json": {
       "model_id": "620704b882f8407da91172129368b4b8",
       "version_major": 2,
       "version_minor": 0
      },
      "text/plain": [
       "  0%|          | 0/156 [00:00<?, ?batch/s]"
      ]
     },
     "metadata": {},
     "output_type": "display_data"
    },
    {
     "data": {
      "application/vnd.jupyter.widget-view+json": {
       "model_id": "f9a5f6fb78c94df3a189882006331544",
       "version_major": 2,
       "version_minor": 0
      },
      "text/plain": [
       "  0%|          | 0/266 [00:00<?, ?batch/s]"
      ]
     },
     "metadata": {},
     "output_type": "display_data"
    },
    {
     "data": {
      "application/vnd.jupyter.widget-view+json": {
       "model_id": "71c94685e1f64730bdadacd20e0e41f7",
       "version_major": 2,
       "version_minor": 0
      },
      "text/plain": [
       "  0%|          | 0/156 [00:00<?, ?batch/s]"
      ]
     },
     "metadata": {},
     "output_type": "display_data"
    },
    {
     "data": {
      "application/vnd.jupyter.widget-view+json": {
       "model_id": "1df24d33c5a3479d8bb56383a5ab85bf",
       "version_major": 2,
       "version_minor": 0
      },
      "text/plain": [
       "  0%|          | 0/266 [00:00<?, ?batch/s]"
      ]
     },
     "metadata": {},
     "output_type": "display_data"
    },
    {
     "data": {
      "application/vnd.jupyter.widget-view+json": {
       "model_id": "227ad3dc7a624a05b24f643fdf87a47a",
       "version_major": 2,
       "version_minor": 0
      },
      "text/plain": [
       "  0%|          | 0/156 [00:00<?, ?batch/s]"
      ]
     },
     "metadata": {},
     "output_type": "display_data"
    },
    {
     "data": {
      "application/vnd.jupyter.widget-view+json": {
       "model_id": "e81e8e90cb244174aa44edd5fa4961da",
       "version_major": 2,
       "version_minor": 0
      },
      "text/plain": [
       "  0%|          | 0/266 [00:00<?, ?batch/s]"
      ]
     },
     "metadata": {},
     "output_type": "display_data"
    },
    {
     "data": {
      "application/vnd.jupyter.widget-view+json": {
       "model_id": "13e7da1aae2149bfb876434c152226b0",
       "version_major": 2,
       "version_minor": 0
      },
      "text/plain": [
       "  0%|          | 0/156 [00:00<?, ?batch/s]"
      ]
     },
     "metadata": {},
     "output_type": "display_data"
    },
    {
     "data": {
      "application/vnd.jupyter.widget-view+json": {
       "model_id": "802a45be86964fc0add3cc7d753ad085",
       "version_major": 2,
       "version_minor": 0
      },
      "text/plain": [
       "  0%|          | 0/266 [00:00<?, ?batch/s]"
      ]
     },
     "metadata": {},
     "output_type": "display_data"
    },
    {
     "data": {
      "application/vnd.jupyter.widget-view+json": {
       "model_id": "62a64d19c655441b819404aad6325a2c",
       "version_major": 2,
       "version_minor": 0
      },
      "text/plain": [
       "  0%|          | 0/156 [00:00<?, ?batch/s]"
      ]
     },
     "metadata": {},
     "output_type": "display_data"
    },
    {
     "data": {
      "application/vnd.jupyter.widget-view+json": {
       "model_id": "aadd843b1119475bb7c19a934e3ed174",
       "version_major": 2,
       "version_minor": 0
      },
      "text/plain": [
       "  0%|          | 0/266 [00:00<?, ?batch/s]"
      ]
     },
     "metadata": {},
     "output_type": "display_data"
    },
    {
     "data": {
      "application/vnd.jupyter.widget-view+json": {
       "model_id": "64d3336ca8cb464e81adf09f4e864b29",
       "version_major": 2,
       "version_minor": 0
      },
      "text/plain": [
       "  0%|          | 0/156 [00:00<?, ?batch/s]"
      ]
     },
     "metadata": {},
     "output_type": "display_data"
    },
    {
     "data": {
      "application/vnd.jupyter.widget-view+json": {
       "model_id": "572390b47f9b4acf9d42013d4b46ed94",
       "version_major": 2,
       "version_minor": 0
      },
      "text/plain": [
       "  0%|          | 0/266 [00:00<?, ?batch/s]"
      ]
     },
     "metadata": {},
     "output_type": "display_data"
    },
    {
     "data": {
      "application/vnd.jupyter.widget-view+json": {
       "model_id": "df277d2f0b0f4773bcb7195728e212d4",
       "version_major": 2,
       "version_minor": 0
      },
      "text/plain": [
       "  0%|          | 0/156 [00:00<?, ?batch/s]"
      ]
     },
     "metadata": {},
     "output_type": "display_data"
    },
    {
     "data": {
      "application/vnd.jupyter.widget-view+json": {
       "model_id": "d1c1756a1e1c487a828d0434ce5c7a55",
       "version_major": 2,
       "version_minor": 0
      },
      "text/plain": [
       "  0%|          | 0/266 [00:00<?, ?batch/s]"
      ]
     },
     "metadata": {},
     "output_type": "display_data"
    },
    {
     "data": {
      "application/vnd.jupyter.widget-view+json": {
       "model_id": "7447fe0121b0483fb0bdf9521b94d9fc",
       "version_major": 2,
       "version_minor": 0
      },
      "text/plain": [
       "  0%|          | 0/156 [00:00<?, ?batch/s]"
      ]
     },
     "metadata": {},
     "output_type": "display_data"
    },
    {
     "data": {
      "application/vnd.jupyter.widget-view+json": {
       "model_id": "e4f0c56025a7433ab2897a958977f02c",
       "version_major": 2,
       "version_minor": 0
      },
      "text/plain": [
       "  0%|          | 0/266 [00:00<?, ?batch/s]"
      ]
     },
     "metadata": {},
     "output_type": "display_data"
    },
    {
     "data": {
      "application/vnd.jupyter.widget-view+json": {
       "model_id": "3ae10890240a489f8b756a9d5d76b165",
       "version_major": 2,
       "version_minor": 0
      },
      "text/plain": [
       "  0%|          | 0/156 [00:00<?, ?batch/s]"
      ]
     },
     "metadata": {},
     "output_type": "display_data"
    },
    {
     "data": {
      "application/vnd.jupyter.widget-view+json": {
       "model_id": "d0d090d365ee43f4a2f49d1bc876cebe",
       "version_major": 2,
       "version_minor": 0
      },
      "text/plain": [
       "  0%|          | 0/266 [00:00<?, ?batch/s]"
      ]
     },
     "metadata": {},
     "output_type": "display_data"
    },
    {
     "data": {
      "application/vnd.jupyter.widget-view+json": {
       "model_id": "bfdf5f3bb8ab4dffb2af56eeb9555a26",
       "version_major": 2,
       "version_minor": 0
      },
      "text/plain": [
       "  0%|          | 0/156 [00:00<?, ?batch/s]"
      ]
     },
     "metadata": {},
     "output_type": "display_data"
    },
    {
     "data": {
      "application/vnd.jupyter.widget-view+json": {
       "model_id": "bd3ae1ac51e54515a5bc37f5427a5c69",
       "version_major": 2,
       "version_minor": 0
      },
      "text/plain": [
       "  0%|          | 0/266 [00:00<?, ?batch/s]"
      ]
     },
     "metadata": {},
     "output_type": "display_data"
    },
    {
     "data": {
      "application/vnd.jupyter.widget-view+json": {
       "model_id": "2c29df60fb2840f2bf2f08f92dd0e990",
       "version_major": 2,
       "version_minor": 0
      },
      "text/plain": [
       "  0%|          | 0/156 [00:00<?, ?batch/s]"
      ]
     },
     "metadata": {},
     "output_type": "display_data"
    },
    {
     "data": {
      "application/vnd.jupyter.widget-view+json": {
       "model_id": "9cda76088db345c48970a9ab60eff6d6",
       "version_major": 2,
       "version_minor": 0
      },
      "text/plain": [
       "  0%|          | 0/266 [00:00<?, ?batch/s]"
      ]
     },
     "metadata": {},
     "output_type": "display_data"
    },
    {
     "data": {
      "application/vnd.jupyter.widget-view+json": {
       "model_id": "9c24b3a3d51145edbcfa276ecbdc61bd",
       "version_major": 2,
       "version_minor": 0
      },
      "text/plain": [
       "  0%|          | 0/156 [00:00<?, ?batch/s]"
      ]
     },
     "metadata": {},
     "output_type": "display_data"
    },
    {
     "data": {
      "application/vnd.jupyter.widget-view+json": {
       "model_id": "07b2f092207f47ebb62d5255f31806b1",
       "version_major": 2,
       "version_minor": 0
      },
      "text/plain": [
       "  0%|          | 0/266 [00:00<?, ?batch/s]"
      ]
     },
     "metadata": {},
     "output_type": "display_data"
    },
    {
     "data": {
      "application/vnd.jupyter.widget-view+json": {
       "model_id": "b1a5f6a31373427eb48f00111221d61f",
       "version_major": 2,
       "version_minor": 0
      },
      "text/plain": [
       "  0%|          | 0/156 [00:00<?, ?batch/s]"
      ]
     },
     "metadata": {},
     "output_type": "display_data"
    },
    {
     "data": {
      "application/vnd.jupyter.widget-view+json": {
       "model_id": "519c08a6452a4c869eae1530e3d5942a",
       "version_major": 2,
       "version_minor": 0
      },
      "text/plain": [
       "  0%|          | 0/266 [00:00<?, ?batch/s]"
      ]
     },
     "metadata": {},
     "output_type": "display_data"
    },
    {
     "data": {
      "application/vnd.jupyter.widget-view+json": {
       "model_id": "abc7ae0b800b443ab974bf6201fd60ec",
       "version_major": 2,
       "version_minor": 0
      },
      "text/plain": [
       "  0%|          | 0/156 [00:00<?, ?batch/s]"
      ]
     },
     "metadata": {},
     "output_type": "display_data"
    },
    {
     "data": {
      "application/vnd.jupyter.widget-view+json": {
       "model_id": "87c45b2ade3542d8b629d1f04f69e409",
       "version_major": 2,
       "version_minor": 0
      },
      "text/plain": [
       "  0%|          | 0/266 [00:00<?, ?batch/s]"
      ]
     },
     "metadata": {},
     "output_type": "display_data"
    },
    {
     "data": {
      "application/vnd.jupyter.widget-view+json": {
       "model_id": "d74e605eb469405891b355394a67bee9",
       "version_major": 2,
       "version_minor": 0
      },
      "text/plain": [
       "  0%|          | 0/156 [00:00<?, ?batch/s]"
      ]
     },
     "metadata": {},
     "output_type": "display_data"
    },
    {
     "data": {
      "application/vnd.jupyter.widget-view+json": {
       "model_id": "8ab24a3d0adb45d5b482f22b3d607c88",
       "version_major": 2,
       "version_minor": 0
      },
      "text/plain": [
       "  0%|          | 0/266 [00:00<?, ?batch/s]"
      ]
     },
     "metadata": {},
     "output_type": "display_data"
    },
    {
     "data": {
      "application/vnd.jupyter.widget-view+json": {
       "model_id": "3d50375b5de349f988a8c53286dfb21e",
       "version_major": 2,
       "version_minor": 0
      },
      "text/plain": [
       "  0%|          | 0/156 [00:00<?, ?batch/s]"
      ]
     },
     "metadata": {},
     "output_type": "display_data"
    },
    {
     "data": {
      "application/vnd.jupyter.widget-view+json": {
       "model_id": "56d490dad8b145d79ed69a0bc808bb09",
       "version_major": 2,
       "version_minor": 0
      },
      "text/plain": [
       "  0%|          | 0/266 [00:00<?, ?batch/s]"
      ]
     },
     "metadata": {},
     "output_type": "display_data"
    },
    {
     "data": {
      "application/vnd.jupyter.widget-view+json": {
       "model_id": "a5ff3424c9644e3fa0de675bd89c3687",
       "version_major": 2,
       "version_minor": 0
      },
      "text/plain": [
       "  0%|          | 0/156 [00:00<?, ?batch/s]"
      ]
     },
     "metadata": {},
     "output_type": "display_data"
    },
    {
     "data": {
      "application/vnd.jupyter.widget-view+json": {
       "model_id": "5efc0dcfb1fe48cebee0401762ecf411",
       "version_major": 2,
       "version_minor": 0
      },
      "text/plain": [
       "  0%|          | 0/266 [00:00<?, ?batch/s]"
      ]
     },
     "metadata": {},
     "output_type": "display_data"
    },
    {
     "data": {
      "application/vnd.jupyter.widget-view+json": {
       "model_id": "91b760f8a5d24506a33c5c520466b980",
       "version_major": 2,
       "version_minor": 0
      },
      "text/plain": [
       "  0%|          | 0/156 [00:00<?, ?batch/s]"
      ]
     },
     "metadata": {},
     "output_type": "display_data"
    },
    {
     "data": {
      "application/vnd.jupyter.widget-view+json": {
       "model_id": "be5afb5ff3304fff8637205518857fe0",
       "version_major": 2,
       "version_minor": 0
      },
      "text/plain": [
       "  0%|          | 0/266 [00:00<?, ?batch/s]"
      ]
     },
     "metadata": {},
     "output_type": "display_data"
    },
    {
     "data": {
      "application/vnd.jupyter.widget-view+json": {
       "model_id": "229498f5620b4d28b7d889fb3d1fe3b9",
       "version_major": 2,
       "version_minor": 0
      },
      "text/plain": [
       "  0%|          | 0/156 [00:00<?, ?batch/s]"
      ]
     },
     "metadata": {},
     "output_type": "display_data"
    },
    {
     "data": {
      "application/vnd.jupyter.widget-view+json": {
       "model_id": "a8dd3d39d49f44d69b7a3cd8755cfa35",
       "version_major": 2,
       "version_minor": 0
      },
      "text/plain": [
       "  0%|          | 0/266 [00:00<?, ?batch/s]"
      ]
     },
     "metadata": {},
     "output_type": "display_data"
    },
    {
     "data": {
      "application/vnd.jupyter.widget-view+json": {
       "model_id": "8f0665aaae3648379ea336f6634aa32e",
       "version_major": 2,
       "version_minor": 0
      },
      "text/plain": [
       "  0%|          | 0/156 [00:00<?, ?batch/s]"
      ]
     },
     "metadata": {},
     "output_type": "display_data"
    },
    {
     "data": {
      "application/vnd.jupyter.widget-view+json": {
       "model_id": "c6d05ee7dff94e82920f85d93f864a0b",
       "version_major": 2,
       "version_minor": 0
      },
      "text/plain": [
       "  0%|          | 0/266 [00:00<?, ?batch/s]"
      ]
     },
     "metadata": {},
     "output_type": "display_data"
    },
    {
     "data": {
      "application/vnd.jupyter.widget-view+json": {
       "model_id": "ea772b60d3d84bf7b95da284f8c14588",
       "version_major": 2,
       "version_minor": 0
      },
      "text/plain": [
       "  0%|          | 0/156 [00:00<?, ?batch/s]"
      ]
     },
     "metadata": {},
     "output_type": "display_data"
    },
    {
     "data": {
      "application/vnd.jupyter.widget-view+json": {
       "model_id": "ac01657f154242a9b1e8ab9d43d9e79f",
       "version_major": 2,
       "version_minor": 0
      },
      "text/plain": [
       "  0%|          | 0/266 [00:00<?, ?batch/s]"
      ]
     },
     "metadata": {},
     "output_type": "display_data"
    },
    {
     "data": {
      "application/vnd.jupyter.widget-view+json": {
       "model_id": "4921747eda5f429995221d180c0c0a55",
       "version_major": 2,
       "version_minor": 0
      },
      "text/plain": [
       "  0%|          | 0/156 [00:00<?, ?batch/s]"
      ]
     },
     "metadata": {},
     "output_type": "display_data"
    }
   ],
   "source": [
    "epochs = 40 # You can reduce this to save time, but will affect performance\n",
    "\n",
    "# Learning rate scheduler with linear warmup\n",
    "warmup_rate = 0.1 # percentage of epochs used to warmup learning rate\n",
    "n_warmup = round(epochs*warmup_rate)\n",
    "schedulers = {\"warmup\": WarmUpLR(optimizer_baseline,\n",
    "                                 total_iters=len(train_loader) * n_warmup),\n",
    "              \"scheduler\": CosineAnnealingLR(optimizer_baseline,\n",
    "                                             len(train_loader) * max(1, epochs - n_warmup),\n",
    "                                             eta_min=1e-8)}\n",
    "# Send model to GPU if available\n",
    "kwt = kwt.to(device)\n",
    "\n",
    "# Placeholders\n",
    "losses = {}\n",
    "accuracies = {}\n",
    "validation_losses = {}\n",
    "validation_accuracies = {}\n",
    "\n",
    "for epoch in (progress_bar := tqdm(range(epochs), unit=\"Epoch\")):\n",
    "    running_loss = 0.0\n",
    "    running_correct = 0\n",
    "    processed = 0\n",
    "\n",
    "    for batch_index, data in tqdm(enumerate(train_loader), leave=False, position=1, total=len(train_loader), unit=\"batch\"):\n",
    "        waveforms, labels = data\n",
    "\n",
    "        features = mfcc(waveforms)\n",
    "\n",
    "        # Here we apply a data augmentation method called SpecAugment to improve generalization.\n",
    "        # Very simply, we mask out some time and frequency bands,\n",
    "        # making the training task more difficult as the model cannot\n",
    "        # heavily rely on specific features for its prediction.\n",
    "        features = spec_augment(features)\n",
    "\n",
    "        loss, correct = train_single_batch(kwt, features, labels, optimizer_baseline, criterion_baseline, device)\n",
    "        running_loss += loss\n",
    "        running_correct += correct\n",
    "        processed += features.size(0)\n",
    "\n",
    "        progress_bar.set_description(f\"Epoch loss: {running_loss/(batch_index+1):.2f} | Epoch accuracy: {running_correct/(processed)*100:.2f}% | Batch step: {batch_index + 1}/{len(train_loader)} - \")\n",
    "\n",
    "        if schedulers[\"warmup\"] is not None and epoch < n_warmup:\n",
    "            schedulers[\"warmup\"].step()\n",
    "\n",
    "        elif schedulers[\"scheduler\"] is not None:\n",
    "            schedulers[\"scheduler\"].step()\n",
    "\n",
    "    losses[str(epoch)] = running_loss/len(train_loader)\n",
    "    accuracies[str(epoch)] = running_correct/len(train_loader.dataset)\n",
    "\n",
    "    # Validate model after each epoch\n",
    "    validation_accuracy, validation_loss = evaluate(kwt, criterion_baseline, validation_loader, device)\n",
    "    validation_losses[str(epoch)] = validation_loss\n",
    "    validation_accuracies[str(epoch)] = validation_accuracy\n",
    "\n",
    "    "
   ]
  },
  {
   "cell_type": "code",
   "execution_count": null,
   "metadata": {},
   "outputs": [],
   "source": []
  }
 ],
 "metadata": {
  "kernelspec": {
   "display_name": "test",
   "language": "python",
   "name": "python3"
  },
  "language_info": {
   "codemirror_mode": {
    "name": "ipython",
    "version": 3
   },
   "file_extension": ".py",
   "mimetype": "text/x-python",
   "name": "python",
   "nbconvert_exporter": "python",
   "pygments_lexer": "ipython3",
   "version": "3.10.13"
  }
 },
 "nbformat": 4,
 "nbformat_minor": 2
}
