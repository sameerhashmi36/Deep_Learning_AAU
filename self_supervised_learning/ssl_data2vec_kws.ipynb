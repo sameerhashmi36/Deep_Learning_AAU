{
 "cells": [
  {
   "cell_type": "code",
   "execution_count": 1,
   "metadata": {},
   "outputs": [
    {
     "name": "stdout",
     "output_type": "stream",
     "text": [
      "Fri Aug 23 00:47:02 2024       \n",
      "+---------------------------------------------------------------------------------------+\n",
      "| NVIDIA-SMI 535.183.06             Driver Version: 535.183.06   CUDA Version: 12.2     |\n",
      "|-----------------------------------------+----------------------+----------------------+\n",
      "| GPU  Name                 Persistence-M | Bus-Id        Disp.A | Volatile Uncorr. ECC |\n",
      "| Fan  Temp   Perf          Pwr:Usage/Cap |         Memory-Usage | GPU-Util  Compute M. |\n",
      "|                                         |                      |               MIG M. |\n",
      "|=========================================+======================+======================|\n",
      "|   0  NVIDIA GeForce GTX 1650        On  | 00000000:01:00.0 Off |                  N/A |\n",
      "| N/A   56C    P8               1W /  50W |      6MiB /  4096MiB |      0%      Default |\n",
      "|                                         |                      |                  N/A |\n",
      "+-----------------------------------------+----------------------+----------------------+\n",
      "                                                                                         \n",
      "+---------------------------------------------------------------------------------------+\n",
      "| Processes:                                                                            |\n",
      "|  GPU   GI   CI        PID   Type   Process name                            GPU Memory |\n",
      "|        ID   ID                                                             Usage      |\n",
      "|=======================================================================================|\n",
      "|    0   N/A  N/A      1639      G   /usr/lib/xorg/Xorg                            4MiB |\n",
      "|    0   N/A  N/A      4613      G   /usr/bin/nvidia-settings                      1MiB |\n",
      "+---------------------------------------------------------------------------------------+\n"
     ]
    }
   ],
   "source": [
    "!nvidia-smi"
   ]
  },
  {
   "cell_type": "markdown",
   "metadata": {},
   "source": [
    "# Installing Packages"
   ]
  },
  {
   "cell_type": "code",
   "execution_count": 2,
   "metadata": {},
   "outputs": [
    {
     "name": "stdout",
     "output_type": "stream",
     "text": [
      "Found existing installation: gdown 5.2.0\n",
      "Uninstalling gdown-5.2.0:\n",
      "  Successfully uninstalled gdown-5.2.0\n",
      "Collecting gdown\n",
      "  Using cached gdown-5.2.0-py3-none-any.whl.metadata (5.8 kB)\n",
      "Requirement already satisfied: beautifulsoup4 in /home/sameerhashmi36/miniconda3/envs/test/lib/python3.10/site-packages (from gdown) (4.12.3)\n",
      "Requirement already satisfied: filelock in /home/sameerhashmi36/miniconda3/envs/test/lib/python3.10/site-packages (from gdown) (3.14.0)\n",
      "Requirement already satisfied: requests[socks] in /home/sameerhashmi36/miniconda3/envs/test/lib/python3.10/site-packages (from gdown) (2.32.2)\n",
      "Requirement already satisfied: tqdm in /home/sameerhashmi36/miniconda3/envs/test/lib/python3.10/site-packages (from gdown) (4.66.4)\n",
      "Requirement already satisfied: soupsieve>1.2 in /home/sameerhashmi36/miniconda3/envs/test/lib/python3.10/site-packages (from beautifulsoup4->gdown) (2.5)\n",
      "Requirement already satisfied: charset-normalizer<4,>=2 in /home/sameerhashmi36/miniconda3/envs/test/lib/python3.10/site-packages (from requests[socks]->gdown) (3.3.2)\n",
      "Requirement already satisfied: idna<4,>=2.5 in /home/sameerhashmi36/miniconda3/envs/test/lib/python3.10/site-packages (from requests[socks]->gdown) (3.7)\n",
      "Requirement already satisfied: urllib3<3,>=1.21.1 in /home/sameerhashmi36/miniconda3/envs/test/lib/python3.10/site-packages (from requests[socks]->gdown) (2.2.1)\n",
      "Requirement already satisfied: certifi>=2017.4.17 in /home/sameerhashmi36/miniconda3/envs/test/lib/python3.10/site-packages (from requests[socks]->gdown) (2024.2.2)\n",
      "Requirement already satisfied: PySocks!=1.5.7,>=1.5.6 in /home/sameerhashmi36/miniconda3/envs/test/lib/python3.10/site-packages (from requests[socks]->gdown) (1.7.1)\n",
      "Using cached gdown-5.2.0-py3-none-any.whl (18 kB)\n",
      "Installing collected packages: gdown\n",
      "Successfully installed gdown-5.2.0\n",
      "Requirement already satisfied: einops in /home/sameerhashmi36/miniconda3/envs/test/lib/python3.10/site-packages (0.8.0)\n",
      "Requirement already satisfied: transformers in /home/sameerhashmi36/miniconda3/envs/test/lib/python3.10/site-packages (4.44.0)\n",
      "Requirement already satisfied: filelock in /home/sameerhashmi36/miniconda3/envs/test/lib/python3.10/site-packages (from transformers) (3.14.0)\n",
      "Requirement already satisfied: huggingface-hub<1.0,>=0.23.2 in /home/sameerhashmi36/miniconda3/envs/test/lib/python3.10/site-packages (from transformers) (0.24.5)\n",
      "Requirement already satisfied: numpy>=1.17 in /home/sameerhashmi36/miniconda3/envs/test/lib/python3.10/site-packages (from transformers) (1.26.4)\n",
      "Requirement already satisfied: packaging>=20.0 in /home/sameerhashmi36/miniconda3/envs/test/lib/python3.10/site-packages (from transformers) (24.0)\n",
      "Requirement already satisfied: pyyaml>=5.1 in /home/sameerhashmi36/miniconda3/envs/test/lib/python3.10/site-packages (from transformers) (6.0.1)\n",
      "Requirement already satisfied: regex!=2019.12.17 in /home/sameerhashmi36/miniconda3/envs/test/lib/python3.10/site-packages (from transformers) (2024.7.24)\n",
      "Requirement already satisfied: requests in /home/sameerhashmi36/miniconda3/envs/test/lib/python3.10/site-packages (from transformers) (2.32.2)\n",
      "Requirement already satisfied: safetensors>=0.4.1 in /home/sameerhashmi36/miniconda3/envs/test/lib/python3.10/site-packages (from transformers) (0.4.4)\n",
      "Requirement already satisfied: tokenizers<0.20,>=0.19 in /home/sameerhashmi36/miniconda3/envs/test/lib/python3.10/site-packages (from transformers) (0.19.1)\n",
      "Requirement already satisfied: tqdm>=4.27 in /home/sameerhashmi36/miniconda3/envs/test/lib/python3.10/site-packages (from transformers) (4.66.4)\n",
      "Requirement already satisfied: fsspec>=2023.5.0 in /home/sameerhashmi36/miniconda3/envs/test/lib/python3.10/site-packages (from huggingface-hub<1.0,>=0.23.2->transformers) (2024.5.0)\n",
      "Requirement already satisfied: typing-extensions>=3.7.4.3 in /home/sameerhashmi36/miniconda3/envs/test/lib/python3.10/site-packages (from huggingface-hub<1.0,>=0.23.2->transformers) (4.11.0)\n",
      "Requirement already satisfied: charset-normalizer<4,>=2 in /home/sameerhashmi36/miniconda3/envs/test/lib/python3.10/site-packages (from requests->transformers) (3.3.2)\n",
      "Requirement already satisfied: idna<4,>=2.5 in /home/sameerhashmi36/miniconda3/envs/test/lib/python3.10/site-packages (from requests->transformers) (3.7)\n",
      "Requirement already satisfied: urllib3<3,>=1.21.1 in /home/sameerhashmi36/miniconda3/envs/test/lib/python3.10/site-packages (from requests->transformers) (2.2.1)\n",
      "Requirement already satisfied: certifi>=2017.4.17 in /home/sameerhashmi36/miniconda3/envs/test/lib/python3.10/site-packages (from requests->transformers) (2024.2.2)\n"
     ]
    }
   ],
   "source": [
    "!pip uninstall gdown -y && pip install gdown\n",
    "!pip install einops transformers"
   ]
  },
  {
   "cell_type": "markdown",
   "metadata": {},
   "source": [
    "# Some boilerplate code and imports need to for running the rest of the notebook"
   ]
  },
  {
   "cell_type": "code",
   "execution_count": 3,
   "metadata": {},
   "outputs": [],
   "source": [
    "import copy\n",
    "import os\n",
    "import random\n",
    "\n",
    "from einops import rearrange, repeat\n",
    "from einops.layers.torch import Rearrange\n",
    "from matplotlib import pyplot as plt\n",
    "import numpy as np\n",
    "import torch\n",
    "import torch.fft\n",
    "from torch import nn, einsum\n",
    "import torch.nn.functional as F\n",
    "from torch.optim.lr_scheduler import CosineAnnealingLR, OneCycleLR\n",
    "from torch.utils.data import DataLoader, Subset\n",
    "from torchaudio.datasets import SPEECHCOMMANDS\n",
    "from transformers.models.wav2vec2.modeling_wav2vec2 import _compute_mask_indices\n",
    "from tqdm.notebook import tqdm"
   ]
  },
  {
   "cell_type": "code",
   "execution_count": 4,
   "metadata": {},
   "outputs": [],
   "source": [
    "class PreNorm(nn.Module):\n",
    "    \"\"\"\n",
    "    Pre layer normalization\n",
    "    \"\"\"\n",
    "    def __init__(self, dim, fn):\n",
    "        \"\"\"\n",
    "        Initialises PreNorm module\n",
    "        :param dim: model dimension\n",
    "        :param fn: torch module\n",
    "        \"\"\"\n",
    "        super().__init__()\n",
    "        self.norm = nn.LayerNorm(dim)\n",
    "        self.fn = fn\n",
    "\n",
    "    def forward(self, x, **kwargs):\n",
    "        \"\"\"\n",
    "        Forward method for PreNorm module\n",
    "        :param x: input tensor\n",
    "        :param kwargs: Keyword arguments\n",
    "        :return:\n",
    "        \"\"\"\n",
    "        return self.fn(self.norm(x), **kwargs)\n",
    "\n",
    "\n",
    "class PostNorm(nn.Module):\n",
    "    \"\"\"\n",
    "    Post layer normalization\n",
    "    \"\"\"\n",
    "    def __init__(self, dim, fn):\n",
    "        \"\"\"\n",
    "        Initialises PostNorm module\n",
    "        :param dim: model dimension\n",
    "        :param fn: torch module\n",
    "        \"\"\"\n",
    "        super().__init__()\n",
    "        self.norm = nn.LayerNorm(dim)\n",
    "        self.fn = fn\n",
    "\n",
    "    def forward(self, x, **kwargs):\n",
    "        \"\"\"\n",
    "        Forward method for PostNorm module\n",
    "        :param x: input tensor\n",
    "        :param kwargs: Keyword arguments\n",
    "        :return: PostNorm output\n",
    "        \"\"\"\n",
    "        return self.norm(self.fn(x, **kwargs))\n",
    "\n",
    "\n",
    "class FeedForward(nn.Module):\n",
    "    \"\"\"\n",
    "    Feed forward model\n",
    "    \"\"\"\n",
    "    def __init__(self, dim, hidden_dim, dropout=0.):\n",
    "        \"\"\"\n",
    "        Initialises FeedForward module\n",
    "        :param dim: feedforward dim\n",
    "        :param hidden_dim: hidden dimension of feedforward layer\n",
    "        :param dropout: feedforward dropout percentage\n",
    "        \"\"\"\n",
    "        super().__init__()\n",
    "        self.net = nn.Sequential(\n",
    "            nn.Linear(dim, hidden_dim),\n",
    "            nn.GELU(),\n",
    "            nn.Dropout(dropout),\n",
    "            nn.Linear(hidden_dim, dim),\n",
    "            nn.Dropout(dropout)\n",
    "        )\n",
    "\n",
    "    def forward(self, x):\n",
    "        \"\"\"\n",
    "        Forward method for feedforward module\n",
    "        :param x: input tensor\n",
    "        :return: FeedForward output\n",
    "        \"\"\"\n",
    "        return self.net(x)\n",
    "\n",
    "\n",
    "class Attention(nn.Module):\n",
    "    \"\"\"\n",
    "    Attention module\n",
    "    \"\"\"\n",
    "    def __init__(self, dim, heads=8, dim_head=64, dropout=0.):\n",
    "        \"\"\"\n",
    "        Initialises Attention module\n",
    "        :param dim: transformer dimension\n",
    "        :param heads: number of attention heads\n",
    "        :param dim_head: attention head dimension\n",
    "        :param dropout: attention output dropout\n",
    "        \"\"\"\n",
    "        super().__init__()\n",
    "        inner_dim = dim_head * heads\n",
    "        project_out = not (heads == 1 and dim_head == dim)\n",
    "\n",
    "        self.heads = heads\n",
    "        self.scale = dim_head ** -0.5\n",
    "\n",
    "        self.attend = nn.Softmax(dim=-1)\n",
    "        self.to_qkv = nn.Linear(dim, inner_dim * 3, bias=False)\n",
    "\n",
    "        self.to_out = nn.Sequential(\n",
    "            nn.Linear(inner_dim, dim),\n",
    "            nn.Dropout(dropout)\n",
    "        ) if project_out else nn.Identity()\n",
    "\n",
    "    def forward(self, x):\n",
    "        \"\"\"\n",
    "        Forward method for Attention module\n",
    "        :param x: input tensor\n",
    "        :return: Attention module output\n",
    "        \"\"\"\n",
    "        b, n, _, h = *x.shape, self.heads\n",
    "        qkv = self.to_qkv(x).chunk(3, dim=-1)\n",
    "        q, k, v = map(lambda t: rearrange(t, 'b n (h d) -> b h n d', h=h), qkv)\n",
    "\n",
    "        dots = einsum('b h i d, b h j d -> b h i j', q, k) * self.scale\n",
    "\n",
    "        attn = self.attend(dots)\n",
    "\n",
    "        out = einsum('b h i j, b h j d -> b h i d', attn, v)\n",
    "        out = rearrange(out, 'b h n d -> b n (h d)')\n",
    "        return self.to_out(out)\n",
    "\n",
    "\n",
    "class Transformer(nn.Module):\n",
    "    \"\"\"\n",
    "    Transformer model\n",
    "    \"\"\"\n",
    "    def __init__(self, dim, depth, heads, dim_head, mlp_dim, pre_norm=True, dropout=0.):\n",
    "        \"\"\"\n",
    "        Initialises Transformer model\n",
    "        :param dim: transformer dimension\n",
    "        :param depth: number of transformer layers\n",
    "        :param heads: number of attention heads for each transformer layer\n",
    "        :param dim_head: dimension of each attention head\n",
    "        :param mlp_dim: MLP dimension\n",
    "        :param pre_norm: specifies whether PreNorm (True) or PostNorm (False) is used\n",
    "        :param dropout: dropout percentage of Attention of FeedForward modules\n",
    "        \"\"\"\n",
    "        super().__init__()\n",
    "        self.layers = nn.ModuleList([])\n",
    "\n",
    "        P_Norm = PreNorm if pre_norm else PostNorm\n",
    "\n",
    "        for _ in range(depth):\n",
    "            self.layers.append(nn.ModuleList([\n",
    "                P_Norm(dim, Attention(dim, heads=heads, dim_head=dim_head, dropout=dropout)),\n",
    "                P_Norm(dim, FeedForward(dim, mlp_dim, dropout=dropout))\n",
    "            ]))\n",
    "\n",
    "    def forward(self, x):\n",
    "        \"\"\"\n",
    "        Forward method for Transformer model\n",
    "        :param x: input tensor\n",
    "        :return: Tuple of model output, hidden states of transformer and attentions from each transformer layer\n",
    "        \"\"\"\n",
    "        hidden_states = []\n",
    "        attentions = []\n",
    "        for attn, ff in self.layers:\n",
    "            x = attn(x) + x\n",
    "            attentions.append(x)\n",
    "            x = ff(x) + x\n",
    "            hidden_states.append(x)\n",
    "        return x, hidden_states, attentions\n",
    "\n",
    "\n",
    "class KWT(nn.Module):\n",
    "    \"\"\"\n",
    "    KWT model\n",
    "    \"\"\"\n",
    "    def __init__(self, input_res, patch_res, num_classes, dim, depth, heads, mlp_dim, pool='cls', channels=1,\n",
    "                 dim_head=64, dropout=0., emb_dropout=0., pre_norm=True, **kwargs):\n",
    "        \"\"\"\n",
    "        Initialises KWT model\n",
    "        :param input_res: input spectrogram size\n",
    "        :param patch_res: patch size\n",
    "        :param num_classes: number of keyword classes\n",
    "        :param dim: transformer dimension\n",
    "        :param depth: number of transformer layers\n",
    "        :param heads: number of attention heads\n",
    "        :param mlp_dim: MLP dimension\n",
    "        :param pool: specifies whether CLS token or average pooling of transformer model is used for classification\n",
    "        :param channels: Number of input channels\n",
    "        :param dim_head: dimension of attention heads\n",
    "        :param dropout: dropout of transformer attention and feed forward layers\n",
    "        :param emb_dropout: dropout of embeddings\n",
    "        :param pre_norm: specifies whether PreNorm (True) or PostNorm (False) is used\n",
    "        :param kwargs: Keyword arguments\n",
    "        \"\"\"\n",
    "        super().__init__()\n",
    "\n",
    "        num_patches = int(input_res[0] / patch_res[0] * input_res[1] / patch_res[1])\n",
    "\n",
    "        patch_dim = channels * patch_res[0] * patch_res[1]\n",
    "        assert pool in {'cls', 'mean'}, 'pool type must be either cls (cls token) or mean (mean pooling)'\n",
    "\n",
    "        self.to_patch_embedding = nn.Sequential(\n",
    "            Rearrange('b c (h p1) (w p2) -> b (h w) (p1 p2 c)', p1=patch_res[0], p2=patch_res[1]),\n",
    "            nn.Linear(patch_dim, dim),\n",
    "        )\n",
    "\n",
    "        self.pos_embedding = nn.Parameter(torch.randn(1, num_patches + 1, dim))\n",
    "        self.cls_token = nn.Parameter(torch.randn(1, 1, dim))\n",
    "        self.dropout = nn.Dropout(emb_dropout)\n",
    "        self.mask_embedding = nn.Parameter(torch.FloatTensor(dim).uniform_())\n",
    "        self.transformer = Transformer(dim, depth, heads, dim_head, mlp_dim, pre_norm, dropout)\n",
    "\n",
    "        self.pool = pool\n",
    "        self.to_latent = nn.Identity()\n",
    "\n",
    "        # Create classification head\n",
    "        self.mlp_head = nn.Sequential(\n",
    "            nn.LayerNorm(dim),\n",
    "            nn.Linear(dim, num_classes)\n",
    "        )\n",
    "\n",
    "    def forward(self, x, mask=None, output_hidden_states=False, output_attentions=False):\n",
    "        \"\"\"\n",
    "        Forward method of KWT model\n",
    "        :param x: input tensor\n",
    "        :param mask: input mask\n",
    "        :param output_hidden_states: specifies whether hidden states are output\n",
    "        :param output_attentions: specifies whether attentions are output\n",
    "        :return: KWT model output, if output_hidden_states and/or output_attentions the classification head is skipped\n",
    "        \"\"\"\n",
    "        x = self.to_patch_embedding(x)\n",
    "        b, n, _ = x.shape\n",
    "\n",
    "        # Add cls token embedding\n",
    "        cls_tokens = repeat(self.cls_token, '() n d -> b n d', b=b)\n",
    "        x = torch.cat((cls_tokens, x), dim=1)\n",
    "\n",
    "        # Mask input\n",
    "        if mask is not None:\n",
    "            x[mask] = self.mask_embedding\n",
    "\n",
    "        x += self.pos_embedding[:, :(n + 1)]\n",
    "        x = self.dropout(x)\n",
    "\n",
    "        x, hidden_states, attentions = self.transformer(x)\n",
    "\n",
    "        x = x.mean(dim=1) if self.pool == 'mean' else x[:, 0]\n",
    "\n",
    "        x = self.to_latent(x)\n",
    "\n",
    "        if any([output_hidden_states, output_attentions]):\n",
    "            outputs = (self.mlp_head(x), hidden_states) if output_hidden_states else (self.mlp_head(x), )\n",
    "            outputs = outputs + (attentions, ) if output_attentions else outputs\n",
    "            return outputs\n",
    "        return self.mlp_head(x)\n",
    "\n",
    "\n",
    "\n",
    "class EMA:\n",
    "    \"\"\"\n",
    "    Modified version of class fairseq.models.ema.EMA.\n",
    "    \"\"\"\n",
    "\n",
    "    def __init__(self, model: nn.Module, device=None, skip_keys=None, ema_decay=0.999):\n",
    "        self.model = copy.deepcopy(model)\n",
    "        self.model.requires_grad_(False)\n",
    "        if device is not None:\n",
    "            self.model.to(device)\n",
    "        self.device = device\n",
    "        self.skip_keys = skip_keys or set()\n",
    "        self.decay = ema_decay\n",
    "        self.num_updates = 0\n",
    "\n",
    "    def step(self, new_model: nn.Module):\n",
    "        ema_state_dict = {}\n",
    "        ema_params = self.model.state_dict()\n",
    "        for key, param in new_model.state_dict().items():\n",
    "            ema_param = ema_params[key].float()\n",
    "            if key in self.skip_keys:\n",
    "                ema_param = param.to(dtype=ema_param.dtype).clone()\n",
    "            else:\n",
    "                ema_param.mul_(self.decay)\n",
    "                ema_param.add_(param.to(dtype=ema_param.dtype), alpha=1 - self.decay)\n",
    "            ema_state_dict[key] = ema_param\n",
    "        self.model.load_state_dict(ema_state_dict, strict=False)\n",
    "        self.num_updates += 1\n",
    "\n",
    "    def restore(self, model: nn.Module):\n",
    "        d = self.model.state_dict()\n",
    "        model.load_state_dict(d, strict=False)\n",
    "        return model\n",
    "\n",
    "    def _set_decay(self, decay):\n",
    "        self.decay = decay\n",
    "\n",
    "    def get_decay(self):\n",
    "        return self.decay\n",
    "\n",
    "    @staticmethod\n",
    "    def get_annealed_rate(start, end, curr_step, total_steps):\n",
    "        r = end - start\n",
    "        pct_remaining = 1 - curr_step / total_steps\n",
    "        return end - r * pct_remaining\n",
    "\n",
    "\n",
    "class AudioMaskingGenerator:\n",
    "    def __init__(self,\n",
    "                 mask_prob: float,\n",
    "                 mask_length: int,\n",
    "                 attention_mask=None,\n",
    "                 min_masks: int = 0):\n",
    "        self.mask_prob = mask_prob\n",
    "        self.mask_length = mask_length\n",
    "        self.attention_mask = attention_mask\n",
    "        self.min_masks = min_masks\n",
    "\n",
    "    def __call__(self, shape):\n",
    "        batch_size, audio_size = shape\n",
    "        mask = _compute_mask_indices((batch_size, audio_size),\n",
    "                                     self.mask_prob,\n",
    "                                     self.mask_length,\n",
    "                                     self.attention_mask,\n",
    "                                     self.min_masks)\n",
    "        mask = torch.from_numpy(mask)\n",
    "        return mask\n",
    "\n",
    "\n",
    "class Data2Vec(nn.Module):\n",
    "    \"\"\"\n",
    "    Data2Vec main module.\n",
    "    \"\"\"\n",
    "\n",
    "    def __init__(self,\n",
    "                 encoder: nn.Module,\n",
    "                 model_embed_dim: int,\n",
    "                 ema_decay: float,\n",
    "                 ema_end_decay: float,\n",
    "                 ema_anneal_end_step: int,\n",
    "                 average_top_k_layers: int,\n",
    "                 normalize_targets: bool,\n",
    "                 **kwargs):\n",
    "        \"\"\"\n",
    "        :param encoder: transformer encoder\n",
    "        :param model_embed_dim: Embedding dimension of transformer encoder\n",
    "        :param ema_decay: EMA model decay\n",
    "        :param ema_end_decay: EMA model end decay\n",
    "        :param ema_anneal_end_step: Number of annealing steps for EMA model decay\n",
    "        :param average_top_k_layers: Number of encoder layers to use for Data2Vec target\n",
    "        :param normalize_targets: Specifies whether Dat2Vec targets are normalized\n",
    "        :param kwargs: keyword arguments\n",
    "        \"\"\"\n",
    "        super(Data2Vec, self).__init__()\n",
    "        self.encoder = encoder\n",
    "        self.embed_dim = model_embed_dim\n",
    "        self.ema_decay = ema_decay\n",
    "        self.ema_end_decay = ema_end_decay\n",
    "        self.ema_anneal_end_step = ema_anneal_end_step\n",
    "        self.average_top_k_layers = average_top_k_layers\n",
    "        self.normalize_targets = normalize_targets\n",
    "        self.__dict__.update(kwargs)\n",
    "\n",
    "        self.ema = EMA(self.encoder, device=\"cuda\")  # Instantiate teacher encoder as EMA of student encoder\n",
    "        self.regression_head = self._build_regression_head()  # Instantiate regression head to predict target\n",
    "\n",
    "    def _build_regression_head(self):\n",
    "        return nn.Linear(self.embed_dim, self.embed_dim)\n",
    "\n",
    "    def ema_step(self):\n",
    "        \"\"\"\n",
    "        Function which to step the EMA encoder\n",
    "        \"\"\"\n",
    "        if self.ema_decay != self.ema_end_decay:\n",
    "            if self.ema.num_updates >= self.ema_anneal_end_step:\n",
    "                decay = self.ema_end_decay\n",
    "            else:\n",
    "                decay = self.ema.get_annealed_rate(\n",
    "                    self.ema_decay,\n",
    "                    self.ema_end_decay,\n",
    "                    self.ema.num_updates,\n",
    "                    self.ema_anneal_end_step,\n",
    "                )\n",
    "            self.ema.decay = decay\n",
    "        if self.ema.decay < 1:\n",
    "            self.ema.step(self.encoder)\n",
    "\n",
    "    def forward(self, student_input, teacher_input=None, mask=None):\n",
    "        \"\"\"\n",
    "        Data2Vec forward method.\n",
    "        :param student_input: Input for student encoder\n",
    "        :param teacher_input: Input for teacher encoder\n",
    "        :param mask: mask for student input if input is not already masked\n",
    "        :return: Data2Vec model output x, y for student prediction and teacher target, respectively\n",
    "        \"\"\"\n",
    "\n",
    "        encoder_out, student_hidden_states = self.encoder(student_input, mask=mask, output_hidden_states=True)\n",
    "        if teacher_input is None:\n",
    "            return encoder_out\n",
    "        x = student_hidden_states[-1]\n",
    "        with torch.no_grad():\n",
    "            self.ema.model.eval()\n",
    "\n",
    "            _, teacher_hidden_states = self.ema.model(teacher_input, mask=None, output_hidden_states=True)\n",
    "\n",
    "            y = teacher_hidden_states[-self.average_top_k_layers:]\n",
    "            y = [F.instance_norm(tl.float().transpose(1, 2)).transpose(1, 2) for tl in y]\n",
    "            y = sum(y) / len(y)\n",
    "            if self.normalize_targets:\n",
    "                y = F.instance_norm(y).transpose(1, 2).transpose(1, 2)\n",
    "\n",
    "        x = x[mask]\n",
    "        y = y[mask]\n",
    "\n",
    "        x = self.regression_head(x)\n",
    "\n",
    "        return x, y\n",
    "\n",
    "\n",
    "class SpeechCommands(SPEECHCOMMANDS):\n",
    "    def __init__(self, subset: str = None):\n",
    "        super().__init__(\"./\", download=True)\n",
    "\n",
    "        def load_list(filename):\n",
    "            filepath = os.path.join(self._path, filename)\n",
    "            with open(filepath) as fileobj:\n",
    "                return [os.path.normpath(os.path.join(self._path, line.strip())) for line in fileobj]\n",
    "\n",
    "        if subset == \"validation\":\n",
    "            self._walker = load_list(\"validation_list.txt\")\n",
    "        elif subset == \"testing\":\n",
    "            self._walker = load_list(\"testing_list.txt\")\n",
    "        elif subset == \"training\":\n",
    "            excludes = load_list(\"validation_list.txt\") + load_list(\"testing_list.txt\")\n",
    "            excludes = set(excludes)\n",
    "            self._walker = [w for w in self._walker if w not in excludes]\n",
    "\n",
    "\n",
    "class WarmUpLR(torch.optim.lr_scheduler._LRScheduler):\n",
    "    \"\"\"WarmUp learning rate scheduler.\n",
    "\n",
    "    Args:\n",
    "        optimizer (optim.Optimizer): Optimizer instance\n",
    "        total_iters (int): steps_per_epoch * n_warmup_epochs\n",
    "        last_epoch (int): Final epoch. Defaults to -1.\n",
    "    \"\"\"\n",
    "\n",
    "    def __init__(self, optimizer: torch.optim.Optimizer, total_iters: int, last_epoch: int = -1):\n",
    "        \"\"\"Initializer for WarmUpLR\"\"\"\n",
    "\n",
    "        self.total_iters = total_iters\n",
    "        super().__init__(optimizer, last_epoch)\n",
    "\n",
    "    def get_lr(self):\n",
    "        \"\"\"Learning rate will be set to base_lr * last_epoch / total_iters.\"\"\"\n",
    "\n",
    "        return [base_lr * self.last_epoch / (self.total_iters + 1e-8) for base_lr in self.base_lrs]\n",
    "\n",
    "\n",
    "def pad_sequence(batch):\n",
    "    # Make all tensor in a batch the same length by padding with zeros\n",
    "    batch = [item.t() for item in batch]\n",
    "    batch = torch.nn.utils.rnn.pad_sequence(batch, batch_first=True, padding_value=0.)\n",
    "    return batch.permute(0, 2, 1)\n",
    "\n",
    "\n",
    "labels_list = ['backward', 'bed', 'bird', 'cat', 'dog', 'down', 'eight', 'five', 'follow',\n",
    "          'forward', 'four', 'go', 'happy', 'house', 'learn', 'left', 'marvin', 'nine',\n",
    "          'no', 'off', 'on', 'one', 'right', 'seven', 'sheila', 'six', 'stop', 'three',\n",
    "          'tree', 'two', 'up', 'visual', 'wow', 'yes', 'zero']\n",
    "\n",
    "def label_to_index(word):\n",
    "    # Return the position of the word in labels\n",
    "    return torch.tensor(labels_list.index(word))\n",
    "\n",
    "\n",
    "def index_to_label(index):\n",
    "    # Return the word corresponding to the index in labels\n",
    "    # This is the inverse of label_to_index\n",
    "    return labels_list[index]\n",
    "\n",
    "\n",
    "def collate_fn(batch):\n",
    "\n",
    "    # A data tuple has the form:\n",
    "    # waveform, sample_rate, label, speaker_id, utterance_number\n",
    "\n",
    "    tensors, targets = [], []\n",
    "\n",
    "    # Gather in lists, and encode labels as indices\n",
    "    for waveform, _, label, *_ in batch:\n",
    "        tensors += [waveform]\n",
    "        targets += [label_to_index(label)]\n",
    "\n",
    "    # Group the list of tensors into a batched tensor\n",
    "    tensors = pad_sequence(tensors)\n",
    "    targets = torch.stack(targets)\n",
    "\n",
    "    return tensors, targets\n",
    "\n",
    "\n",
    "def spec_augment(mel_spec, n_time_masks=2, time_mask_width=25, n_freq_masks=2, freq_mask_width=7):\n",
    "    for i in range(mel_spec.size(0)):\n",
    "      offset, begin = 0, 0\n",
    "      for _ in range(n_time_masks):\n",
    "          offset = random.randint(0, time_mask_width)\n",
    "          begin = random.randint(0, mel_spec.size(3) - offset)\n",
    "          mel_spec[i, :, :, begin: begin + offset] = 0.0\n",
    "\n",
    "      for _ in range(n_freq_masks):\n",
    "          offset = random.randint(0, freq_mask_width)\n",
    "          begin = random.randint(0, mel_spec.size(2) - offset)\n",
    "          mel_spec[i, : ,begin: begin + offset, :] = 0.0\n",
    "\n",
    "    return mel_spec\n",
    "\n",
    "\n",
    "def plot_loss_accuracy(losses, accuracies,\n",
    "                       validation_losses=None,\n",
    "                       validation_accuracies=None,\n",
    "                       grid=False):\n",
    "  fig, axs = plt.subplots(2, 1, sharex=True)\n",
    "  epochs_list = list(losses.keys())\n",
    "  epochs_list = [int(number) for number in epochs_list]\n",
    "  losses_list = list(losses.values())\n",
    "  accuracies_list = list(accuracies.values())\n",
    "  axs[0].plot(epochs_list, losses_list, label=\"train\")\n",
    "  axs[1].plot(epochs_list, accuracies_list, label=\"train\")\n",
    "  if (validation_losses and validation_accuracies):\n",
    "    validation_epochs_list = list(validation_losses.keys())\n",
    "    validation_epochs_list = [int(number) for number in validation_epochs_list]\n",
    "    validation_losses_list = list(validation_losses.values())\n",
    "    validation_accuracies_list = list(validation_accuracies.values())\n",
    "    axs[0].plot(validation_epochs_list, validation_losses_list, label=\"validation\")\n",
    "    axs[1].plot(validation_epochs_list, validation_accuracies_list, label=\"validation\")\n",
    "    axs[0].legend()\n",
    "    axs[1].legend()\n",
    "\n",
    "  axs[0].set_ylabel(\"Loss\")\n",
    "  axs[1].set_xlabel(\"Epoch\")\n",
    "  axs[1].set_ylabel(\"Accuracy\")\n",
    "  axs[1].set_ylim(0.0, 1.0)\n",
    "\n",
    "  if grid:\n",
    "    axs[0].grid()\n",
    "    axs[1].grid()\n",
    "\n",
    "  plt.show()\n",
    "\n",
    "\n",
    "def plot_loss_and_variance(losses, target_vars, prediction_vars, grid=False):\n",
    "  fig, axs = plt.subplots(2, 1, sharex=True)\n",
    "\n",
    "  epochs_list = list(losses.keys())\n",
    "  epochs_list = [int(number) for number in epochs_list]\n",
    "  losses_list = list(losses.values())\n",
    "  target_vars_list = list(target_vars.values())\n",
    "  prediction_vars_list = list(prediction_vars.values())\n",
    "  axs[0].plot(epochs_list, losses_list)\n",
    "  axs[1].plot(epochs_list, target_vars_list, label=\"Target\")\n",
    "  axs[1].plot(epochs_list, prediction_vars_list, label=\"Prediction\")\n",
    "\n",
    "  axs[0].set_ylabel(\"Loss\")\n",
    "  axs[1].set_xlabel(\"Epoch\")\n",
    "  axs[1].set_ylabel(\"Variance\")\n",
    "\n",
    "  axs[0].ticklabel_format(style=\"sci\", scilimits=(0, 0))\n",
    "\n",
    "  if grid:\n",
    "    axs[0].grid()\n",
    "    axs[1].grid()\n",
    "\n",
    "  plt.show()\n",
    "\n",
    "\n",
    "\n",
    "def compute_var(y: torch.Tensor):\n",
    "    y = y.view(-1, y.size(-1))\n",
    "    return torch.sqrt(y.var(dim=0) + 1e-6).mean()\n",
    "\n",
    "\n",
    "def load_pretrained_checkpoint(model):\n",
    "  import subprocess as sp\n",
    "  if not os.path.exists(\"pretrained_encoder.pth\"):\n",
    "    print(\"Downloading checkpoint...\")\n",
    "    sp.call(\"gdown 1djqZQX4wpZ9dJgkzVbi_UAOAO59G-pcv\", shell=True)\n",
    "  else:\n",
    "    print(\"Checkpoint already available skipping download...\")\n",
    "\n",
    "  print(\"Loading checkpoint weights...\")\n",
    "  ckpt = torch.load(\"./pretrained_encoder.pth\", map_location=torch.device('cpu'))\n",
    "  model.load_state_dict(ckpt[\"model_state_dict\"])\n",
    "  print(\"Checkpoint loaded.\")\n",
    "\n",
    "  return model\n",
    "\n",
    "\n",
    "def seed_everything(seed: int) -> None:\n",
    "    \"\"\"\n",
    "    Set manual seed of python, numpy, pytorch and cuda\n",
    "    :param seed: Supplied seed.\n",
    "    :return: None\n",
    "    \"\"\"\n",
    "\n",
    "    random.seed(seed)\n",
    "    os.environ['PYTHONHASHSEED'] = str(seed)\n",
    "    np.random.seed(seed)\n",
    "    torch.manual_seed(seed)\n",
    "    torch.cuda.manual_seed(seed)\n",
    "    torch.backends.cudnn.deterministic = True\n",
    "    print(f'Set {seed=}')"
   ]
  },
  {
   "cell_type": "markdown",
   "metadata": {},
   "source": [
    "checking if gpu is available"
   ]
  },
  {
   "cell_type": "code",
   "execution_count": 5,
   "metadata": {},
   "outputs": [],
   "source": [
    "device = torch.device(\"cuda\" if torch.cuda.is_available() else \"cpu\")"
   ]
  },
  {
   "cell_type": "markdown",
   "metadata": {},
   "source": [
    "Setting random seed for reproducibility(randomness)\n",
    "1. randomly shuffling data\n",
    "2. randomly initializing model weights\n",
    "3. splitting data into training and testing sets."
   ]
  },
  {
   "cell_type": "code",
   "execution_count": 6,
   "metadata": {},
   "outputs": [
    {
     "name": "stdout",
     "output_type": "stream",
     "text": [
      "Set seed=0\n"
     ]
    }
   ],
   "source": [
    "seed = 0\n",
    "seed_everything(seed)"
   ]
  },
  {
   "cell_type": "markdown",
   "metadata": {},
   "source": [
    "## Dataset\n",
    "\n",
    "Testing if Data2Vec can improve KWS performance in label-deficient settings."
   ]
  },
  {
   "cell_type": "code",
   "execution_count": 7,
   "metadata": {},
   "outputs": [
    {
     "name": "stdout",
     "output_type": "stream",
     "text": [
      "Examples in pretrain: 67874, Examples in train: 16969, Examples in validation: 9981, Examples in test: 11005\n"
     ]
    }
   ],
   "source": [
    "original_train_set = SpeechCommands(\"training\")\n",
    "validation_set = SpeechCommands(\"validation\")\n",
    "test_set = SpeechCommands(\"testing\")\n",
    "\n",
    "examples_original_train = len(original_train_set)\n",
    "\n",
    "pretrain_percentage = 0.8 # You can change this to make the labelled training set smaller\n",
    "\n",
    "indices = np.arange(examples_original_train)\n",
    "pretrain_indices = np.random.choice(indices, round(len(original_train_set)*pretrain_percentage), replace=False)\n",
    "train_indices = indices[~np.isin(indices, pretrain_indices)]\n",
    "\n",
    "pretrain_set = Subset(original_train_set,\n",
    "                      indices=pretrain_indices)\n",
    "reduced_train_set = Subset(original_train_set,\n",
    "                           indices=train_indices)\n",
    "\n",
    "print(f\"Examples in pretrain: {len(pretrain_set)}, Examples in train: {len(reduced_train_set)}, Examples in validation: {len(validation_set)}, Examples in test: {len(test_set)}\")"
   ]
  },
  {
   "cell_type": "markdown",
   "metadata": {},
   "source": [
    "# Feature Extracting\n",
    "\n",
    "Need a method for extracting speech features. MFCCs(Mel Frequency Cepstral Components) has been used with some common parameters"
   ]
  },
  {
   "cell_type": "code",
   "execution_count": 8,
   "metadata": {},
   "outputs": [],
   "source": [
    "from torchaudio.transforms import MFCC\n",
    "\n",
    "# Settings for MelSpectrogram computation\n",
    "melkwargs = {\"n_mels\": 80, # How many mel frequency filters are used\n",
    "             \"n_fft\": 480, # How many fft components are used for each feature\n",
    "             \"win_length\": 480, # How many frames are included in each window\n",
    "             \"hop_length\": 160, # How many frames the window is shifted for each component\n",
    "             \"center\": False, # Whether frams are padded such that the component of timestep t is centered at t\n",
    "             \"f_max\": 7600, # Maximum frequency to consider\n",
    "             \"f_min\": 20}\n",
    "\n",
    "# Instantiate MFCC feature extractor\n",
    "mfcc = MFCC(n_mfcc=40, # Number of cepstrum components\n",
    "            sample_rate=16000, # Sample rate of input audio\n",
    "            melkwargs=melkwargs) # Keyword arguments for MelSpectogram"
   ]
  },
  {
   "cell_type": "code",
   "execution_count": 9,
   "metadata": {},
   "outputs": [
    {
     "name": "stdout",
     "output_type": "stream",
     "text": [
      "waveform:  tensor([[ 0.0000e+00, -9.1553e-05, -3.0518e-05,  ...,  3.0518e-05,\n",
      "         -1.2207e-04, -2.1362e-04]])\n",
      "Type,  <class 'torch.Tensor'> torch.Size([1, 16000])\n"
     ]
    },
    {
     "name": "stderr",
     "output_type": "stream",
     "text": [
      "/tmp/ipykernel_4561/2316008788.py:20: UserWarning: FigureCanvasAgg is non-interactive, and thus cannot be shown\n",
      "  fig.show()\n"
     ]
    },
    {
     "data": {
      "image/png": "[encoded data removed]",
      "text/plain": [
       "<Figure size 640x480 with 2 Axes>"
      ]
     },
     "metadata": {},
     "output_type": "display_data"
    }
   ],
   "source": [
    "waveform = reduced_train_set[1][0] # Pick first waveform in train set\n",
    "print(\"waveform: \",waveform)\n",
    "print(\"Type, \", type(waveform), waveform.shape)\n",
    "features = mfcc(waveform) # Compute MFCC\n",
    "\n",
    "# Transform to dB scale and set minimum value to 0.1 for visualisation purposes.\n",
    "features_dB = 10.0 * torch.log10(torch.maximum(torch.tensor(1e-1), features))\n",
    "\n",
    "fig, axs = plt.subplots(2, 1)\n",
    "axs[0].plot(waveform[0].numpy())\n",
    "axs[0].set_title(\"Waveform\")\n",
    "axs[0].set_xlabel(\"Sample\")\n",
    "axs[0].set_ylabel(\"Amplitude\")\n",
    "axs[1].imshow(features_dB[0].numpy(), aspect=\"auto\")\n",
    "axs[1].set_title(\"MFCC features (dB-scale)\")\n",
    "axs[1].set_xlabel(\"Time dimension\")\n",
    "axs[1].set_ylabel(\"Feature dimension\")\n",
    "\n",
    "fig.tight_layout()\n",
    "fig.show()\n"
   ]
  },
  {
   "cell_type": "markdown",
   "metadata": {},
   "source": [
    "# Baseline\n",
    "\n",
    "First: Train a KWT model on the reduced training dataset\n",
    "\n",
    "Let's create the model"
   ]
  },
  {
   "cell_type": "code",
   "execution_count": 10,
   "metadata": {},
   "outputs": [],
   "source": [
    "kwt_hparams = {\"input_res\": [40, 98], # Input size\n",
    "               \"patch_res\": [40, 1], # Size of each patch [Frequency, Time]\n",
    "               \"num_classes\": 35, # Number of keyword classes\n",
    "               \"mlp_dim\": 256, # Dimension of transformer MLP\n",
    "               \"dim\": 64, # Dimension of transformer output\n",
    "               \"heads\": 1, # Number of attention heads\n",
    "               \"depth\": 12, # Number of layers\n",
    "               \"dropout\": 0.0, # Input droput\n",
    "               \"emb_dropout\": 0.1, # Dropout between encoder layers\n",
    "               \"pre_norm\": False} # Normalization before or after MLP\n",
    "\n",
    "kwt = KWT(**kwt_hparams)"
   ]
  },
  {
   "cell_type": "markdown",
   "metadata": {},
   "source": [
    "Let's define some data loaders and loss function and optimizer"
   ]
  },
  {
   "cell_type": "code",
   "execution_count": 11,
   "metadata": {},
   "outputs": [],
   "source": [
    "train_loader = DataLoader(reduced_train_set, shuffle=True, batch_size=512, num_workers=2, pin_memory=True,\n",
    "                          collate_fn=collate_fn)\n",
    "validation_loader = DataLoader(validation_set, shuffle=False, batch_size=512, num_workers=2, pin_memory=True,\n",
    "                         collate_fn=collate_fn)\n",
    "test_loader = DataLoader(test_set, shuffle=False, batch_size=512, num_workers=2, pin_memory=True,\n",
    "                         collate_fn=collate_fn)\n",
    "\n",
    "criterion_baseline = nn.CrossEntropyLoss(label_smoothing=0.1)\n",
    "\n",
    "lr = 0.001 # You can update this value to see if learning rate affects performance\n",
    "weight_decay = 0.1 # You can update this value to see if weight decay affects performance\n",
    "optimizer_baseline = torch.optim.AdamW(kwt.parameters(), lr=lr, weight_decay=weight_decay)"
   ]
  },
  {
   "cell_type": "markdown",
   "metadata": {},
   "source": [
    "Training functions"
   ]
  },
  {
   "cell_type": "code",
   "execution_count": 12,
   "metadata": {},
   "outputs": [],
   "source": [
    "def train_single_batch(net, features, labels, optimizer, criterion, device):\n",
    "    features, labels = features.to(device), labels.to(device)\n",
    "\n",
    "    optimizer.zero_grad()\n",
    "    outputs = net(features)\n",
    "    loss = criterion(outputs, labels)\n",
    "    loss.backward()\n",
    "    optimizer.step()\n",
    "\n",
    "    correct = outputs.argmax(1).eq(labels).sum()\n",
    "    return loss.item(), correct.item()\n",
    "\n",
    "@torch.no_grad()\n",
    "def evaluate(net, criterion, dataloader, device):\n",
    "    net.eval()\n",
    "    correct = 0\n",
    "    running_loss = 0.0\n",
    "\n",
    "    for waveforms, labels in tqdm(dataloader, leave=False, total=len(dataloader), unit=\"batch\"):\n",
    "        features = mfcc(waveforms)\n",
    "        features, labels = features.to(device), labels.to(device)\n",
    "\n",
    "        outputs = net(features)\n",
    "        correct += outputs.argmax(1).eq(labels).sum().item()\n",
    "\n",
    "        loss = criterion(outputs, labels)\n",
    "        running_loss += loss.item()\n",
    "\n",
    "    net.train()\n",
    "    accuracy = correct / len(dataloader.dataset)\n",
    "    avg_loss = running_loss / len(dataloader)\n",
    "    return accuracy, avg_loss"
   ]
  },
  {
   "cell_type": "markdown",
   "metadata": {},
   "source": [
    "Trained for 40 epochs, <br>\n",
    "For Batch size 64 it took approx 40 minutes <br>\n",
    "For batch size 512 it took approx 40 minutes <br>\n",
    "\n",
    "Let's train on 15 epochs ---"
   ]
  },
  {
   "cell_type": "code",
   "execution_count": 13,
   "metadata": {},
   "outputs": [
    {
     "name": "stdout",
     "output_type": "stream",
     "text": [
      "True\n",
      "12.1\n",
      "0\n",
      "NVIDIA GeForce GTX 1650\n"
     ]
    }
   ],
   "source": [
    "import torch\n",
    "print(torch.cuda.is_available())\n",
    "torch.cuda.empty_cache()\n",
    "print(torch.version.cuda)\n",
    "print(torch.cuda.current_device())\n",
    "print(torch.cuda.get_device_name(0))"
   ]
  },
  {
   "cell_type": "code",
   "execution_count": 14,
   "metadata": {},
   "outputs": [
    {
     "data": {
      "application/vnd.jupyter.widget-view+json": {
       "model_id": "3b6687f98bb14c2285d1801da2ba9820",
       "version_major": 2,
       "version_minor": 0
      },
      "text/plain": [
       "  0%|          | 0/15 [00:00<?, ?Epoch/s]"
      ]
     },
     "metadata": {},
     "output_type": "display_data"
    },
    {
     "data": {
      "application/vnd.jupyter.widget-view+json": {
       "model_id": "1943e0d175af4fa8a6908c80d283c4e8",
       "version_major": 2,
       "version_minor": 0
      },
      "text/plain": [
       "  0%|          | 0/34 [00:00<?, ?batch/s]"
      ]
     },
     "metadata": {},
     "output_type": "display_data"
    },
    {
     "data": {
      "application/vnd.jupyter.widget-view+json": {
       "model_id": "0ed5da455bc6433f85ecbd14b5dca561",
       "version_major": 2,
       "version_minor": 0
      },
      "text/plain": [
       "  0%|          | 0/20 [00:00<?, ?batch/s]"
      ]
     },
     "metadata": {},
     "output_type": "display_data"
    },
    {
     "data": {
      "application/vnd.jupyter.widget-view+json": {
       "model_id": "f965852e1ae14c1b87abb52c8cd64f2d",
       "version_major": 2,
       "version_minor": 0
      },
      "text/plain": [
       "  0%|          | 0/34 [00:00<?, ?batch/s]"
      ]
     },
     "metadata": {},
     "output_type": "display_data"
    },
    {
     "data": {
      "application/vnd.jupyter.widget-view+json": {
       "model_id": "deeff862882d45ed8a04acf581c0d82b",
       "version_major": 2,
       "version_minor": 0
      },
      "text/plain": [
       "  0%|          | 0/20 [00:00<?, ?batch/s]"
      ]
     },
     "metadata": {},
     "output_type": "display_data"
    },
    {
     "data": {
      "application/vnd.jupyter.widget-view+json": {
       "model_id": "e5b9f28dca1646afa4c107e215b94e11",
       "version_major": 2,
       "version_minor": 0
      },
      "text/plain": [
       "  0%|          | 0/34 [00:00<?, ?batch/s]"
      ]
     },
     "metadata": {},
     "output_type": "display_data"
    },
    {
     "data": {
      "application/vnd.jupyter.widget-view+json": {
       "model_id": "6799fe9cdad444acbe104f740df10ddf",
       "version_major": 2,
       "version_minor": 0
      },
      "text/plain": [
       "  0%|          | 0/20 [00:00<?, ?batch/s]"
      ]
     },
     "metadata": {},
     "output_type": "display_data"
    },
    {
     "data": {
      "application/vnd.jupyter.widget-view+json": {
       "model_id": "d72a2be28b58454dbc08325b2f9c9b14",
       "version_major": 2,
       "version_minor": 0
      },
      "text/plain": [
       "  0%|          | 0/34 [00:00<?, ?batch/s]"
      ]
     },
     "metadata": {},
     "output_type": "display_data"
    },
    {
     "data": {
      "application/vnd.jupyter.widget-view+json": {
       "model_id": "c203cdc8ca6a41f99115e93097af963f",
       "version_major": 2,
       "version_minor": 0
      },
      "text/plain": [
       "  0%|          | 0/20 [00:00<?, ?batch/s]"
      ]
     },
     "metadata": {},
     "output_type": "display_data"
    },
    {
     "data": {
      "application/vnd.jupyter.widget-view+json": {
       "model_id": "ee561592be384b5ab19ec086f6e1ea9c",
       "version_major": 2,
       "version_minor": 0
      },
      "text/plain": [
       "  0%|          | 0/34 [00:00<?, ?batch/s]"
      ]
     },
     "metadata": {},
     "output_type": "display_data"
    },
    {
     "data": {
      "application/vnd.jupyter.widget-view+json": {
       "model_id": "710eb6fc3c194d7da8bd1707da047ba9",
       "version_major": 2,
       "version_minor": 0
      },
      "text/plain": [
       "  0%|          | 0/20 [00:00<?, ?batch/s]"
      ]
     },
     "metadata": {},
     "output_type": "display_data"
    },
    {
     "data": {
      "application/vnd.jupyter.widget-view+json": {
       "model_id": "d5f8e53f67e9402b8e02217092cc7e40",
       "version_major": 2,
       "version_minor": 0
      },
      "text/plain": [
       "  0%|          | 0/34 [00:00<?, ?batch/s]"
      ]
     },
     "metadata": {},
     "output_type": "display_data"
    },
    {
     "data": {
      "application/vnd.jupyter.widget-view+json": {
       "model_id": "1ee64573ded5408ca54acddf43754a89",
       "version_major": 2,
       "version_minor": 0
      },
      "text/plain": [
       "  0%|          | 0/20 [00:00<?, ?batch/s]"
      ]
     },
     "metadata": {},
     "output_type": "display_data"
    },
    {
     "data": {
      "application/vnd.jupyter.widget-view+json": {
       "model_id": "a31a3db8e2644bc38f4d20030b9ff9b7",
       "version_major": 2,
       "version_minor": 0
      },
      "text/plain": [
       "  0%|          | 0/34 [00:00<?, ?batch/s]"
      ]
     },
     "metadata": {},
     "output_type": "display_data"
    },
    {
     "data": {
      "application/vnd.jupyter.widget-view+json": {
       "model_id": "331c312820cb4c0b9879b581ecd9e03e",
       "version_major": 2,
       "version_minor": 0
      },
      "text/plain": [
       "  0%|          | 0/20 [00:00<?, ?batch/s]"
      ]
     },
     "metadata": {},
     "output_type": "display_data"
    },
    {
     "data": {
      "application/vnd.jupyter.widget-view+json": {
       "model_id": "7a318239ea514f50b4d25204612a30fb",
       "version_major": 2,
       "version_minor": 0
      },
      "text/plain": [
       "  0%|          | 0/34 [00:00<?, ?batch/s]"
      ]
     },
     "metadata": {},
     "output_type": "display_data"
    },
    {
     "data": {
      "application/vnd.jupyter.widget-view+json": {
       "model_id": "1a7a873548b24ac2a4a8a62ce5fea0ee",
       "version_major": 2,
       "version_minor": 0
      },
      "text/plain": [
       "  0%|          | 0/20 [00:00<?, ?batch/s]"
      ]
     },
     "metadata": {},
     "output_type": "display_data"
    },
    {
     "data": {
      "application/vnd.jupyter.widget-view+json": {
       "model_id": "100f8b7656fe44f4bb76d08be664e85e",
       "version_major": 2,
       "version_minor": 0
      },
      "text/plain": [
       "  0%|          | 0/34 [00:00<?, ?batch/s]"
      ]
     },
     "metadata": {},
     "output_type": "display_data"
    },
    {
     "data": {
      "application/vnd.jupyter.widget-view+json": {
       "model_id": "1570e220242f4d59a4b5cc364d113567",
       "version_major": 2,
       "version_minor": 0
      },
      "text/plain": [
       "  0%|          | 0/20 [00:00<?, ?batch/s]"
      ]
     },
     "metadata": {},
     "output_type": "display_data"
    },
    {
     "data": {
      "application/vnd.jupyter.widget-view+json": {
       "model_id": "d858c67f1db64395b5d8c204cfcadd77",
       "version_major": 2,
       "version_minor": 0
      },
      "text/plain": [
       "  0%|          | 0/34 [00:00<?, ?batch/s]"
      ]
     },
     "metadata": {},
     "output_type": "display_data"
    },
    {
     "data": {
      "application/vnd.jupyter.widget-view+json": {
       "model_id": "56594bee514941aca2bea1d243913b1d",
       "version_major": 2,
       "version_minor": 0
      },
      "text/plain": [
       "  0%|          | 0/20 [00:00<?, ?batch/s]"
      ]
     },
     "metadata": {},
     "output_type": "display_data"
    },
    {
     "data": {
      "application/vnd.jupyter.widget-view+json": {
       "model_id": "d4cc9589b14e48ad9bf7e9d1bb8ca120",
       "version_major": 2,
       "version_minor": 0
      },
      "text/plain": [
       "  0%|          | 0/34 [00:00<?, ?batch/s]"
      ]
     },
     "metadata": {},
     "output_type": "display_data"
    },
    {
     "data": {
      "application/vnd.jupyter.widget-view+json": {
       "model_id": "c9360a292d494744a5ef38ccca78e179",
       "version_major": 2,
       "version_minor": 0
      },
      "text/plain": [
       "  0%|          | 0/20 [00:00<?, ?batch/s]"
      ]
     },
     "metadata": {},
     "output_type": "display_data"
    },
    {
     "data": {
      "application/vnd.jupyter.widget-view+json": {
       "model_id": "41ccd6d2d1fe4147a9f7fb9139d9152e",
       "version_major": 2,
       "version_minor": 0
      },
      "text/plain": [
       "  0%|          | 0/34 [00:00<?, ?batch/s]"
      ]
     },
     "metadata": {},
     "output_type": "display_data"
    },
    {
     "data": {
      "application/vnd.jupyter.widget-view+json": {
       "model_id": "a7e9b2c0ebc74ccdbc0b62c023897cf4",
       "version_major": 2,
       "version_minor": 0
      },
      "text/plain": [
       "  0%|          | 0/20 [00:00<?, ?batch/s]"
      ]
     },
     "metadata": {},
     "output_type": "display_data"
    },
    {
     "data": {
      "application/vnd.jupyter.widget-view+json": {
       "model_id": "6136fbeb50704b8c99627bbc7c74677b",
       "version_major": 2,
       "version_minor": 0
      },
      "text/plain": [
       "  0%|          | 0/34 [00:00<?, ?batch/s]"
      ]
     },
     "metadata": {},
     "output_type": "display_data"
    },
    {
     "data": {
      "application/vnd.jupyter.widget-view+json": {
       "model_id": "b18b9d6a509b4ab78374cbeba47d73de",
       "version_major": 2,
       "version_minor": 0
      },
      "text/plain": [
       "  0%|          | 0/20 [00:00<?, ?batch/s]"
      ]
     },
     "metadata": {},
     "output_type": "display_data"
    },
    {
     "data": {
      "application/vnd.jupyter.widget-view+json": {
       "model_id": "82a1f11dd6cb42a18b93c0aaab9bdb37",
       "version_major": 2,
       "version_minor": 0
      },
      "text/plain": [
       "  0%|          | 0/34 [00:00<?, ?batch/s]"
      ]
     },
     "metadata": {},
     "output_type": "display_data"
    },
    {
     "data": {
      "application/vnd.jupyter.widget-view+json": {
       "model_id": "6277802965e54b8186429fc4c49ae9af",
       "version_major": 2,
       "version_minor": 0
      },
      "text/plain": [
       "  0%|          | 0/20 [00:00<?, ?batch/s]"
      ]
     },
     "metadata": {},
     "output_type": "display_data"
    },
    {
     "data": {
      "application/vnd.jupyter.widget-view+json": {
       "model_id": "0217c380054941deb424cdb87b327082",
       "version_major": 2,
       "version_minor": 0
      },
      "text/plain": [
       "  0%|          | 0/34 [00:00<?, ?batch/s]"
      ]
     },
     "metadata": {},
     "output_type": "display_data"
    },
    {
     "data": {
      "application/vnd.jupyter.widget-view+json": {
       "model_id": "9bac34d1eee84d9fa25217a509b9be23",
       "version_major": 2,
       "version_minor": 0
      },
      "text/plain": [
       "  0%|          | 0/20 [00:00<?, ?batch/s]"
      ]
     },
     "metadata": {},
     "output_type": "display_data"
    }
   ],
   "source": [
    "epochs = 15 # You can reduce this to save time, but will affect performance\n",
    "\n",
    "# Learning rate scheduler with linear warmup\n",
    "warmup_rate = 0.1 # percentage of epochs used to warmup learning rate\n",
    "n_warmup = round(epochs*warmup_rate)\n",
    "schedulers = {\"warmup\": WarmUpLR(optimizer_baseline,\n",
    "                                 total_iters=len(train_loader) * n_warmup),\n",
    "              \"scheduler\": CosineAnnealingLR(optimizer_baseline,\n",
    "                                             len(train_loader) * max(1, epochs - n_warmup),\n",
    "                                             eta_min=1e-8)}\n",
    "# Send model to GPU if available\n",
    "kwt = kwt.to(device)\n",
    "\n",
    "# Placeholders\n",
    "losses = {}\n",
    "accuracies = {}\n",
    "validation_losses = {}\n",
    "validation_accuracies = {}\n",
    "\n",
    "for epoch in (progress_bar := tqdm(range(epochs), unit=\"Epoch\")):\n",
    "    running_loss = 0.0\n",
    "    running_correct = 0\n",
    "    processed = 0\n",
    "\n",
    "    for batch_index, data in tqdm(enumerate(train_loader), leave=False, position=1, total=len(train_loader), unit=\"batch\"):\n",
    "        waveforms, labels = data\n",
    "\n",
    "        features = mfcc(waveforms)\n",
    "\n",
    "        # Here we apply a data augmentation method called SpecAugment to improve generalization.\n",
    "        # Very simply, we mask out some time and frequency bands,\n",
    "        # making the training task more difficult as the model cannot\n",
    "        # heavily rely on specific features for its prediction.\n",
    "        features = spec_augment(features)\n",
    "\n",
    "        loss, correct = train_single_batch(kwt, features, labels, optimizer_baseline, criterion_baseline, device)\n",
    "        running_loss += loss\n",
    "        running_correct += correct\n",
    "        processed += features.size(0)\n",
    "\n",
    "        progress_bar.set_description(f\"Epoch loss: {running_loss/(batch_index+1):.2f} | Epoch accuracy: {running_correct/(processed)*100:.2f}% | Batch step: {batch_index + 1}/{len(train_loader)} - \")\n",
    "\n",
    "        if schedulers[\"warmup\"] is not None and epoch < n_warmup:\n",
    "            schedulers[\"warmup\"].step()\n",
    "\n",
    "        elif schedulers[\"scheduler\"] is not None:\n",
    "            schedulers[\"scheduler\"].step()\n",
    "\n",
    "    losses[str(epoch)] = running_loss/len(train_loader)\n",
    "    accuracies[str(epoch)] = running_correct/len(train_loader.dataset)\n",
    "\n",
    "    # Validate model after each epoch\n",
    "    validation_accuracy, validation_loss = evaluate(kwt, criterion_baseline, validation_loader, device)\n",
    "    validation_losses[str(epoch)] = validation_loss\n",
    "    validation_accuracies[str(epoch)] = validation_accuracy\n",
    "\n",
    "    "
   ]
  },
  {
   "cell_type": "code",
   "execution_count": 15,
   "metadata": {},
   "outputs": [
    {
     "name": "stdout",
     "output_type": "stream",
     "text": [
      "Last train loss: 2.31, Last train accuracy: 42.44%\n"
     ]
    },
    {
     "data": {
      "image/png": "[encoded data removed]",
      "text/plain": [
       "<Figure size 640x480 with 2 Axes>"
      ]
     },
     "metadata": {},
     "output_type": "display_data"
    }
   ],
   "source": [
    "last_epoch = list(losses.keys())[-1]\n",
    "print(f\"Last train loss: {losses[last_epoch]:.2f}, Last train accuracy: {accuracies[last_epoch]*100:.2f}%\")\n",
    "plot_loss_accuracy(losses, accuracies, validation_losses, validation_accuracies, grid=True)"
   ]
  },
  {
   "cell_type": "markdown",
   "metadata": {},
   "source": [
    "Checking Test Score:"
   ]
  },
  {
   "cell_type": "code",
   "execution_count": 16,
   "metadata": {},
   "outputs": [
    {
     "data": {
      "application/vnd.jupyter.widget-view+json": {
       "model_id": "9fd3a427c9764755871ce51414f63924",
       "version_major": 2,
       "version_minor": 0
      },
      "text/plain": [
       "  0%|          | 0/22 [00:00<?, ?batch/s]"
      ]
     },
     "metadata": {},
     "output_type": "display_data"
    },
    {
     "name": "stdout",
     "output_type": "stream",
     "text": [
      " Test loss: 1.92, Test accuracy: 55.93%\n"
     ]
    }
   ],
   "source": [
    "test_acc, test_loss = evaluate(kwt, criterion_baseline, test_loader, device)\n",
    "print(f\" Test loss: {test_loss:.2f}, Test accuracy: {test_acc*100:.2f}%\")"
   ]
  },
  {
   "cell_type": "markdown",
   "metadata": {},
   "source": [
    "# Pretraining"
   ]
  },
  {
   "cell_type": "markdown",
   "metadata": {},
   "source": [
    "Settings for Data2Vec"
   ]
  },
  {
   "cell_type": "code",
   "execution_count": 17,
   "metadata": {},
   "outputs": [],
   "source": [
    "data2vec_hparams = {\"model_embed_dim\": 64,\n",
    "           \"ema_decay\": 0.999,\n",
    "           \"ema_end_decay\": 0.9999,\n",
    "           \"ema_anneal_end_step\": 1000,\n",
    "           \"average_top_k_layers\": 8,\n",
    "           \"normalize_targets\": True}\n",
    "\n",
    "mask_hparams = {\"mask_prob\": 0.65,\n",
    "                \"mask_length\": 10,\n",
    "                \"attention_mask\": None,\n",
    "                \"min_masks\": 0}"
   ]
  },
  {
   "cell_type": "markdown",
   "metadata": {},
   "source": [
    "Let's first create a Data2Vec model with a KWT model as the encoder"
   ]
  },
  {
   "cell_type": "code",
   "execution_count": 18,
   "metadata": {},
   "outputs": [],
   "source": [
    "kwt_SSL = KWT(**kwt_hparams)\n",
    "data2vec = Data2Vec(encoder=kwt_SSL,\n",
    "                    **data2vec_hparams)"
   ]
  },
  {
   "cell_type": "markdown",
   "metadata": {},
   "source": [
    "Generating mask during pretraining"
   ]
  },
  {
   "cell_type": "code",
   "execution_count": 19,
   "metadata": {},
   "outputs": [],
   "source": [
    "mask_generator = AudioMaskingGenerator(**mask_hparams)"
   ]
  },
  {
   "cell_type": "markdown",
   "metadata": {},
   "source": [
    "defining Epoch, dataloader, loss function (criterion) and optimizer"
   ]
  },
  {
   "cell_type": "code",
   "execution_count": 20,
   "metadata": {},
   "outputs": [],
   "source": [
    "pretrain_loader = DataLoader(pretrain_set, shuffle=True, batch_size=512, num_workers=2, pin_memory=True, collate_fn=collate_fn)\n",
    "\n",
    "criterion_data2vec = nn.MSELoss(reduction=\"none\")\n",
    "\n",
    "parameters_data2vec = data2vec.parameters()\n",
    "optimizer_data2vec = torch.optim.Adam(parameters_data2vec,\n",
    "                                      lr=0.0005,\n",
    "                                      betas=(0.9, 0.98),\n",
    "                                      eps=0.000001,\n",
    "                                      weight_decay=0.01)"
   ]
  },
  {
   "cell_type": "markdown",
   "metadata": {},
   "source": [
    "Training function for Data2Vec"
   ]
  },
  {
   "cell_type": "code",
   "execution_count": 21,
   "metadata": {},
   "outputs": [],
   "source": [
    "def train_single_batch_data2vec(net, data, mask, optimizer, criterion, device):\n",
    "    data = data.to(device)\n",
    "\n",
    "    optimizer.zero_grad()\n",
    "    predictions, targets = net(data, data, mask)\n",
    "    scale = predictions.size(dim=-1)**0.5\n",
    "    loss = criterion(predictions.float(), targets.float()).sum(dim=-1).sum().div(scale)\n",
    "    loss.backward()\n",
    "    optimizer.step()\n",
    "    with torch.no_grad():\n",
    "        target_var = compute_var(targets.float())\n",
    "        prediction_var = compute_var(predictions.float())\n",
    "    return loss.item(), target_var.item(), prediction_var.item()\n",
    "\n",
    "\n",
    "@torch.no_grad()\n",
    "def evaluate_data2vec(net, mask_generator, criterion, dataloader, device):\n",
    "    net.eval()\n",
    "\n",
    "    running_loss = 0.0\n",
    "    running_target_var = 0.0\n",
    "    running_prediction_var = 0.0\n",
    "\n",
    "    for waveforms, labels in tqdm(dataloader):\n",
    "        features = mfcc(waveforms)\n",
    "        features, labels = features.to(device), labels.to(device)\n",
    "        batch_size = features.size(dim=0)\n",
    "        audio_length = features.size(dim=-1)\n",
    "\n",
    "        mask = mask_generator(shape=(batch_size, audio_length)).to(device)\n",
    "        mask = torch.cat([torch.zeros(batch_size, 1, device=mask.device), mask], dim=1).bool()\n",
    "\n",
    "        predictions, targets = net(features, features, mask)\n",
    "        scale = predictions.size(dim=-1)**0.5\n",
    "        loss = criterion(predictions.float(), targets.float()).sum(dim=-1).sum().div(scale)\n",
    "        target_var = compute_var(targets.float())\n",
    "        prediction_var = compute_var(predictions.float())\n",
    "        running_loss += loss.item()\n",
    "        running_target_var += target_var.item()\n",
    "        running_prediction_var += prediction_var.item()\n",
    "\n",
    "    avg_loss = running_loss / len(dataloader.dataset)\n",
    "    avg_target_var = running_target_var / len(dataloader)\n",
    "    avg_prediction_var = running_prediction_var / len(dataloader)\n",
    "    return avg_loss, avg_target_var, avg_prediction_var\n"
   ]
  },
  {
   "cell_type": "markdown",
   "metadata": {},
   "source": [
    "Pretrain the Data2Vec model for 80 epochs"
   ]
  },
  {
   "cell_type": "code",
   "execution_count": 21,
   "metadata": {},
   "outputs": [
    {
     "data": {
      "application/vnd.jupyter.widget-view+json": {
       "model_id": "750638d2d4534b5faa4246eb252746db",
       "version_major": 2,
       "version_minor": 0
      },
      "text/plain": [
       "  0%|          | 0/80 [00:00<?, ?Epoch/s]"
      ]
     },
     "metadata": {},
     "output_type": "display_data"
    },
    {
     "data": {
      "application/vnd.jupyter.widget-view+json": {
       "model_id": "e2d9164ae9ad491fa9ed6c278874ea03",
       "version_major": 2,
       "version_minor": 0
      },
      "text/plain": [
       "  0%|          | 0/133 [00:00<?, ?Batch/s]"
      ]
     },
     "metadata": {},
     "output_type": "display_data"
    },
    {
     "data": {
      "application/vnd.jupyter.widget-view+json": {
       "model_id": "fda38a5dcf32432f9006c43110bf1cb0",
       "version_major": 2,
       "version_minor": 0
      },
      "text/plain": [
       "  0%|          | 0/20 [00:00<?, ?it/s]"
      ]
     },
     "metadata": {},
     "output_type": "display_data"
    },
    {
     "data": {
      "application/vnd.jupyter.widget-view+json": {
       "model_id": "84137594929f470291b0d49d6615acd9",
       "version_major": 2,
       "version_minor": 0
      },
      "text/plain": [
       "  0%|          | 0/133 [00:00<?, ?Batch/s]"
      ]
     },
     "metadata": {},
     "output_type": "display_data"
    },
    {
     "data": {
      "application/vnd.jupyter.widget-view+json": {
       "model_id": "95ec6389cebc4ae68480371fc75b67b2",
       "version_major": 2,
       "version_minor": 0
      },
      "text/plain": [
       "  0%|          | 0/20 [00:00<?, ?it/s]"
      ]
     },
     "metadata": {},
     "output_type": "display_data"
    },
    {
     "data": {
      "application/vnd.jupyter.widget-view+json": {
       "model_id": "9df2723214784397aa14028d2de4b058",
       "version_major": 2,
       "version_minor": 0
      },
      "text/plain": [
       "  0%|          | 0/133 [00:00<?, ?Batch/s]"
      ]
     },
     "metadata": {},
     "output_type": "display_data"
    },
    {
     "data": {
      "application/vnd.jupyter.widget-view+json": {
       "model_id": "8b01cb6d20c341958220ceb6bf4a561a",
       "version_major": 2,
       "version_minor": 0
      },
      "text/plain": [
       "  0%|          | 0/20 [00:00<?, ?it/s]"
      ]
     },
     "metadata": {},
     "output_type": "display_data"
    },
    {
     "data": {
      "application/vnd.jupyter.widget-view+json": {
       "model_id": "4d00c3928be7408fa28cce6d6dcab36a",
       "version_major": 2,
       "version_minor": 0
      },
      "text/plain": [
       "  0%|          | 0/133 [00:00<?, ?Batch/s]"
      ]
     },
     "metadata": {},
     "output_type": "display_data"
    },
    {
     "data": {
      "application/vnd.jupyter.widget-view+json": {
       "model_id": "9c3f4ee8ff5f4a2182066d3da1c92b1a",
       "version_major": 2,
       "version_minor": 0
      },
      "text/plain": [
       "  0%|          | 0/20 [00:00<?, ?it/s]"
      ]
     },
     "metadata": {},
     "output_type": "display_data"
    },
    {
     "data": {
      "application/vnd.jupyter.widget-view+json": {
       "model_id": "204ffeffdbb240bea46d1bffd0776272",
       "version_major": 2,
       "version_minor": 0
      },
      "text/plain": [
       "  0%|          | 0/133 [00:00<?, ?Batch/s]"
      ]
     },
     "metadata": {},
     "output_type": "display_data"
    },
    {
     "data": {
      "application/vnd.jupyter.widget-view+json": {
       "model_id": "36766d8de3c341d8a8cf4cd6b56e25ed",
       "version_major": 2,
       "version_minor": 0
      },
      "text/plain": [
       "  0%|          | 0/20 [00:00<?, ?it/s]"
      ]
     },
     "metadata": {},
     "output_type": "display_data"
    },
    {
     "data": {
      "application/vnd.jupyter.widget-view+json": {
       "model_id": "2ba41d1a00a347ffa8aca74cbdb21d1b",
       "version_major": 2,
       "version_minor": 0
      },
      "text/plain": [
       "  0%|          | 0/133 [00:00<?, ?Batch/s]"
      ]
     },
     "metadata": {},
     "output_type": "display_data"
    },
    {
     "data": {
      "application/vnd.jupyter.widget-view+json": {
       "model_id": "49ebdd94acce47ec9fb1b9df8a95ac18",
       "version_major": 2,
       "version_minor": 0
      },
      "text/plain": [
       "  0%|          | 0/20 [00:00<?, ?it/s]"
      ]
     },
     "metadata": {},
     "output_type": "display_data"
    },
    {
     "data": {
      "application/vnd.jupyter.widget-view+json": {
       "model_id": "967aa5748f664ee48fad184055093c6e",
       "version_major": 2,
       "version_minor": 0
      },
      "text/plain": [
       "  0%|          | 0/133 [00:00<?, ?Batch/s]"
      ]
     },
     "metadata": {},
     "output_type": "display_data"
    },
    {
     "data": {
      "application/vnd.jupyter.widget-view+json": {
       "model_id": "e27f6ac865f94608b25f70f576e90861",
       "version_major": 2,
       "version_minor": 0
      },
      "text/plain": [
       "  0%|          | 0/20 [00:00<?, ?it/s]"
      ]
     },
     "metadata": {},
     "output_type": "display_data"
    },
    {
     "data": {
      "application/vnd.jupyter.widget-view+json": {
       "model_id": "4787f2c5c76f4a1fb5bd3e8ae3375647",
       "version_major": 2,
       "version_minor": 0
      },
      "text/plain": [
       "  0%|          | 0/133 [00:00<?, ?Batch/s]"
      ]
     },
     "metadata": {},
     "output_type": "display_data"
    },
    {
     "data": {
      "application/vnd.jupyter.widget-view+json": {
       "model_id": "33bc6f48b552491aa39a8e52f7ec0b2c",
       "version_major": 2,
       "version_minor": 0
      },
      "text/plain": [
       "  0%|          | 0/20 [00:00<?, ?it/s]"
      ]
     },
     "metadata": {},
     "output_type": "display_data"
    },
    {
     "data": {
      "application/vnd.jupyter.widget-view+json": {
       "model_id": "a3a36c547bf54210b7ffd2d5a0b1a9c3",
       "version_major": 2,
       "version_minor": 0
      },
      "text/plain": [
       "  0%|          | 0/133 [00:00<?, ?Batch/s]"
      ]
     },
     "metadata": {},
     "output_type": "display_data"
    },
    {
     "data": {
      "application/vnd.jupyter.widget-view+json": {
       "model_id": "d65bf4a1be204a10a923c92faa093970",
       "version_major": 2,
       "version_minor": 0
      },
      "text/plain": [
       "  0%|          | 0/20 [00:00<?, ?it/s]"
      ]
     },
     "metadata": {},
     "output_type": "display_data"
    },
    {
     "data": {
      "application/vnd.jupyter.widget-view+json": {
       "model_id": "60e9c6e58adb473189503cf353a981a2",
       "version_major": 2,
       "version_minor": 0
      },
      "text/plain": [
       "  0%|          | 0/133 [00:00<?, ?Batch/s]"
      ]
     },
     "metadata": {},
     "output_type": "display_data"
    },
    {
     "data": {
      "application/vnd.jupyter.widget-view+json": {
       "model_id": "26dd24ce9f2e401a9270ee4d711c737f",
       "version_major": 2,
       "version_minor": 0
      },
      "text/plain": [
       "  0%|          | 0/20 [00:00<?, ?it/s]"
      ]
     },
     "metadata": {},
     "output_type": "display_data"
    },
    {
     "data": {
      "application/vnd.jupyter.widget-view+json": {
       "model_id": "28b0203c1a6a43b5ac8a0850c5fc031a",
       "version_major": 2,
       "version_minor": 0
      },
      "text/plain": [
       "  0%|          | 0/133 [00:00<?, ?Batch/s]"
      ]
     },
     "metadata": {},
     "output_type": "display_data"
    },
    {
     "data": {
      "application/vnd.jupyter.widget-view+json": {
       "model_id": "f6a87db3a2f54490a6eb5fb2fadf7f67",
       "version_major": 2,
       "version_minor": 0
      },
      "text/plain": [
       "  0%|          | 0/20 [00:00<?, ?it/s]"
      ]
     },
     "metadata": {},
     "output_type": "display_data"
    },
    {
     "data": {
      "application/vnd.jupyter.widget-view+json": {
       "model_id": "34c53fdde5b84c77a1736f98bf7ce9d6",
       "version_major": 2,
       "version_minor": 0
      },
      "text/plain": [
       "  0%|          | 0/133 [00:00<?, ?Batch/s]"
      ]
     },
     "metadata": {},
     "output_type": "display_data"
    },
    {
     "data": {
      "application/vnd.jupyter.widget-view+json": {
       "model_id": "91cee2d3e2a2445eb1bd45f175781fc1",
       "version_major": 2,
       "version_minor": 0
      },
      "text/plain": [
       "  0%|          | 0/20 [00:00<?, ?it/s]"
      ]
     },
     "metadata": {},
     "output_type": "display_data"
    },
    {
     "data": {
      "application/vnd.jupyter.widget-view+json": {
       "model_id": "90fcd2b5065047339158164926e02145",
       "version_major": 2,
       "version_minor": 0
      },
      "text/plain": [
       "  0%|          | 0/133 [00:00<?, ?Batch/s]"
      ]
     },
     "metadata": {},
     "output_type": "display_data"
    },
    {
     "data": {
      "application/vnd.jupyter.widget-view+json": {
       "model_id": "14f4e29afe3947dc92cadabb799dee0a",
       "version_major": 2,
       "version_minor": 0
      },
      "text/plain": [
       "  0%|          | 0/20 [00:00<?, ?it/s]"
      ]
     },
     "metadata": {},
     "output_type": "display_data"
    },
    {
     "data": {
      "application/vnd.jupyter.widget-view+json": {
       "model_id": "9e85e1e1d47848a9917fdfe2a84b7c95",
       "version_major": 2,
       "version_minor": 0
      },
      "text/plain": [
       "  0%|          | 0/133 [00:00<?, ?Batch/s]"
      ]
     },
     "metadata": {},
     "output_type": "display_data"
    },
    {
     "data": {
      "application/vnd.jupyter.widget-view+json": {
       "model_id": "a6b09b67f65b4f0fa866b7d8eaa44dc2",
       "version_major": 2,
       "version_minor": 0
      },
      "text/plain": [
       "  0%|          | 0/20 [00:00<?, ?it/s]"
      ]
     },
     "metadata": {},
     "output_type": "display_data"
    },
    {
     "data": {
      "application/vnd.jupyter.widget-view+json": {
       "model_id": "4cfe7f27a4f54e2697fe8daabe926e2f",
       "version_major": 2,
       "version_minor": 0
      },
      "text/plain": [
       "  0%|          | 0/133 [00:00<?, ?Batch/s]"
      ]
     },
     "metadata": {},
     "output_type": "display_data"
    },
    {
     "data": {
      "application/vnd.jupyter.widget-view+json": {
       "model_id": "6e4db326597f4dc28de64cf230d4c4e6",
       "version_major": 2,
       "version_minor": 0
      },
      "text/plain": [
       "  0%|          | 0/20 [00:00<?, ?it/s]"
      ]
     },
     "metadata": {},
     "output_type": "display_data"
    },
    {
     "data": {
      "application/vnd.jupyter.widget-view+json": {
       "model_id": "2f036583e3cc4189a2952eceeebccc7c",
       "version_major": 2,
       "version_minor": 0
      },
      "text/plain": [
       "  0%|          | 0/133 [00:00<?, ?Batch/s]"
      ]
     },
     "metadata": {},
     "output_type": "display_data"
    },
    {
     "data": {
      "application/vnd.jupyter.widget-view+json": {
       "model_id": "00f326c7a9c145afb2a2cd440d314071",
       "version_major": 2,
       "version_minor": 0
      },
      "text/plain": [
       "  0%|          | 0/20 [00:00<?, ?it/s]"
      ]
     },
     "metadata": {},
     "output_type": "display_data"
    },
    {
     "data": {
      "application/vnd.jupyter.widget-view+json": {
       "model_id": "6dd09e30e6eb479f93dfabdfa92cd93b",
       "version_major": 2,
       "version_minor": 0
      },
      "text/plain": [
       "  0%|          | 0/133 [00:00<?, ?Batch/s]"
      ]
     },
     "metadata": {},
     "output_type": "display_data"
    },
    {
     "data": {
      "application/vnd.jupyter.widget-view+json": {
       "model_id": "6f9a0bd79e934b35beab2e6104a08d75",
       "version_major": 2,
       "version_minor": 0
      },
      "text/plain": [
       "  0%|          | 0/20 [00:00<?, ?it/s]"
      ]
     },
     "metadata": {},
     "output_type": "display_data"
    },
    {
     "data": {
      "application/vnd.jupyter.widget-view+json": {
       "model_id": "8801521da21d410da28b3f59975e2b80",
       "version_major": 2,
       "version_minor": 0
      },
      "text/plain": [
       "  0%|          | 0/133 [00:00<?, ?Batch/s]"
      ]
     },
     "metadata": {},
     "output_type": "display_data"
    },
    {
     "data": {
      "application/vnd.jupyter.widget-view+json": {
       "model_id": "0c6b58f27d1949388b14c497b4e228fe",
       "version_major": 2,
       "version_minor": 0
      },
      "text/plain": [
       "  0%|          | 0/20 [00:00<?, ?it/s]"
      ]
     },
     "metadata": {},
     "output_type": "display_data"
    },
    {
     "data": {
      "application/vnd.jupyter.widget-view+json": {
       "model_id": "1ee8f14430d047949055cfc67d631ae4",
       "version_major": 2,
       "version_minor": 0
      },
      "text/plain": [
       "  0%|          | 0/133 [00:00<?, ?Batch/s]"
      ]
     },
     "metadata": {},
     "output_type": "display_data"
    },
    {
     "data": {
      "application/vnd.jupyter.widget-view+json": {
       "model_id": "d68f3041acbc4cfe8235bbe3068f05c9",
       "version_major": 2,
       "version_minor": 0
      },
      "text/plain": [
       "  0%|          | 0/20 [00:00<?, ?it/s]"
      ]
     },
     "metadata": {},
     "output_type": "display_data"
    },
    {
     "data": {
      "application/vnd.jupyter.widget-view+json": {
       "model_id": "67b616bf5eb7414182fb874bbad7725e",
       "version_major": 2,
       "version_minor": 0
      },
      "text/plain": [
       "  0%|          | 0/133 [00:00<?, ?Batch/s]"
      ]
     },
     "metadata": {},
     "output_type": "display_data"
    },
    {
     "data": {
      "application/vnd.jupyter.widget-view+json": {
       "model_id": "9ddf90b569964c448f2d355ba5caea37",
       "version_major": 2,
       "version_minor": 0
      },
      "text/plain": [
       "  0%|          | 0/20 [00:00<?, ?it/s]"
      ]
     },
     "metadata": {},
     "output_type": "display_data"
    },
    {
     "data": {
      "application/vnd.jupyter.widget-view+json": {
       "model_id": "705e7956931a4720ad1be05779d1a986",
       "version_major": 2,
       "version_minor": 0
      },
      "text/plain": [
       "  0%|          | 0/133 [00:00<?, ?Batch/s]"
      ]
     },
     "metadata": {},
     "output_type": "display_data"
    },
    {
     "data": {
      "application/vnd.jupyter.widget-view+json": {
       "model_id": "4fc2fbfb23b94231982694ff1a3842a0",
       "version_major": 2,
       "version_minor": 0
      },
      "text/plain": [
       "  0%|          | 0/20 [00:00<?, ?it/s]"
      ]
     },
     "metadata": {},
     "output_type": "display_data"
    },
    {
     "data": {
      "application/vnd.jupyter.widget-view+json": {
       "model_id": "e392aa5445e8494c93926b4e445d2999",
       "version_major": 2,
       "version_minor": 0
      },
      "text/plain": [
       "  0%|          | 0/133 [00:00<?, ?Batch/s]"
      ]
     },
     "metadata": {},
     "output_type": "display_data"
    },
    {
     "data": {
      "application/vnd.jupyter.widget-view+json": {
       "model_id": "2e15939caf2642e79bd74e6358d26532",
       "version_major": 2,
       "version_minor": 0
      },
      "text/plain": [
       "  0%|          | 0/20 [00:00<?, ?it/s]"
      ]
     },
     "metadata": {},
     "output_type": "display_data"
    },
    {
     "data": {
      "application/vnd.jupyter.widget-view+json": {
       "model_id": "67803825c4364dc69cfa1bae254cb246",
       "version_major": 2,
       "version_minor": 0
      },
      "text/plain": [
       "  0%|          | 0/133 [00:00<?, ?Batch/s]"
      ]
     },
     "metadata": {},
     "output_type": "display_data"
    },
    {
     "data": {
      "application/vnd.jupyter.widget-view+json": {
       "model_id": "01c8247a292e41bc9c906203876fc6fa",
       "version_major": 2,
       "version_minor": 0
      },
      "text/plain": [
       "  0%|          | 0/20 [00:00<?, ?it/s]"
      ]
     },
     "metadata": {},
     "output_type": "display_data"
    },
    {
     "data": {
      "application/vnd.jupyter.widget-view+json": {
       "model_id": "43bc50ecc56b4ab191e5827bdc4a4881",
       "version_major": 2,
       "version_minor": 0
      },
      "text/plain": [
       "  0%|          | 0/133 [00:00<?, ?Batch/s]"
      ]
     },
     "metadata": {},
     "output_type": "display_data"
    },
    {
     "data": {
      "application/vnd.jupyter.widget-view+json": {
       "model_id": "c05148b3a3bd4967883151bb9354b387",
       "version_major": 2,
       "version_minor": 0
      },
      "text/plain": [
       "  0%|          | 0/20 [00:00<?, ?it/s]"
      ]
     },
     "metadata": {},
     "output_type": "display_data"
    },
    {
     "data": {
      "application/vnd.jupyter.widget-view+json": {
       "model_id": "8de1d2fdca2241bc911d1434533dec42",
       "version_major": 2,
       "version_minor": 0
      },
      "text/plain": [
       "  0%|          | 0/133 [00:00<?, ?Batch/s]"
      ]
     },
     "metadata": {},
     "output_type": "display_data"
    },
    {
     "data": {
      "application/vnd.jupyter.widget-view+json": {
       "model_id": "4a7ec4037418425f8ae6f7d5597057c7",
       "version_major": 2,
       "version_minor": 0
      },
      "text/plain": [
       "  0%|          | 0/20 [00:00<?, ?it/s]"
      ]
     },
     "metadata": {},
     "output_type": "display_data"
    },
    {
     "data": {
      "application/vnd.jupyter.widget-view+json": {
       "model_id": "e6cfef38971648009e1f17399e128bb3",
       "version_major": 2,
       "version_minor": 0
      },
      "text/plain": [
       "  0%|          | 0/133 [00:00<?, ?Batch/s]"
      ]
     },
     "metadata": {},
     "output_type": "display_data"
    },
    {
     "data": {
      "application/vnd.jupyter.widget-view+json": {
       "model_id": "9cfff517ffa248c7bbf37966d449629c",
       "version_major": 2,
       "version_minor": 0
      },
      "text/plain": [
       "  0%|          | 0/20 [00:00<?, ?it/s]"
      ]
     },
     "metadata": {},
     "output_type": "display_data"
    },
    {
     "data": {
      "application/vnd.jupyter.widget-view+json": {
       "model_id": "1fabc59c930c4ca28e951fd09e3d6d45",
       "version_major": 2,
       "version_minor": 0
      },
      "text/plain": [
       "  0%|          | 0/133 [00:00<?, ?Batch/s]"
      ]
     },
     "metadata": {},
     "output_type": "display_data"
    },
    {
     "data": {
      "application/vnd.jupyter.widget-view+json": {
       "model_id": "934ab07cba264d2ca6dfd3a683a9071e",
       "version_major": 2,
       "version_minor": 0
      },
      "text/plain": [
       "  0%|          | 0/20 [00:00<?, ?it/s]"
      ]
     },
     "metadata": {},
     "output_type": "display_data"
    },
    {
     "data": {
      "application/vnd.jupyter.widget-view+json": {
       "model_id": "556ca8c0d5864fabb9b083d2ca42ae18",
       "version_major": 2,
       "version_minor": 0
      },
      "text/plain": [
       "  0%|          | 0/133 [00:00<?, ?Batch/s]"
      ]
     },
     "metadata": {},
     "output_type": "display_data"
    },
    {
     "data": {
      "application/vnd.jupyter.widget-view+json": {
       "model_id": "d4afb5c58bb947b89af13d52c827fca9",
       "version_major": 2,
       "version_minor": 0
      },
      "text/plain": [
       "  0%|          | 0/20 [00:00<?, ?it/s]"
      ]
     },
     "metadata": {},
     "output_type": "display_data"
    },
    {
     "data": {
      "application/vnd.jupyter.widget-view+json": {
       "model_id": "6182fe424b7b4820a621b4cff9669905",
       "version_major": 2,
       "version_minor": 0
      },
      "text/plain": [
       "  0%|          | 0/133 [00:00<?, ?Batch/s]"
      ]
     },
     "metadata": {},
     "output_type": "display_data"
    },
    {
     "data": {
      "application/vnd.jupyter.widget-view+json": {
       "model_id": "b8ab1b74fe7c4498bb537198e8b65b67",
       "version_major": 2,
       "version_minor": 0
      },
      "text/plain": [
       "  0%|          | 0/20 [00:00<?, ?it/s]"
      ]
     },
     "metadata": {},
     "output_type": "display_data"
    },
    {
     "data": {
      "application/vnd.jupyter.widget-view+json": {
       "model_id": "082f07d58eab4e58bd9f7e545da94a41",
       "version_major": 2,
       "version_minor": 0
      },
      "text/plain": [
       "  0%|          | 0/133 [00:00<?, ?Batch/s]"
      ]
     },
     "metadata": {},
     "output_type": "display_data"
    },
    {
     "data": {
      "application/vnd.jupyter.widget-view+json": {
       "model_id": "81d2cad43620410aba7f8390917cca4b",
       "version_major": 2,
       "version_minor": 0
      },
      "text/plain": [
       "  0%|          | 0/20 [00:00<?, ?it/s]"
      ]
     },
     "metadata": {},
     "output_type": "display_data"
    },
    {
     "data": {
      "application/vnd.jupyter.widget-view+json": {
       "model_id": "2908f4351b9f4d2e83441ce8813a386c",
       "version_major": 2,
       "version_minor": 0
      },
      "text/plain": [
       "  0%|          | 0/133 [00:00<?, ?Batch/s]"
      ]
     },
     "metadata": {},
     "output_type": "display_data"
    },
    {
     "data": {
      "application/vnd.jupyter.widget-view+json": {
       "model_id": "956e6e20c7fd478493d3e10957654807",
       "version_major": 2,
       "version_minor": 0
      },
      "text/plain": [
       "  0%|          | 0/20 [00:00<?, ?it/s]"
      ]
     },
     "metadata": {},
     "output_type": "display_data"
    },
    {
     "data": {
      "application/vnd.jupyter.widget-view+json": {
       "model_id": "561acf6a9ffd465b9e46ed88c11414bb",
       "version_major": 2,
       "version_minor": 0
      },
      "text/plain": [
       "  0%|          | 0/133 [00:00<?, ?Batch/s]"
      ]
     },
     "metadata": {},
     "output_type": "display_data"
    },
    {
     "data": {
      "application/vnd.jupyter.widget-view+json": {
       "model_id": "b6117d382fb24b7a91d9b8e851251e1d",
       "version_major": 2,
       "version_minor": 0
      },
      "text/plain": [
       "  0%|          | 0/20 [00:00<?, ?it/s]"
      ]
     },
     "metadata": {},
     "output_type": "display_data"
    },
    {
     "data": {
      "application/vnd.jupyter.widget-view+json": {
       "model_id": "74034ab6f62346dcb84090caf8a6b78c",
       "version_major": 2,
       "version_minor": 0
      },
      "text/plain": [
       "  0%|          | 0/133 [00:00<?, ?Batch/s]"
      ]
     },
     "metadata": {},
     "output_type": "display_data"
    },
    {
     "data": {
      "application/vnd.jupyter.widget-view+json": {
       "model_id": "68ab95829f32433aad1db7a2b4928765",
       "version_major": 2,
       "version_minor": 0
      },
      "text/plain": [
       "  0%|          | 0/20 [00:00<?, ?it/s]"
      ]
     },
     "metadata": {},
     "output_type": "display_data"
    },
    {
     "data": {
      "application/vnd.jupyter.widget-view+json": {
       "model_id": "71eaf8aff79d48e4aa7b47434dac925d",
       "version_major": 2,
       "version_minor": 0
      },
      "text/plain": [
       "  0%|          | 0/133 [00:00<?, ?Batch/s]"
      ]
     },
     "metadata": {},
     "output_type": "display_data"
    },
    {
     "data": {
      "application/vnd.jupyter.widget-view+json": {
       "model_id": "484ce929f9364ff38cf2ca6080dfc28a",
       "version_major": 2,
       "version_minor": 0
      },
      "text/plain": [
       "  0%|          | 0/20 [00:00<?, ?it/s]"
      ]
     },
     "metadata": {},
     "output_type": "display_data"
    },
    {
     "data": {
      "application/vnd.jupyter.widget-view+json": {
       "model_id": "0fbc536b94844015a5098603fbf783e1",
       "version_major": 2,
       "version_minor": 0
      },
      "text/plain": [
       "  0%|          | 0/133 [00:00<?, ?Batch/s]"
      ]
     },
     "metadata": {},
     "output_type": "display_data"
    },
    {
     "data": {
      "application/vnd.jupyter.widget-view+json": {
       "model_id": "2c3e97f9895e4f01a33776b09455e345",
       "version_major": 2,
       "version_minor": 0
      },
      "text/plain": [
       "  0%|          | 0/20 [00:00<?, ?it/s]"
      ]
     },
     "metadata": {},
     "output_type": "display_data"
    },
    {
     "data": {
      "application/vnd.jupyter.widget-view+json": {
       "model_id": "d39b72c0afa248118c4c98e6ae8d9028",
       "version_major": 2,
       "version_minor": 0
      },
      "text/plain": [
       "  0%|          | 0/133 [00:00<?, ?Batch/s]"
      ]
     },
     "metadata": {},
     "output_type": "display_data"
    },
    {
     "data": {
      "application/vnd.jupyter.widget-view+json": {
       "model_id": "71bb0bad59214f33aa5ff1f9f0ee92a8",
       "version_major": 2,
       "version_minor": 0
      },
      "text/plain": [
       "  0%|          | 0/20 [00:00<?, ?it/s]"
      ]
     },
     "metadata": {},
     "output_type": "display_data"
    },
    {
     "data": {
      "application/vnd.jupyter.widget-view+json": {
       "model_id": "5cd70517a9c3476abaca547e20f54fb9",
       "version_major": 2,
       "version_minor": 0
      },
      "text/plain": [
       "  0%|          | 0/133 [00:00<?, ?Batch/s]"
      ]
     },
     "metadata": {},
     "output_type": "display_data"
    },
    {
     "data": {
      "application/vnd.jupyter.widget-view+json": {
       "model_id": "a52e4381a3c04d3aa58ffb6a2084a4f2",
       "version_major": 2,
       "version_minor": 0
      },
      "text/plain": [
       "  0%|          | 0/20 [00:00<?, ?it/s]"
      ]
     },
     "metadata": {},
     "output_type": "display_data"
    },
    {
     "data": {
      "application/vnd.jupyter.widget-view+json": {
       "model_id": "c2ecccc5245649f0b34808fd8bd11f6d",
       "version_major": 2,
       "version_minor": 0
      },
      "text/plain": [
       "  0%|          | 0/133 [00:00<?, ?Batch/s]"
      ]
     },
     "metadata": {},
     "output_type": "display_data"
    },
    {
     "data": {
      "application/vnd.jupyter.widget-view+json": {
       "model_id": "f56a922ad1f442008fbc14bebb816537",
       "version_major": 2,
       "version_minor": 0
      },
      "text/plain": [
       "  0%|          | 0/20 [00:00<?, ?it/s]"
      ]
     },
     "metadata": {},
     "output_type": "display_data"
    },
    {
     "data": {
      "application/vnd.jupyter.widget-view+json": {
       "model_id": "6ae5b02d90d04f9094dadfb87c00ff1f",
       "version_major": 2,
       "version_minor": 0
      },
      "text/plain": [
       "  0%|          | 0/133 [00:00<?, ?Batch/s]"
      ]
     },
     "metadata": {},
     "output_type": "display_data"
    },
    {
     "data": {
      "application/vnd.jupyter.widget-view+json": {
       "model_id": "6e6c2866c4944b008578ef23c0ddac08",
       "version_major": 2,
       "version_minor": 0
      },
      "text/plain": [
       "  0%|          | 0/20 [00:00<?, ?it/s]"
      ]
     },
     "metadata": {},
     "output_type": "display_data"
    },
    {
     "data": {
      "application/vnd.jupyter.widget-view+json": {
       "model_id": "1703dd71fd30400b983c614ff6bbacc5",
       "version_major": 2,
       "version_minor": 0
      },
      "text/plain": [
       "  0%|          | 0/133 [00:00<?, ?Batch/s]"
      ]
     },
     "metadata": {},
     "output_type": "display_data"
    },
    {
     "data": {
      "application/vnd.jupyter.widget-view+json": {
       "model_id": "352da34df13d42128333577502d6659b",
       "version_major": 2,
       "version_minor": 0
      },
      "text/plain": [
       "  0%|          | 0/20 [00:00<?, ?it/s]"
      ]
     },
     "metadata": {},
     "output_type": "display_data"
    },
    {
     "data": {
      "application/vnd.jupyter.widget-view+json": {
       "model_id": "550426f2ccd6491f81f8e3d6d9e50deb",
       "version_major": 2,
       "version_minor": 0
      },
      "text/plain": [
       "  0%|          | 0/133 [00:00<?, ?Batch/s]"
      ]
     },
     "metadata": {},
     "output_type": "display_data"
    },
    {
     "data": {
      "application/vnd.jupyter.widget-view+json": {
       "model_id": "7eaa0f5a10664c0c8e14aa37f7fe0063",
       "version_major": 2,
       "version_minor": 0
      },
      "text/plain": [
       "  0%|          | 0/20 [00:00<?, ?it/s]"
      ]
     },
     "metadata": {},
     "output_type": "display_data"
    },
    {
     "data": {
      "application/vnd.jupyter.widget-view+json": {
       "model_id": "86fc6dc0109a46aebfc5b59b1b9fbbb4",
       "version_major": 2,
       "version_minor": 0
      },
      "text/plain": [
       "  0%|          | 0/133 [00:00<?, ?Batch/s]"
      ]
     },
     "metadata": {},
     "output_type": "display_data"
    },
    {
     "data": {
      "application/vnd.jupyter.widget-view+json": {
       "model_id": "ce70d66ea34d4a46b9a3ff6640fdf04c",
       "version_major": 2,
       "version_minor": 0
      },
      "text/plain": [
       "  0%|          | 0/20 [00:00<?, ?it/s]"
      ]
     },
     "metadata": {},
     "output_type": "display_data"
    },
    {
     "data": {
      "application/vnd.jupyter.widget-view+json": {
       "model_id": "b30a0c55cbac4408af277785e7075115",
       "version_major": 2,
       "version_minor": 0
      },
      "text/plain": [
       "  0%|          | 0/133 [00:00<?, ?Batch/s]"
      ]
     },
     "metadata": {},
     "output_type": "display_data"
    },
    {
     "data": {
      "application/vnd.jupyter.widget-view+json": {
       "model_id": "2a55942d3c2644378dd3fba329e53d93",
       "version_major": 2,
       "version_minor": 0
      },
      "text/plain": [
       "  0%|          | 0/20 [00:00<?, ?it/s]"
      ]
     },
     "metadata": {},
     "output_type": "display_data"
    },
    {
     "data": {
      "application/vnd.jupyter.widget-view+json": {
       "model_id": "8587cb48be874bdf867e80ef4896cf84",
       "version_major": 2,
       "version_minor": 0
      },
      "text/plain": [
       "  0%|          | 0/133 [00:00<?, ?Batch/s]"
      ]
     },
     "metadata": {},
     "output_type": "display_data"
    },
    {
     "data": {
      "application/vnd.jupyter.widget-view+json": {
       "model_id": "32409ceedf56488b9d6a40de992b536d",
       "version_major": 2,
       "version_minor": 0
      },
      "text/plain": [
       "  0%|          | 0/20 [00:00<?, ?it/s]"
      ]
     },
     "metadata": {},
     "output_type": "display_data"
    },
    {
     "data": {
      "application/vnd.jupyter.widget-view+json": {
       "model_id": "952b77287e274d768bea671094847e66",
       "version_major": 2,
       "version_minor": 0
      },
      "text/plain": [
       "  0%|          | 0/133 [00:00<?, ?Batch/s]"
      ]
     },
     "metadata": {},
     "output_type": "display_data"
    },
    {
     "data": {
      "application/vnd.jupyter.widget-view+json": {
       "model_id": "ee815ac1df9e4782ad24518e7a59aaa0",
       "version_major": 2,
       "version_minor": 0
      },
      "text/plain": [
       "  0%|          | 0/20 [00:00<?, ?it/s]"
      ]
     },
     "metadata": {},
     "output_type": "display_data"
    },
    {
     "data": {
      "application/vnd.jupyter.widget-view+json": {
       "model_id": "2c6c31fb705b400cbd24219903a4b79d",
       "version_major": 2,
       "version_minor": 0
      },
      "text/plain": [
       "  0%|          | 0/133 [00:00<?, ?Batch/s]"
      ]
     },
     "metadata": {},
     "output_type": "display_data"
    },
    {
     "data": {
      "application/vnd.jupyter.widget-view+json": {
       "model_id": "f39b96b0f1924ff6bdc1618d9b128adc",
       "version_major": 2,
       "version_minor": 0
      },
      "text/plain": [
       "  0%|          | 0/20 [00:00<?, ?it/s]"
      ]
     },
     "metadata": {},
     "output_type": "display_data"
    },
    {
     "data": {
      "application/vnd.jupyter.widget-view+json": {
       "model_id": "d44c7a4d7c1b4c1583b9576391b7b075",
       "version_major": 2,
       "version_minor": 0
      },
      "text/plain": [
       "  0%|          | 0/133 [00:00<?, ?Batch/s]"
      ]
     },
     "metadata": {},
     "output_type": "display_data"
    },
    {
     "data": {
      "application/vnd.jupyter.widget-view+json": {
       "model_id": "06f056035b8949fe95cbaa5d26cb19ac",
       "version_major": 2,
       "version_minor": 0
      },
      "text/plain": [
       "  0%|          | 0/20 [00:00<?, ?it/s]"
      ]
     },
     "metadata": {},
     "output_type": "display_data"
    },
    {
     "data": {
      "application/vnd.jupyter.widget-view+json": {
       "model_id": "a1c28650444c488a888cf099a35bbecf",
       "version_major": 2,
       "version_minor": 0
      },
      "text/plain": [
       "  0%|          | 0/133 [00:00<?, ?Batch/s]"
      ]
     },
     "metadata": {},
     "output_type": "display_data"
    },
    {
     "data": {
      "application/vnd.jupyter.widget-view+json": {
       "model_id": "d75ca36dc326425a9ad3374d237e9455",
       "version_major": 2,
       "version_minor": 0
      },
      "text/plain": [
       "  0%|          | 0/20 [00:00<?, ?it/s]"
      ]
     },
     "metadata": {},
     "output_type": "display_data"
    },
    {
     "data": {
      "application/vnd.jupyter.widget-view+json": {
       "model_id": "871033ef99ca4057811e413b77f5f7fb",
       "version_major": 2,
       "version_minor": 0
      },
      "text/plain": [
       "  0%|          | 0/133 [00:00<?, ?Batch/s]"
      ]
     },
     "metadata": {},
     "output_type": "display_data"
    },
    {
     "data": {
      "application/vnd.jupyter.widget-view+json": {
       "model_id": "2e0238a2f7514042b9f710653753807b",
       "version_major": 2,
       "version_minor": 0
      },
      "text/plain": [
       "  0%|          | 0/20 [00:00<?, ?it/s]"
      ]
     },
     "metadata": {},
     "output_type": "display_data"
    },
    {
     "data": {
      "application/vnd.jupyter.widget-view+json": {
       "model_id": "6684d5a6cbf649108949028ee0eb4c28",
       "version_major": 2,
       "version_minor": 0
      },
      "text/plain": [
       "  0%|          | 0/133 [00:00<?, ?Batch/s]"
      ]
     },
     "metadata": {},
     "output_type": "display_data"
    },
    {
     "data": {
      "application/vnd.jupyter.widget-view+json": {
       "model_id": "d2f133f7457040369b11eefb3e999eee",
       "version_major": 2,
       "version_minor": 0
      },
      "text/plain": [
       "  0%|          | 0/20 [00:00<?, ?it/s]"
      ]
     },
     "metadata": {},
     "output_type": "display_data"
    },
    {
     "data": {
      "application/vnd.jupyter.widget-view+json": {
       "model_id": "50deee7117ed4fc3a06a3157553c3941",
       "version_major": 2,
       "version_minor": 0
      },
      "text/plain": [
       "  0%|          | 0/133 [00:00<?, ?Batch/s]"
      ]
     },
     "metadata": {},
     "output_type": "display_data"
    },
    {
     "data": {
      "application/vnd.jupyter.widget-view+json": {
       "model_id": "fdb8e143940a4580a67984dca8a0c8dd",
       "version_major": 2,
       "version_minor": 0
      },
      "text/plain": [
       "  0%|          | 0/20 [00:00<?, ?it/s]"
      ]
     },
     "metadata": {},
     "output_type": "display_data"
    },
    {
     "data": {
      "application/vnd.jupyter.widget-view+json": {
       "model_id": "0aee73b45ba44190a391818bd75e009e",
       "version_major": 2,
       "version_minor": 0
      },
      "text/plain": [
       "  0%|          | 0/133 [00:00<?, ?Batch/s]"
      ]
     },
     "metadata": {},
     "output_type": "display_data"
    },
    {
     "data": {
      "application/vnd.jupyter.widget-view+json": {
       "model_id": "1e6c3099bbc34df5aaf8746a58c0abad",
       "version_major": 2,
       "version_minor": 0
      },
      "text/plain": [
       "  0%|          | 0/20 [00:00<?, ?it/s]"
      ]
     },
     "metadata": {},
     "output_type": "display_data"
    },
    {
     "data": {
      "application/vnd.jupyter.widget-view+json": {
       "model_id": "35ee11dadbcb4fe8b74a39fcef9442eb",
       "version_major": 2,
       "version_minor": 0
      },
      "text/plain": [
       "  0%|          | 0/133 [00:00<?, ?Batch/s]"
      ]
     },
     "metadata": {},
     "output_type": "display_data"
    },
    {
     "data": {
      "application/vnd.jupyter.widget-view+json": {
       "model_id": "31ad4543caf9475a9c7f927b20326d79",
       "version_major": 2,
       "version_minor": 0
      },
      "text/plain": [
       "  0%|          | 0/20 [00:00<?, ?it/s]"
      ]
     },
     "metadata": {},
     "output_type": "display_data"
    },
    {
     "data": {
      "application/vnd.jupyter.widget-view+json": {
       "model_id": "2c955d872a2b44dcbb21da33acefc40c",
       "version_major": 2,
       "version_minor": 0
      },
      "text/plain": [
       "  0%|          | 0/133 [00:00<?, ?Batch/s]"
      ]
     },
     "metadata": {},
     "output_type": "display_data"
    },
    {
     "data": {
      "application/vnd.jupyter.widget-view+json": {
       "model_id": "ea05a812f6cc412e8811a29edb13f347",
       "version_major": 2,
       "version_minor": 0
      },
      "text/plain": [
       "  0%|          | 0/20 [00:00<?, ?it/s]"
      ]
     },
     "metadata": {},
     "output_type": "display_data"
    },
    {
     "data": {
      "application/vnd.jupyter.widget-view+json": {
       "model_id": "da39c62bae154c17a248679655b7b1be",
       "version_major": 2,
       "version_minor": 0
      },
      "text/plain": [
       "  0%|          | 0/133 [00:00<?, ?Batch/s]"
      ]
     },
     "metadata": {},
     "output_type": "display_data"
    },
    {
     "data": {
      "application/vnd.jupyter.widget-view+json": {
       "model_id": "98c8214657e54971a6c6ade6025145cf",
       "version_major": 2,
       "version_minor": 0
      },
      "text/plain": [
       "  0%|          | 0/20 [00:00<?, ?it/s]"
      ]
     },
     "metadata": {},
     "output_type": "display_data"
    },
    {
     "data": {
      "application/vnd.jupyter.widget-view+json": {
       "model_id": "8411bad52d8642299644813387ede07c",
       "version_major": 2,
       "version_minor": 0
      },
      "text/plain": [
       "  0%|          | 0/133 [00:00<?, ?Batch/s]"
      ]
     },
     "metadata": {},
     "output_type": "display_data"
    },
    {
     "data": {
      "application/vnd.jupyter.widget-view+json": {
       "model_id": "c5cbd2f9bd6047c98c46abdc411fe9db",
       "version_major": 2,
       "version_minor": 0
      },
      "text/plain": [
       "  0%|          | 0/20 [00:00<?, ?it/s]"
      ]
     },
     "metadata": {},
     "output_type": "display_data"
    },
    {
     "data": {
      "application/vnd.jupyter.widget-view+json": {
       "model_id": "76003e72d6494e6fa110450a110e30f1",
       "version_major": 2,
       "version_minor": 0
      },
      "text/plain": [
       "  0%|          | 0/133 [00:00<?, ?Batch/s]"
      ]
     },
     "metadata": {},
     "output_type": "display_data"
    },
    {
     "data": {
      "application/vnd.jupyter.widget-view+json": {
       "model_id": "3d0794837bc0407c8360817338df2c27",
       "version_major": 2,
       "version_minor": 0
      },
      "text/plain": [
       "  0%|          | 0/20 [00:00<?, ?it/s]"
      ]
     },
     "metadata": {},
     "output_type": "display_data"
    },
    {
     "data": {
      "application/vnd.jupyter.widget-view+json": {
       "model_id": "d1523924f48f4bf1b967152bd213dd56",
       "version_major": 2,
       "version_minor": 0
      },
      "text/plain": [
       "  0%|          | 0/133 [00:00<?, ?Batch/s]"
      ]
     },
     "metadata": {},
     "output_type": "display_data"
    },
    {
     "data": {
      "application/vnd.jupyter.widget-view+json": {
       "model_id": "26c8bb3924e54ddd8012235bfc614271",
       "version_major": 2,
       "version_minor": 0
      },
      "text/plain": [
       "  0%|          | 0/20 [00:00<?, ?it/s]"
      ]
     },
     "metadata": {},
     "output_type": "display_data"
    },
    {
     "data": {
      "application/vnd.jupyter.widget-view+json": {
       "model_id": "92666ed1589c4f71ad34bc4dc6648523",
       "version_major": 2,
       "version_minor": 0
      },
      "text/plain": [
       "  0%|          | 0/133 [00:00<?, ?Batch/s]"
      ]
     },
     "metadata": {},
     "output_type": "display_data"
    },
    {
     "data": {
      "application/vnd.jupyter.widget-view+json": {
       "model_id": "4965168009ae493fa636448aef366a83",
       "version_major": 2,
       "version_minor": 0
      },
      "text/plain": [
       "  0%|          | 0/20 [00:00<?, ?it/s]"
      ]
     },
     "metadata": {},
     "output_type": "display_data"
    },
    {
     "data": {
      "application/vnd.jupyter.widget-view+json": {
       "model_id": "1c564a64b8c4406294dab602e32c03db",
       "version_major": 2,
       "version_minor": 0
      },
      "text/plain": [
       "  0%|          | 0/133 [00:00<?, ?Batch/s]"
      ]
     },
     "metadata": {},
     "output_type": "display_data"
    },
    {
     "data": {
      "application/vnd.jupyter.widget-view+json": {
       "model_id": "295d38cf3b5e4a1ba3a854115d80895d",
       "version_major": 2,
       "version_minor": 0
      },
      "text/plain": [
       "  0%|          | 0/20 [00:00<?, ?it/s]"
      ]
     },
     "metadata": {},
     "output_type": "display_data"
    },
    {
     "data": {
      "application/vnd.jupyter.widget-view+json": {
       "model_id": "f07d35f7f72f42a7891eca96f0180827",
       "version_major": 2,
       "version_minor": 0
      },
      "text/plain": [
       "  0%|          | 0/133 [00:00<?, ?Batch/s]"
      ]
     },
     "metadata": {},
     "output_type": "display_data"
    },
    {
     "data": {
      "application/vnd.jupyter.widget-view+json": {
       "model_id": "15f143cb961b462ca058a1bcfb00094d",
       "version_major": 2,
       "version_minor": 0
      },
      "text/plain": [
       "  0%|          | 0/20 [00:00<?, ?it/s]"
      ]
     },
     "metadata": {},
     "output_type": "display_data"
    },
    {
     "data": {
      "application/vnd.jupyter.widget-view+json": {
       "model_id": "4a27c16a0a004288bc33f402a6700c38",
       "version_major": 2,
       "version_minor": 0
      },
      "text/plain": [
       "  0%|          | 0/133 [00:00<?, ?Batch/s]"
      ]
     },
     "metadata": {},
     "output_type": "display_data"
    },
    {
     "data": {
      "application/vnd.jupyter.widget-view+json": {
       "model_id": "88695887b0b04ba3b065d857c23cac74",
       "version_major": 2,
       "version_minor": 0
      },
      "text/plain": [
       "  0%|          | 0/20 [00:00<?, ?it/s]"
      ]
     },
     "metadata": {},
     "output_type": "display_data"
    },
    {
     "data": {
      "application/vnd.jupyter.widget-view+json": {
       "model_id": "2909a586a38a4df5a157b557609e904c",
       "version_major": 2,
       "version_minor": 0
      },
      "text/plain": [
       "  0%|          | 0/133 [00:00<?, ?Batch/s]"
      ]
     },
     "metadata": {},
     "output_type": "display_data"
    },
    {
     "data": {
      "application/vnd.jupyter.widget-view+json": {
       "model_id": "70844ba89fda4d2eaf7ed0e1c101f669",
       "version_major": 2,
       "version_minor": 0
      },
      "text/plain": [
       "  0%|          | 0/20 [00:00<?, ?it/s]"
      ]
     },
     "metadata": {},
     "output_type": "display_data"
    },
    {
     "data": {
      "application/vnd.jupyter.widget-view+json": {
       "model_id": "f9f54db59c044145b04b74dc8d4eaca7",
       "version_major": 2,
       "version_minor": 0
      },
      "text/plain": [
       "  0%|          | 0/133 [00:00<?, ?Batch/s]"
      ]
     },
     "metadata": {},
     "output_type": "display_data"
    },
    {
     "data": {
      "application/vnd.jupyter.widget-view+json": {
       "model_id": "f0e2aac337a84bfb9ea1b44fd3b00d05",
       "version_major": 2,
       "version_minor": 0
      },
      "text/plain": [
       "  0%|          | 0/20 [00:00<?, ?it/s]"
      ]
     },
     "metadata": {},
     "output_type": "display_data"
    },
    {
     "data": {
      "application/vnd.jupyter.widget-view+json": {
       "model_id": "e356be4d46654515b3320b23b62a8fac",
       "version_major": 2,
       "version_minor": 0
      },
      "text/plain": [
       "  0%|          | 0/133 [00:00<?, ?Batch/s]"
      ]
     },
     "metadata": {},
     "output_type": "display_data"
    },
    {
     "data": {
      "application/vnd.jupyter.widget-view+json": {
       "model_id": "33388e1101a847eca5508e40b6bfaf7e",
       "version_major": 2,
       "version_minor": 0
      },
      "text/plain": [
       "  0%|          | 0/20 [00:00<?, ?it/s]"
      ]
     },
     "metadata": {},
     "output_type": "display_data"
    },
    {
     "data": {
      "application/vnd.jupyter.widget-view+json": {
       "model_id": "249d4ed0fda6471285ad46d16c643a27",
       "version_major": 2,
       "version_minor": 0
      },
      "text/plain": [
       "  0%|          | 0/133 [00:00<?, ?Batch/s]"
      ]
     },
     "metadata": {},
     "output_type": "display_data"
    },
    {
     "data": {
      "application/vnd.jupyter.widget-view+json": {
       "model_id": "f60ac8b37ffb42c5a3b356c4e5e50baf",
       "version_major": 2,
       "version_minor": 0
      },
      "text/plain": [
       "  0%|          | 0/20 [00:00<?, ?it/s]"
      ]
     },
     "metadata": {},
     "output_type": "display_data"
    },
    {
     "data": {
      "application/vnd.jupyter.widget-view+json": {
       "model_id": "c3c3a230411642b781d768ac8d71cccb",
       "version_major": 2,
       "version_minor": 0
      },
      "text/plain": [
       "  0%|          | 0/133 [00:00<?, ?Batch/s]"
      ]
     },
     "metadata": {},
     "output_type": "display_data"
    },
    {
     "data": {
      "application/vnd.jupyter.widget-view+json": {
       "model_id": "c0a5059ebed046e9bf5f0958ec5cd62e",
       "version_major": 2,
       "version_minor": 0
      },
      "text/plain": [
       "  0%|          | 0/20 [00:00<?, ?it/s]"
      ]
     },
     "metadata": {},
     "output_type": "display_data"
    },
    {
     "data": {
      "application/vnd.jupyter.widget-view+json": {
       "model_id": "f79baf8de6344f44be406aaf5da122d0",
       "version_major": 2,
       "version_minor": 0
      },
      "text/plain": [
       "  0%|          | 0/133 [00:00<?, ?Batch/s]"
      ]
     },
     "metadata": {},
     "output_type": "display_data"
    },
    {
     "data": {
      "application/vnd.jupyter.widget-view+json": {
       "model_id": "c70219e4a5a142ed9393954a70f21183",
       "version_major": 2,
       "version_minor": 0
      },
      "text/plain": [
       "  0%|          | 0/20 [00:00<?, ?it/s]"
      ]
     },
     "metadata": {},
     "output_type": "display_data"
    },
    {
     "data": {
      "application/vnd.jupyter.widget-view+json": {
       "model_id": "45e1732246ce4cbb8cc74d0c7a88eb15",
       "version_major": 2,
       "version_minor": 0
      },
      "text/plain": [
       "  0%|          | 0/133 [00:00<?, ?Batch/s]"
      ]
     },
     "metadata": {},
     "output_type": "display_data"
    },
    {
     "data": {
      "application/vnd.jupyter.widget-view+json": {
       "model_id": "de0c30ff236c4ae29e40ff904ca6b664",
       "version_major": 2,
       "version_minor": 0
      },
      "text/plain": [
       "  0%|          | 0/20 [00:00<?, ?it/s]"
      ]
     },
     "metadata": {},
     "output_type": "display_data"
    },
    {
     "data": {
      "application/vnd.jupyter.widget-view+json": {
       "model_id": "7346f391931d4f96b3a69329261a6712",
       "version_major": 2,
       "version_minor": 0
      },
      "text/plain": [
       "  0%|          | 0/133 [00:00<?, ?Batch/s]"
      ]
     },
     "metadata": {},
     "output_type": "display_data"
    },
    {
     "data": {
      "application/vnd.jupyter.widget-view+json": {
       "model_id": "2b95832004ce4f8a9717b9346434afc7",
       "version_major": 2,
       "version_minor": 0
      },
      "text/plain": [
       "  0%|          | 0/20 [00:00<?, ?it/s]"
      ]
     },
     "metadata": {},
     "output_type": "display_data"
    },
    {
     "data": {
      "application/vnd.jupyter.widget-view+json": {
       "model_id": "c7f4824140f941fc8292f4e592134981",
       "version_major": 2,
       "version_minor": 0
      },
      "text/plain": [
       "  0%|          | 0/133 [00:00<?, ?Batch/s]"
      ]
     },
     "metadata": {},
     "output_type": "display_data"
    },
    {
     "data": {
      "application/vnd.jupyter.widget-view+json": {
       "model_id": "3177f27dcd8c4217ad47f719385f9325",
       "version_major": 2,
       "version_minor": 0
      },
      "text/plain": [
       "  0%|          | 0/20 [00:00<?, ?it/s]"
      ]
     },
     "metadata": {},
     "output_type": "display_data"
    },
    {
     "data": {
      "application/vnd.jupyter.widget-view+json": {
       "model_id": "7c92f54f61454d0e94b56f58ca994c0e",
       "version_major": 2,
       "version_minor": 0
      },
      "text/plain": [
       "  0%|          | 0/133 [00:00<?, ?Batch/s]"
      ]
     },
     "metadata": {},
     "output_type": "display_data"
    },
    {
     "data": {
      "application/vnd.jupyter.widget-view+json": {
       "model_id": "62798ce3da0447dbbf5d0b6395ddd9ee",
       "version_major": 2,
       "version_minor": 0
      },
      "text/plain": [
       "  0%|          | 0/20 [00:00<?, ?it/s]"
      ]
     },
     "metadata": {},
     "output_type": "display_data"
    },
    {
     "data": {
      "application/vnd.jupyter.widget-view+json": {
       "model_id": "09f10955d293495eaa238fa60385730d",
       "version_major": 2,
       "version_minor": 0
      },
      "text/plain": [
       "  0%|          | 0/133 [00:00<?, ?Batch/s]"
      ]
     },
     "metadata": {},
     "output_type": "display_data"
    },
    {
     "data": {
      "application/vnd.jupyter.widget-view+json": {
       "model_id": "75462970bfdd49979dacf710beb58715",
       "version_major": 2,
       "version_minor": 0
      },
      "text/plain": [
       "  0%|          | 0/20 [00:00<?, ?it/s]"
      ]
     },
     "metadata": {},
     "output_type": "display_data"
    },
    {
     "data": {
      "application/vnd.jupyter.widget-view+json": {
       "model_id": "6fb21ee6a1804b34a25bb83125377dbe",
       "version_major": 2,
       "version_minor": 0
      },
      "text/plain": [
       "  0%|          | 0/133 [00:00<?, ?Batch/s]"
      ]
     },
     "metadata": {},
     "output_type": "display_data"
    },
    {
     "data": {
      "application/vnd.jupyter.widget-view+json": {
       "model_id": "5a3a87ec14674c82a9278958e8cbdff3",
       "version_major": 2,
       "version_minor": 0
      },
      "text/plain": [
       "  0%|          | 0/20 [00:00<?, ?it/s]"
      ]
     },
     "metadata": {},
     "output_type": "display_data"
    },
    {
     "data": {
      "application/vnd.jupyter.widget-view+json": {
       "model_id": "c507182fff2442c4901a55725158d3ed",
       "version_major": 2,
       "version_minor": 0
      },
      "text/plain": [
       "  0%|          | 0/133 [00:00<?, ?Batch/s]"
      ]
     },
     "metadata": {},
     "output_type": "display_data"
    },
    {
     "data": {
      "application/vnd.jupyter.widget-view+json": {
       "model_id": "99fb526e732b4123a40a5b797f1fa439",
       "version_major": 2,
       "version_minor": 0
      },
      "text/plain": [
       "  0%|          | 0/20 [00:00<?, ?it/s]"
      ]
     },
     "metadata": {},
     "output_type": "display_data"
    },
    {
     "data": {
      "application/vnd.jupyter.widget-view+json": {
       "model_id": "cea1b803c1ac4bef8556f6d3b3b54c49",
       "version_major": 2,
       "version_minor": 0
      },
      "text/plain": [
       "  0%|          | 0/133 [00:00<?, ?Batch/s]"
      ]
     },
     "metadata": {},
     "output_type": "display_data"
    },
    {
     "data": {
      "application/vnd.jupyter.widget-view+json": {
       "model_id": "ab3d2dfcd0604d3684fd3de9b910b7bb",
       "version_major": 2,
       "version_minor": 0
      },
      "text/plain": [
       "  0%|          | 0/20 [00:00<?, ?it/s]"
      ]
     },
     "metadata": {},
     "output_type": "display_data"
    },
    {
     "data": {
      "application/vnd.jupyter.widget-view+json": {
       "model_id": "3b03a4ae4d6d49e8b4c45c518fc19938",
       "version_major": 2,
       "version_minor": 0
      },
      "text/plain": [
       "  0%|          | 0/133 [00:00<?, ?Batch/s]"
      ]
     },
     "metadata": {},
     "output_type": "display_data"
    },
    {
     "data": {
      "application/vnd.jupyter.widget-view+json": {
       "model_id": "182f641583df4818bcc0e7347be74af8",
       "version_major": 2,
       "version_minor": 0
      },
      "text/plain": [
       "  0%|          | 0/20 [00:00<?, ?it/s]"
      ]
     },
     "metadata": {},
     "output_type": "display_data"
    },
    {
     "data": {
      "application/vnd.jupyter.widget-view+json": {
       "model_id": "e16c5fb6000f4c108ca01bb1848ae437",
       "version_major": 2,
       "version_minor": 0
      },
      "text/plain": [
       "  0%|          | 0/133 [00:00<?, ?Batch/s]"
      ]
     },
     "metadata": {},
     "output_type": "display_data"
    },
    {
     "data": {
      "application/vnd.jupyter.widget-view+json": {
       "model_id": "b064b2939a3f4afd897ef187aa4ee948",
       "version_major": 2,
       "version_minor": 0
      },
      "text/plain": [
       "  0%|          | 0/20 [00:00<?, ?it/s]"
      ]
     },
     "metadata": {},
     "output_type": "display_data"
    },
    {
     "data": {
      "application/vnd.jupyter.widget-view+json": {
       "model_id": "df866a2de4844ee4ae7ef0d80f4657d0",
       "version_major": 2,
       "version_minor": 0
      },
      "text/plain": [
       "  0%|          | 0/133 [00:00<?, ?Batch/s]"
      ]
     },
     "metadata": {},
     "output_type": "display_data"
    },
    {
     "data": {
      "application/vnd.jupyter.widget-view+json": {
       "model_id": "f3604ddb3faa4c5f8ba79fc0a2c0b57a",
       "version_major": 2,
       "version_minor": 0
      },
      "text/plain": [
       "  0%|          | 0/20 [00:00<?, ?it/s]"
      ]
     },
     "metadata": {},
     "output_type": "display_data"
    },
    {
     "data": {
      "application/vnd.jupyter.widget-view+json": {
       "model_id": "2b971822e70542d4ad5130e05a089cd7",
       "version_major": 2,
       "version_minor": 0
      },
      "text/plain": [
       "  0%|          | 0/133 [00:00<?, ?Batch/s]"
      ]
     },
     "metadata": {},
     "output_type": "display_data"
    },
    {
     "data": {
      "application/vnd.jupyter.widget-view+json": {
       "model_id": "fe5c99266556475c9a8452c022b21804",
       "version_major": 2,
       "version_minor": 0
      },
      "text/plain": [
       "  0%|          | 0/20 [00:00<?, ?it/s]"
      ]
     },
     "metadata": {},
     "output_type": "display_data"
    }
   ],
   "source": [
    "pretrain_epochs = 80\n",
    "\n",
    "# Placeholders\n",
    "losses_data2vec = {}\n",
    "target_vars = {}\n",
    "prediction_vars = {}\n",
    "validation_losses_data2vec = {}\n",
    "validation_target_vars = {}\n",
    "validation_prediction_vars = {}\n",
    "processed = 0\n",
    "\n",
    "# Learning rate scheduler\n",
    "scheduler_data2vec = OneCycleLR(optimizer_data2vec,\n",
    "                       max_lr=0.0005, # change if desired\n",
    "                       epochs=pretrain_epochs,\n",
    "                       steps_per_epoch=len(pretrain_loader),\n",
    "                       anneal_strategy=\"cos\")\n",
    "\n",
    "data2vec = data2vec.to(device)\n",
    "data2vec.train()\n",
    "for epoch in (progress_bar := tqdm(range(pretrain_epochs), unit=\"Epoch\")):\n",
    "    running_loss = 0.0\n",
    "    running_target_var = 0.\n",
    "    running_prediction_var = 0.\n",
    "    for batch_index, data, in tqdm(enumerate(pretrain_loader), total=len(pretrain_loader), unit=\"Batch\"):\n",
    "        waveforms, _ = data\n",
    "\n",
    "        features = mfcc(waveforms)\n",
    "\n",
    "        batch_size = features.size(dim=0)\n",
    "        audio_length = features.size(dim=-1)\n",
    "\n",
    "\n",
    "        mask = mask_generator(shape=(batch_size, audio_length)).to(device)\n",
    "        mask = torch.cat([torch.zeros(batch_size, 1, device=mask.device), mask], dim=1).bool()\n",
    "\n",
    "        loss, target_var, prediction_var = train_single_batch_data2vec(data2vec, features, mask, optimizer_data2vec, criterion_data2vec, device)\n",
    "        data2vec.ema_step()\n",
    "\n",
    "        running_loss += loss\n",
    "        running_target_var += target_var\n",
    "        running_prediction_var += prediction_var\n",
    "        processed += batch_size\n",
    "\n",
    "        progress_bar.set_description(f\"Epoch loss: {running_loss/(batch_index+1):.2f} | Prediction variance: {running_prediction_var/(batch_index+1):.2f} | Target variance: {running_target_var/(batch_index+1):.2f} | Batch step: {batch_index + 1}/{len(pretrain_loader)} - \")\n",
    "\n",
    "        scheduler_data2vec.step()\n",
    "\n",
    "    losses_data2vec[str(epoch)] = running_loss/len(pretrain_loader)\n",
    "    target_vars[str(epoch)] = running_target_var/len(pretrain_loader)\n",
    "    prediction_vars[str(epoch)] = running_prediction_var/len(pretrain_loader)\n",
    "\n",
    "    validation_loss, validation_target_var, validation_prediction_var = evaluate_data2vec(net=data2vec, mask_generator=mask_generator,\n",
    "                                                                                          criterion=criterion_data2vec,\n",
    "                                                                                          dataloader=validation_loader, device=device)\n",
    "\n",
    "    validation_losses_data2vec[str(epoch)] = validation_loss\n",
    "    validation_target_vars[str(epoch)] = validation_target_var\n",
    "    validation_prediction_vars[str(epoch)] = validation_prediction_var"
   ]
  },
  {
   "cell_type": "code",
   "execution_count": 22,
   "metadata": {},
   "outputs": [
    {
     "data": {
      "image/png": "[encoded data removed]",
      "text/plain": [
       "<Figure size 640x480 with 2 Axes>"
      ]
     },
     "metadata": {},
     "output_type": "display_data"
    }
   ],
   "source": [
    "plot_loss_and_variance(losses_data2vec, target_vars, prediction_vars, grid=True)"
   ]
  },
  {
   "cell_type": "code",
   "execution_count": 23,
   "metadata": {},
   "outputs": [
    {
     "data": {
      "application/vnd.jupyter.widget-view+json": {
       "model_id": "e9f6468b4b0d4817ae0b4ef3b944d92b",
       "version_major": 2,
       "version_minor": 0
      },
      "text/plain": [
       "  0%|          | 0/22 [00:00<?, ?it/s]"
      ]
     },
     "metadata": {},
     "output_type": "display_data"
    }
   ],
   "source": [
    "test_loss, test_target_var, test_prediction_var = evaluate_data2vec(data2vec, mask_generator, criterion_data2vec, test_loader, device)"
   ]
  },
  {
   "cell_type": "code",
   "execution_count": 24,
   "metadata": {},
   "outputs": [
    {
     "name": "stdout",
     "output_type": "stream",
     "text": [
      "Test loss: 146.38, Test target variance: 0.99, Test prediction variance: 0.77\n"
     ]
    }
   ],
   "source": [
    "print(f\"Test loss: {test_loss:.2f}, Test target variance: {test_target_var:.2f}, Test prediction variance: {test_prediction_var:.2f}\")"
   ]
  },
  {
   "cell_type": "markdown",
   "metadata": {},
   "source": [
    "# Fine-tuning"
   ]
  },
  {
   "cell_type": "code",
   "execution_count": 22,
   "metadata": {},
   "outputs": [
    {
     "name": "stdout",
     "output_type": "stream",
     "text": [
      "Checkpoint already available skipping download...\n",
      "Loading checkpoint weights...\n",
      "Checkpoint loaded.\n"
     ]
    },
    {
     "name": "stderr",
     "output_type": "stream",
     "text": [
      "/tmp/ipykernel_4561/3760449604.py:583: FutureWarning: You are using `torch.load` with `weights_only=False` (the current default value), which uses the default pickle module implicitly. It is possible to construct malicious pickle data which will execute arbitrary code during unpickling (See https://github.com/pytorch/pytorch/blob/main/SECURITY.md#untrusted-models for more details). In a future release, the default value for `weights_only` will be flipped to `True`. This limits the functions that could be executed during unpickling. Arbitrary objects will no longer be allowed to be loaded via this mode unless they are explicitly allowlisted by the user via `torch.serialization.add_safe_globals`. We recommend you start setting `weights_only=True` for any use case where you don't have full control of the loaded file. Please open an issue on GitHub for any issues related to this experimental feature.\n",
      "  ckpt = torch.load(\"./pretrained_encoder.pth\", map_location=torch.device('cpu'))\n"
     ]
    }
   ],
   "source": [
    "use_checkpoint = True # set use_checkpoint=True to load a pretrained model, otherwise set it to False.\n",
    "\n",
    "if use_checkpoint:\n",
    "  kwt_pretrained = KWT(**kwt_hparams)\n",
    "  kwt_pretrained = load_pretrained_checkpoint(kwt_pretrained)\n",
    "else:\n",
    "  kwt_pretrained = copy.deepcopy(data2vec.encoder.cpu())\n",
    "\n",
    "kwt_pretrained = kwt_pretrained.to(device)"
   ]
  },
  {
   "cell_type": "code",
   "execution_count": 23,
   "metadata": {},
   "outputs": [],
   "source": [
    "epochs = 15\n",
    "\n",
    "train_loader = DataLoader(reduced_train_set, shuffle=True, batch_size=512, num_workers=2, pin_memory=True,\n",
    "                          collate_fn=collate_fn)\n",
    "validation_loader = DataLoader(validation_set, shuffle=False, batch_size=512, num_workers=2, pin_memory=True,\n",
    "                         collate_fn=collate_fn)\n",
    "test_loader = DataLoader(test_set, shuffle=False, batch_size=512, num_workers=2, pin_memory=True,\n",
    "                         collate_fn=collate_fn)\n",
    "\n",
    "optimizer_finetune = torch.optim.AdamW(kwt_pretrained.parameters(), lr =0.001, weight_decay=0.1)\n",
    "\n",
    "warmup_rate = 0.10\n",
    "n_warmup = round(epochs*warmup_rate)\n",
    "schedulers = {\"warmup\": WarmUpLR(optimizer_finetune,\n",
    "                                 total_iters=len(train_loader) * n_warmup),\n",
    "              \"scheduler\": CosineAnnealingLR(optimizer_finetune,\n",
    "                                             len(train_loader) * max(1, epochs - n_warmup),\n",
    "                                             eta_min=1e-8)}\n",
    "\n",
    "criterion_finetune = nn.CrossEntropyLoss(label_smoothing=0.1)"
   ]
  },
  {
   "cell_type": "code",
   "execution_count": 24,
   "metadata": {},
   "outputs": [
    {
     "data": {
      "application/vnd.jupyter.widget-view+json": {
       "model_id": "f98c92b16f2e4c35bb76451c1f2644f3",
       "version_major": 2,
       "version_minor": 0
      },
      "text/plain": [
       "  0%|          | 0/15 [00:00<?, ?Epoch/s]"
      ]
     },
     "metadata": {},
     "output_type": "display_data"
    },
    {
     "data": {
      "application/vnd.jupyter.widget-view+json": {
       "model_id": "52e1f10a056a42aa8d921ecc7e434297",
       "version_major": 2,
       "version_minor": 0
      },
      "text/plain": [
       "  0%|          | 0/34 [00:00<?, ?batch/s]"
      ]
     },
     "metadata": {},
     "output_type": "display_data"
    },
    {
     "data": {
      "application/vnd.jupyter.widget-view+json": {
       "model_id": "6f4d63101311426a9c298a6ce2ad268a",
       "version_major": 2,
       "version_minor": 0
      },
      "text/plain": [
       "  0%|          | 0/20 [00:00<?, ?batch/s]"
      ]
     },
     "metadata": {},
     "output_type": "display_data"
    },
    {
     "data": {
      "application/vnd.jupyter.widget-view+json": {
       "model_id": "411b88569a01493bb628f328ebffa7d3",
       "version_major": 2,
       "version_minor": 0
      },
      "text/plain": [
       "  0%|          | 0/34 [00:00<?, ?batch/s]"
      ]
     },
     "metadata": {},
     "output_type": "display_data"
    },
    {
     "data": {
      "application/vnd.jupyter.widget-view+json": {
       "model_id": "57d246baf9264ca2a42fac1f3dbe98e3",
       "version_major": 2,
       "version_minor": 0
      },
      "text/plain": [
       "  0%|          | 0/20 [00:00<?, ?batch/s]"
      ]
     },
     "metadata": {},
     "output_type": "display_data"
    },
    {
     "data": {
      "application/vnd.jupyter.widget-view+json": {
       "model_id": "d0e44e124b81404a9a0c991f91fe84f8",
       "version_major": 2,
       "version_minor": 0
      },
      "text/plain": [
       "  0%|          | 0/34 [00:00<?, ?batch/s]"
      ]
     },
     "metadata": {},
     "output_type": "display_data"
    },
    {
     "data": {
      "application/vnd.jupyter.widget-view+json": {
       "model_id": "d73d592b941a44d284ebc50f40944522",
       "version_major": 2,
       "version_minor": 0
      },
      "text/plain": [
       "  0%|          | 0/20 [00:00<?, ?batch/s]"
      ]
     },
     "metadata": {},
     "output_type": "display_data"
    },
    {
     "data": {
      "application/vnd.jupyter.widget-view+json": {
       "model_id": "d7792237190b42fe93fe1b0e0a199134",
       "version_major": 2,
       "version_minor": 0
      },
      "text/plain": [
       "  0%|          | 0/34 [00:00<?, ?batch/s]"
      ]
     },
     "metadata": {},
     "output_type": "display_data"
    },
    {
     "data": {
      "application/vnd.jupyter.widget-view+json": {
       "model_id": "5d6dac99ab8546b9b2d6706057a5e9a7",
       "version_major": 2,
       "version_minor": 0
      },
      "text/plain": [
       "  0%|          | 0/20 [00:00<?, ?batch/s]"
      ]
     },
     "metadata": {},
     "output_type": "display_data"
    },
    {
     "data": {
      "application/vnd.jupyter.widget-view+json": {
       "model_id": "2c9134ba14f84797ac99cbcd1c46927d",
       "version_major": 2,
       "version_minor": 0
      },
      "text/plain": [
       "  0%|          | 0/34 [00:00<?, ?batch/s]"
      ]
     },
     "metadata": {},
     "output_type": "display_data"
    },
    {
     "data": {
      "application/vnd.jupyter.widget-view+json": {
       "model_id": "bd8510c07f1a4d93be63775cdcb45156",
       "version_major": 2,
       "version_minor": 0
      },
      "text/plain": [
       "  0%|          | 0/20 [00:00<?, ?batch/s]"
      ]
     },
     "metadata": {},
     "output_type": "display_data"
    },
    {
     "data": {
      "application/vnd.jupyter.widget-view+json": {
       "model_id": "c0928cda139e4cad8091491b498efd5f",
       "version_major": 2,
       "version_minor": 0
      },
      "text/plain": [
       "  0%|          | 0/34 [00:00<?, ?batch/s]"
      ]
     },
     "metadata": {},
     "output_type": "display_data"
    },
    {
     "data": {
      "application/vnd.jupyter.widget-view+json": {
       "model_id": "2b3256a41f5b46b8b125a1aff66cd492",
       "version_major": 2,
       "version_minor": 0
      },
      "text/plain": [
       "  0%|          | 0/20 [00:00<?, ?batch/s]"
      ]
     },
     "metadata": {},
     "output_type": "display_data"
    },
    {
     "data": {
      "application/vnd.jupyter.widget-view+json": {
       "model_id": "941b8a26c28349068d92f412735031cf",
       "version_major": 2,
       "version_minor": 0
      },
      "text/plain": [
       "  0%|          | 0/34 [00:00<?, ?batch/s]"
      ]
     },
     "metadata": {},
     "output_type": "display_data"
    },
    {
     "data": {
      "application/vnd.jupyter.widget-view+json": {
       "model_id": "3848f8dc8583482283125e721c52ffc8",
       "version_major": 2,
       "version_minor": 0
      },
      "text/plain": [
       "  0%|          | 0/20 [00:00<?, ?batch/s]"
      ]
     },
     "metadata": {},
     "output_type": "display_data"
    },
    {
     "data": {
      "application/vnd.jupyter.widget-view+json": {
       "model_id": "6f64394bef394d6b84af4c2dacc0028b",
       "version_major": 2,
       "version_minor": 0
      },
      "text/plain": [
       "  0%|          | 0/34 [00:00<?, ?batch/s]"
      ]
     },
     "metadata": {},
     "output_type": "display_data"
    },
    {
     "data": {
      "application/vnd.jupyter.widget-view+json": {
       "model_id": "99c36c84ca25474086fecfaa626b3a4f",
       "version_major": 2,
       "version_minor": 0
      },
      "text/plain": [
       "  0%|          | 0/20 [00:00<?, ?batch/s]"
      ]
     },
     "metadata": {},
     "output_type": "display_data"
    },
    {
     "data": {
      "application/vnd.jupyter.widget-view+json": {
       "model_id": "11332fa042994555bb07edd6fc8252b3",
       "version_major": 2,
       "version_minor": 0
      },
      "text/plain": [
       "  0%|          | 0/34 [00:00<?, ?batch/s]"
      ]
     },
     "metadata": {},
     "output_type": "display_data"
    },
    {
     "data": {
      "application/vnd.jupyter.widget-view+json": {
       "model_id": "809366e3fa0e49c5878bba4850a818e8",
       "version_major": 2,
       "version_minor": 0
      },
      "text/plain": [
       "  0%|          | 0/20 [00:00<?, ?batch/s]"
      ]
     },
     "metadata": {},
     "output_type": "display_data"
    },
    {
     "data": {
      "application/vnd.jupyter.widget-view+json": {
       "model_id": "7d66cab51b924364b213b14224b401af",
       "version_major": 2,
       "version_minor": 0
      },
      "text/plain": [
       "  0%|          | 0/34 [00:00<?, ?batch/s]"
      ]
     },
     "metadata": {},
     "output_type": "display_data"
    },
    {
     "data": {
      "application/vnd.jupyter.widget-view+json": {
       "model_id": "f9ac964637184eb19ecf9ce09ce25197",
       "version_major": 2,
       "version_minor": 0
      },
      "text/plain": [
       "  0%|          | 0/20 [00:00<?, ?batch/s]"
      ]
     },
     "metadata": {},
     "output_type": "display_data"
    },
    {
     "data": {
      "application/vnd.jupyter.widget-view+json": {
       "model_id": "f7fdc1bd0d074835ae641c36f890c447",
       "version_major": 2,
       "version_minor": 0
      },
      "text/plain": [
       "  0%|          | 0/34 [00:00<?, ?batch/s]"
      ]
     },
     "metadata": {},
     "output_type": "display_data"
    },
    {
     "data": {
      "application/vnd.jupyter.widget-view+json": {
       "model_id": "e76c01f7b6b34a5bba0136dc434f9405",
       "version_major": 2,
       "version_minor": 0
      },
      "text/plain": [
       "  0%|          | 0/20 [00:00<?, ?batch/s]"
      ]
     },
     "metadata": {},
     "output_type": "display_data"
    },
    {
     "data": {
      "application/vnd.jupyter.widget-view+json": {
       "model_id": "a1f384dd32f6485fae40d464bba3c318",
       "version_major": 2,
       "version_minor": 0
      },
      "text/plain": [
       "  0%|          | 0/34 [00:00<?, ?batch/s]"
      ]
     },
     "metadata": {},
     "output_type": "display_data"
    },
    {
     "data": {
      "application/vnd.jupyter.widget-view+json": {
       "model_id": "4da85645dd93439287d66ebf4e7cfb0c",
       "version_major": 2,
       "version_minor": 0
      },
      "text/plain": [
       "  0%|          | 0/20 [00:00<?, ?batch/s]"
      ]
     },
     "metadata": {},
     "output_type": "display_data"
    },
    {
     "data": {
      "application/vnd.jupyter.widget-view+json": {
       "model_id": "dc012020324a432993038feeedf58308",
       "version_major": 2,
       "version_minor": 0
      },
      "text/plain": [
       "  0%|          | 0/34 [00:00<?, ?batch/s]"
      ]
     },
     "metadata": {},
     "output_type": "display_data"
    },
    {
     "data": {
      "application/vnd.jupyter.widget-view+json": {
       "model_id": "b6d10752102e401f8bb3ccadd30d562c",
       "version_major": 2,
       "version_minor": 0
      },
      "text/plain": [
       "  0%|          | 0/20 [00:00<?, ?batch/s]"
      ]
     },
     "metadata": {},
     "output_type": "display_data"
    },
    {
     "data": {
      "application/vnd.jupyter.widget-view+json": {
       "model_id": "4e990ced71814815bf74cf6e04fa4aad",
       "version_major": 2,
       "version_minor": 0
      },
      "text/plain": [
       "  0%|          | 0/34 [00:00<?, ?batch/s]"
      ]
     },
     "metadata": {},
     "output_type": "display_data"
    },
    {
     "data": {
      "application/vnd.jupyter.widget-view+json": {
       "model_id": "34fa999b34f54a9db9ece89efdd9dc44",
       "version_major": 2,
       "version_minor": 0
      },
      "text/plain": [
       "  0%|          | 0/20 [00:00<?, ?batch/s]"
      ]
     },
     "metadata": {},
     "output_type": "display_data"
    },
    {
     "data": {
      "application/vnd.jupyter.widget-view+json": {
       "model_id": "c741b92e957d4fad8eed00df29b91840",
       "version_major": 2,
       "version_minor": 0
      },
      "text/plain": [
       "  0%|          | 0/34 [00:00<?, ?batch/s]"
      ]
     },
     "metadata": {},
     "output_type": "display_data"
    },
    {
     "data": {
      "application/vnd.jupyter.widget-view+json": {
       "model_id": "1450ba5abf3348209440d675fbd8bfd9",
       "version_major": 2,
       "version_minor": 0
      },
      "text/plain": [
       "  0%|          | 0/20 [00:00<?, ?batch/s]"
      ]
     },
     "metadata": {},
     "output_type": "display_data"
    }
   ],
   "source": [
    "losses_finetune = {}\n",
    "accuracies_finetune = {}\n",
    "\n",
    "validation_losses_finetune = {}\n",
    "validation_accuracies_finetune = {}\n",
    "\n",
    "kwt_pretrained.train()\n",
    "for epoch in (progress_bar := tqdm(range(epochs), unit=\"Epoch\")):\n",
    "    running_loss = 0.0\n",
    "    running_correct = 0\n",
    "    processed = 0\n",
    "    for batch_index, data in tqdm(enumerate(train_loader), leave=False, position=1, total=len(train_loader), unit=\"batch\"):\n",
    "        waveforms, labels = data\n",
    "\n",
    "        features = mfcc(waveforms)\n",
    "\n",
    "        loss, correct = train_single_batch(kwt_pretrained, features, labels, optimizer_finetune, criterion_finetune, device)\n",
    "        running_loss += loss\n",
    "        running_correct += correct\n",
    "        processed += features.size(0)\n",
    "\n",
    "        progress_bar.set_description(f\"Epoch loss: {running_loss/(batch_index+1):.2f} | Epoch accuracy: {running_correct/(processed)*100:.2f}% | Batch step: {batch_index + 1}/{len(train_loader)} - \")\n",
    "\n",
    "        if schedulers[\"warmup\"] is not None and epoch < n_warmup:\n",
    "            schedulers[\"warmup\"].step()\n",
    "\n",
    "        elif schedulers[\"scheduler\"] is not None:\n",
    "            schedulers[\"scheduler\"].step()\n",
    "\n",
    "    losses_finetune[str(epoch)] = running_loss/len(train_loader)\n",
    "    accuracies_finetune[str(epoch)] = running_correct/len(train_loader.dataset)\n",
    "\n",
    "    validation_accuracy, validation_loss = evaluate(kwt_pretrained, criterion_baseline, validation_loader, device)\n",
    "    validation_losses_finetune[str(epoch)] = validation_loss\n",
    "    validation_accuracies_finetune[str(epoch)] = validation_accuracy"
   ]
  },
  {
   "cell_type": "code",
   "execution_count": 25,
   "metadata": {},
   "outputs": [
    {
     "name": "stdout",
     "output_type": "stream",
     "text": [
      "Last finetune train loss: 1.19, Last finetune train accuracy: 82.82%\n"
     ]
    },
    {
     "data": {
      "image/png": "[encoded data removed]",
      "text/plain": [
       "<Figure size 640x480 with 2 Axes>"
      ]
     },
     "metadata": {},
     "output_type": "display_data"
    }
   ],
   "source": [
    "print(f\"Last finetune train loss: {losses_finetune[sorted(losses_finetune.keys())[-1]]:.2f}, Last finetune train accuracy: {accuracies_finetune[sorted(accuracies_finetune.keys())[-1]]*100:.2f}%\")\n",
    "plot_loss_accuracy(losses_finetune, accuracies_finetune, validation_losses_finetune, validation_accuracies_finetune, grid=True)"
   ]
  },
  {
   "cell_type": "code",
   "execution_count": 26,
   "metadata": {},
   "outputs": [
    {
     "data": {
      "application/vnd.jupyter.widget-view+json": {
       "model_id": "89d4f63bedab4312a38f164785bf0b61",
       "version_major": 2,
       "version_minor": 0
      },
      "text/plain": [
       "  0%|          | 0/22 [00:00<?, ?batch/s]"
      ]
     },
     "metadata": {},
     "output_type": "display_data"
    },
    {
     "name": "stdout",
     "output_type": "stream",
     "text": [
      " Test loss: 1.21, Test accuracy: 81.84%\n"
     ]
    }
   ],
   "source": [
    "test_acc, test_loss = evaluate(kwt_pretrained, criterion_finetune, test_loader, device)\n",
    "print(f\" Test loss: {test_loss:.2f}, Test accuracy: {test_acc*100:.2f}%\")"
   ]
  },
  {
   "cell_type": "markdown",
   "metadata": {},
   "source": [
    "# Training Comparison"
   ]
  },
  {
   "cell_type": "code",
   "execution_count": 27,
   "metadata": {},
   "outputs": [
    {
     "data": {
      "image/png": "[encoded data removed]",
      "text/plain": [
       "<Figure size 640x480 with 2 Axes>"
      ]
     },
     "metadata": {},
     "output_type": "display_data"
    }
   ],
   "source": [
    "fig, axs = plt.subplots(2, 1, sharex=True)\n",
    "\n",
    "baseline_epochs_list = list(losses.keys())\n",
    "baseline_epochs_list = [int(number) for number in baseline_epochs_list]\n",
    "finetune_epochs_list = list(losses_finetune.keys())\n",
    "finetune_epochs_list = [int(number) for number in finetune_epochs_list]\n",
    "\n",
    "losses_baseline_list = list(losses.values())\n",
    "losses_finetune_list = list(losses_finetune.values())\n",
    "accuracies_baseline_list = list(accuracies.values())\n",
    "accuracies_finetune_list = list(accuracies_finetune.values())\n",
    "\n",
    "axs[0].plot(baseline_epochs_list, losses_baseline_list, label=\"Baseline\")\n",
    "axs[0].plot(finetune_epochs_list, losses_finetune_list, label=\"Finetune\")\n",
    "axs[1].plot(baseline_epochs_list, accuracies_baseline_list, label=\"Baseline\")\n",
    "axs[1].plot(finetune_epochs_list, accuracies_finetune_list, label=\"Finetune\")\n",
    "\n",
    "axs[0].set_ylabel(\"Loss\")\n",
    "axs[1].set_xlabel(\"Epoch\")\n",
    "axs[1].set_ylabel(\"Accuracy\")\n",
    "\n",
    "axs[0].grid()\n",
    "axs[1].grid()\n",
    "\n",
    "axs[0].legend()\n",
    "axs[1].legend()\n",
    "\n",
    "plt.show()"
   ]
  },
  {
   "cell_type": "markdown",
   "metadata": {},
   "source": [
    "## Validation Comparison"
   ]
  },
  {
   "cell_type": "code",
   "execution_count": 28,
   "metadata": {},
   "outputs": [
    {
     "data": {
      "image/png": "[encoded data removed]",
      "text/plain": [
       "<Figure size 640x480 with 2 Axes>"
      ]
     },
     "metadata": {},
     "output_type": "display_data"
    }
   ],
   "source": [
    "fig, axs = plt.subplots(2, 1, sharex=True)\n",
    "\n",
    "validation_baseline_epochs_list = list(validation_losses.keys())\n",
    "validation_baseline_epochs_list = [int(number) for number in validation_baseline_epochs_list]\n",
    "validation_finetune_epochs_list = list(validation_losses_finetune.keys())\n",
    "validation_finetune_epochs_list = [int(number) for number in validation_finetune_epochs_list]\n",
    "\n",
    "validation_losses_baseline_list = list(validation_losses.values())\n",
    "validation_losses_finetune_list = list(validation_losses_finetune.values())\n",
    "validation_accuracies_baseline_list = list(validation_accuracies.values())\n",
    "validation_accuracies_finetune_list = list(validation_accuracies_finetune.values())\n",
    "\n",
    "axs[0].plot(validation_baseline_epochs_list, validation_losses_baseline_list, label=\"Baseline\")\n",
    "axs[0].plot(validation_finetune_epochs_list, validation_losses_finetune_list, label=\"Finetune\")\n",
    "axs[1].plot(validation_baseline_epochs_list, validation_accuracies_baseline_list, label=\"Baseline\")\n",
    "axs[1].plot(validation_finetune_epochs_list, validation_accuracies_finetune_list, label=\"Finetune\")\n",
    "\n",
    "axs[0].set_ylabel(\"Loss\")\n",
    "axs[1].set_xlabel(\"Epoch\")\n",
    "axs[1].set_ylabel(\"Accuracy\")\n",
    "\n",
    "axs[0].grid()\n",
    "axs[1].grid()\n",
    "\n",
    "axs[0].legend()\n",
    "axs[1].legend()\n",
    "\n",
    "plt.show()"
   ]
  },
  {
   "cell_type": "code",
   "execution_count": null,
   "metadata": {},
   "outputs": [],
   "source": []
  }
 ],
 "metadata": {
  "kernelspec": {
   "display_name": "test",
   "language": "python",
   "name": "python3"
  },
  "language_info": {
   "codemirror_mode": {
    "name": "ipython",
    "version": 3
   },
   "file_extension": ".py",
   "mimetype": "text/x-python",
   "name": "python",
   "nbconvert_exporter": "python",
   "pygments_lexer": "ipython3",
   "version": "3.10.13"
  }
 },
 "nbformat": 4,
 "nbformat_minor": 2
}
